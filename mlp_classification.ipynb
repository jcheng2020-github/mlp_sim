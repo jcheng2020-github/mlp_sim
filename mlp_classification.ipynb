{
 "cells": [
  {
   "cell_type": "code",
   "execution_count": 1,
   "id": "a681e197-3743-48b1-a5d9-eb97a2ef44d5",
   "metadata": {
    "tags": []
   },
   "outputs": [
    {
     "name": "stdout",
     "output_type": "stream",
     "text": [
      "wine.variables\n",
      "                            name     role         type demographic  \\\n",
      "0                          class   Target  Categorical        None   \n",
      "1                        Alcohol  Feature   Continuous        None   \n",
      "2                      Malicacid  Feature   Continuous        None   \n",
      "3                            Ash  Feature   Continuous        None   \n",
      "4              Alcalinity_of_ash  Feature   Continuous        None   \n",
      "5                      Magnesium  Feature      Integer        None   \n",
      "6                  Total_phenols  Feature   Continuous        None   \n",
      "7                     Flavanoids  Feature   Continuous        None   \n",
      "8           Nonflavanoid_phenols  Feature   Continuous        None   \n",
      "9                Proanthocyanins  Feature   Continuous        None   \n",
      "10               Color_intensity  Feature   Continuous        None   \n",
      "11                           Hue  Feature   Continuous        None   \n",
      "12  0D280_0D315_of_diluted_wines  Feature   Continuous        None   \n",
      "13                       Proline  Feature      Integer        None   \n",
      "\n",
      "   description units missing_values  \n",
      "0         None  None             no  \n",
      "1         None  None             no  \n",
      "2         None  None             no  \n",
      "3         None  None             no  \n",
      "4         None  None             no  \n",
      "5         None  None             no  \n",
      "6         None  None             no  \n",
      "7         None  None             no  \n",
      "8         None  None             no  \n",
      "9         None  None             no  \n",
      "10        None  None             no  \n",
      "11        None  None             no  \n",
      "12        None  None             no  \n",
      "13        None  None             no  \n",
      "wine.data.features\n",
      "     Alcohol  Malicacid   Ash  Alcalinity_of_ash  Magnesium  Total_phenols  \\\n",
      "0      14.23       1.71  2.43               15.6        127           2.80   \n",
      "1      13.20       1.78  2.14               11.2        100           2.65   \n",
      "2      13.16       2.36  2.67               18.6        101           2.80   \n",
      "3      14.37       1.95  2.50               16.8        113           3.85   \n",
      "4      13.24       2.59  2.87               21.0        118           2.80   \n",
      "..       ...        ...   ...                ...        ...            ...   \n",
      "173    13.71       5.65  2.45               20.5         95           1.68   \n",
      "174    13.40       3.91  2.48               23.0        102           1.80   \n",
      "175    13.27       4.28  2.26               20.0        120           1.59   \n",
      "176    13.17       2.59  2.37               20.0        120           1.65   \n",
      "177    14.13       4.10  2.74               24.5         96           2.05   \n",
      "\n",
      "     Flavanoids  Nonflavanoid_phenols  Proanthocyanins  Color_intensity   Hue  \\\n",
      "0          3.06                  0.28             2.29             5.64  1.04   \n",
      "1          2.76                  0.26             1.28             4.38  1.05   \n",
      "2          3.24                  0.30             2.81             5.68  1.03   \n",
      "3          3.49                  0.24             2.18             7.80  0.86   \n",
      "4          2.69                  0.39             1.82             4.32  1.04   \n",
      "..          ...                   ...              ...              ...   ...   \n",
      "173        0.61                  0.52             1.06             7.70  0.64   \n",
      "174        0.75                  0.43             1.41             7.30  0.70   \n",
      "175        0.69                  0.43             1.35            10.20  0.59   \n",
      "176        0.68                  0.53             1.46             9.30  0.60   \n",
      "177        0.76                  0.56             1.35             9.20  0.61   \n",
      "\n",
      "     0D280_0D315_of_diluted_wines  Proline  \n",
      "0                            3.92     1065  \n",
      "1                            3.40     1050  \n",
      "2                            3.17     1185  \n",
      "3                            3.45     1480  \n",
      "4                            2.93      735  \n",
      "..                            ...      ...  \n",
      "173                          1.74      740  \n",
      "174                          1.56      750  \n",
      "175                          1.56      835  \n",
      "176                          1.62      840  \n",
      "177                          1.60      560  \n",
      "\n",
      "[178 rows x 13 columns]\n",
      "wine.data.targets\n",
      "     class\n",
      "0        1\n",
      "1        1\n",
      "2        1\n",
      "3        1\n",
      "4        1\n",
      "..     ...\n",
      "173      3\n",
      "174      3\n",
      "175      3\n",
      "176      3\n",
      "177      3\n",
      "\n",
      "[178 rows x 1 columns]\n"
     ]
    }
   ],
   "source": [
    "from ucimlrepo import fetch_ucirepo \n",
    "  \n",
    "# fetch dataset \n",
    "wine = fetch_ucirepo(id=109) \n",
    "  \n",
    "# data (as pandas dataframes) \n",
    "X = wine.data.features \n",
    "y = wine.data.targets \n",
    "  \n",
    "# variable information\n",
    "print(\"wine.variables\")\n",
    "print(wine.variables) \n",
    "\n",
    "#features information\n",
    "print(\"wine.data.features\")\n",
    "print(wine.data.features) \n",
    "\n",
    "# targets information\n",
    "print(\"wine.data.targets\")\n",
    "print(wine.data.targets) \n"
   ]
  },
  {
   "cell_type": "code",
   "execution_count": 2,
   "id": "5304f4cc-2f36-40dd-9566-e77e37d72253",
   "metadata": {
    "tags": []
   },
   "outputs": [
    {
     "name": "stdout",
     "output_type": "stream",
     "text": [
      "Early stopping at epoch 280. Best validation accuracy: 100.00%\n",
      "Hidden layers: [10], Learning rate: 0.0001, Epochs: 1000, Activation: relu, Validation Accuracy: 100.00%\n",
      "Early stopping at epoch 280. Best validation accuracy: 100.00%\n",
      "Hidden layers: [10], Learning rate: 0.0001, Epochs: 1000, Activation: sigmoid, Validation Accuracy: 100.00%\n",
      "Early stopping at epoch 200. Best validation accuracy: 94.44%\n",
      "Hidden layers: [10], Learning rate: 0.0001, Epochs: 1000, Activation: tanh, Validation Accuracy: 94.44%\n",
      "Early stopping at epoch 320. Best validation accuracy: 94.44%\n",
      "Hidden layers: [10], Learning rate: 0.0001, Epochs: 2000, Activation: relu, Validation Accuracy: 94.44%\n",
      "Early stopping at epoch 490. Best validation accuracy: 88.89%\n",
      "Hidden layers: [10], Learning rate: 0.0001, Epochs: 2000, Activation: sigmoid, Validation Accuracy: 88.89%\n",
      "Early stopping at epoch 180. Best validation accuracy: 100.00%\n",
      "Hidden layers: [10], Learning rate: 0.0001, Epochs: 2000, Activation: tanh, Validation Accuracy: 100.00%\n",
      "Early stopping at epoch 120. Best validation accuracy: 100.00%\n",
      "Hidden layers: [10], Learning rate: 0.001, Epochs: 1000, Activation: relu, Validation Accuracy: 100.00%\n",
      "Early stopping at epoch 130. Best validation accuracy: 100.00%\n",
      "Hidden layers: [10], Learning rate: 0.001, Epochs: 1000, Activation: sigmoid, Validation Accuracy: 100.00%\n",
      "Early stopping at epoch 110. Best validation accuracy: 100.00%\n",
      "Hidden layers: [10], Learning rate: 0.001, Epochs: 1000, Activation: tanh, Validation Accuracy: 100.00%\n",
      "Early stopping at epoch 150. Best validation accuracy: 100.00%\n",
      "Hidden layers: [10], Learning rate: 0.001, Epochs: 2000, Activation: relu, Validation Accuracy: 94.44%\n",
      "Early stopping at epoch 150. Best validation accuracy: 100.00%\n",
      "Hidden layers: [10], Learning rate: 0.001, Epochs: 2000, Activation: sigmoid, Validation Accuracy: 100.00%\n",
      "Early stopping at epoch 120. Best validation accuracy: 94.44%\n",
      "Hidden layers: [10], Learning rate: 0.001, Epochs: 2000, Activation: tanh, Validation Accuracy: 94.44%\n",
      "Early stopping at epoch 110. Best validation accuracy: 100.00%\n",
      "Hidden layers: [10], Learning rate: 0.01, Epochs: 1000, Activation: relu, Validation Accuracy: 94.44%\n",
      "Early stopping at epoch 110. Best validation accuracy: 100.00%\n",
      "Hidden layers: [10], Learning rate: 0.01, Epochs: 1000, Activation: sigmoid, Validation Accuracy: 100.00%\n",
      "Early stopping at epoch 110. Best validation accuracy: 94.44%\n",
      "Hidden layers: [10], Learning rate: 0.01, Epochs: 1000, Activation: tanh, Validation Accuracy: 94.44%\n",
      "Early stopping at epoch 110. Best validation accuracy: 94.44%\n",
      "Hidden layers: [10], Learning rate: 0.01, Epochs: 2000, Activation: relu, Validation Accuracy: 94.44%\n",
      "Early stopping at epoch 110. Best validation accuracy: 100.00%\n",
      "Hidden layers: [10], Learning rate: 0.01, Epochs: 2000, Activation: sigmoid, Validation Accuracy: 94.44%\n",
      "Early stopping at epoch 110. Best validation accuracy: 100.00%\n",
      "Hidden layers: [10], Learning rate: 0.01, Epochs: 2000, Activation: tanh, Validation Accuracy: 100.00%\n",
      "Early stopping at epoch 100. Best validation accuracy: 38.89%\n",
      "Hidden layers: [10], Learning rate: 0.1, Epochs: 1000, Activation: relu, Validation Accuracy: 38.89%\n"
     ]
    },
    {
     "name": "stderr",
     "output_type": "stream",
     "text": [
      "/scratch/local/46752745/ipykernel_3676114/38202783.py:80: RuntimeWarning: invalid value encountered in divide\n",
      "  return exp_x / exp_x.sum(axis=1, keepdims=True)\n"
     ]
    },
    {
     "name": "stdout",
     "output_type": "stream",
     "text": [
      "Early stopping at epoch 110. Best validation accuracy: 94.44%\n",
      "Hidden layers: [10], Learning rate: 0.1, Epochs: 1000, Activation: sigmoid, Validation Accuracy: 94.44%\n",
      "Early stopping at epoch 120. Best validation accuracy: 100.00%\n",
      "Hidden layers: [10], Learning rate: 0.1, Epochs: 1000, Activation: tanh, Validation Accuracy: 94.44%\n"
     ]
    },
    {
     "name": "stderr",
     "output_type": "stream",
     "text": [
      "/scratch/local/46752745/ipykernel_3676114/38202783.py:80: RuntimeWarning: invalid value encountered in divide\n",
      "  return exp_x / exp_x.sum(axis=1, keepdims=True)\n"
     ]
    },
    {
     "name": "stdout",
     "output_type": "stream",
     "text": [
      "Early stopping at epoch 100. Best validation accuracy: 38.89%\n",
      "Hidden layers: [10], Learning rate: 0.1, Epochs: 2000, Activation: relu, Validation Accuracy: 38.89%\n",
      "Early stopping at epoch 110. Best validation accuracy: 100.00%\n",
      "Hidden layers: [10], Learning rate: 0.1, Epochs: 2000, Activation: sigmoid, Validation Accuracy: 94.44%\n",
      "Early stopping at epoch 110. Best validation accuracy: 94.44%\n",
      "Hidden layers: [10], Learning rate: 0.1, Epochs: 2000, Activation: tanh, Validation Accuracy: 94.44%\n",
      "Early stopping at epoch 130. Best validation accuracy: 72.22%\n",
      "Hidden layers: [10, 10], Learning rate: 0.0001, Epochs: 1000, Activation: relu, Validation Accuracy: 72.22%\n",
      "Early stopping at epoch 100. Best validation accuracy: 22.22%\n",
      "Hidden layers: [10, 10], Learning rate: 0.0001, Epochs: 1000, Activation: sigmoid, Validation Accuracy: 22.22%\n",
      "Early stopping at epoch 120. Best validation accuracy: 88.89%\n",
      "Hidden layers: [10, 10], Learning rate: 0.0001, Epochs: 1000, Activation: tanh, Validation Accuracy: 88.89%\n",
      "Early stopping at epoch 340. Best validation accuracy: 94.44%\n",
      "Hidden layers: [10, 10], Learning rate: 0.0001, Epochs: 2000, Activation: relu, Validation Accuracy: 94.44%\n",
      "Early stopping at epoch 300. Best validation accuracy: 55.56%\n",
      "Hidden layers: [10, 10], Learning rate: 0.0001, Epochs: 2000, Activation: sigmoid, Validation Accuracy: 55.56%\n",
      "Early stopping at epoch 140. Best validation accuracy: 94.44%\n",
      "Hidden layers: [10, 10], Learning rate: 0.0001, Epochs: 2000, Activation: tanh, Validation Accuracy: 94.44%\n",
      "Early stopping at epoch 140. Best validation accuracy: 94.44%\n",
      "Hidden layers: [10, 10], Learning rate: 0.001, Epochs: 1000, Activation: relu, Validation Accuracy: 94.44%\n",
      "Early stopping at epoch 200. Best validation accuracy: 100.00%\n",
      "Hidden layers: [10, 10], Learning rate: 0.001, Epochs: 1000, Activation: sigmoid, Validation Accuracy: 100.00%\n",
      "Early stopping at epoch 150. Best validation accuracy: 100.00%\n",
      "Hidden layers: [10, 10], Learning rate: 0.001, Epochs: 1000, Activation: tanh, Validation Accuracy: 94.44%\n",
      "Early stopping at epoch 130. Best validation accuracy: 100.00%\n",
      "Hidden layers: [10, 10], Learning rate: 0.001, Epochs: 2000, Activation: relu, Validation Accuracy: 94.44%\n",
      "Early stopping at epoch 310. Best validation accuracy: 100.00%\n",
      "Hidden layers: [10, 10], Learning rate: 0.001, Epochs: 2000, Activation: sigmoid, Validation Accuracy: 100.00%\n",
      "Early stopping at epoch 110. Best validation accuracy: 100.00%\n",
      "Hidden layers: [10, 10], Learning rate: 0.001, Epochs: 2000, Activation: tanh, Validation Accuracy: 100.00%\n",
      "Early stopping at epoch 190. Best validation accuracy: 100.00%\n",
      "Hidden layers: [10, 10], Learning rate: 0.01, Epochs: 1000, Activation: relu, Validation Accuracy: 94.44%\n",
      "Early stopping at epoch 120. Best validation accuracy: 100.00%\n",
      "Hidden layers: [10, 10], Learning rate: 0.01, Epochs: 1000, Activation: sigmoid, Validation Accuracy: 100.00%\n",
      "Early stopping at epoch 110. Best validation accuracy: 94.44%\n",
      "Hidden layers: [10, 10], Learning rate: 0.01, Epochs: 1000, Activation: tanh, Validation Accuracy: 94.44%\n",
      "Early stopping at epoch 110. Best validation accuracy: 94.44%\n",
      "Hidden layers: [10, 10], Learning rate: 0.01, Epochs: 2000, Activation: relu, Validation Accuracy: 94.44%\n",
      "Early stopping at epoch 110. Best validation accuracy: 100.00%\n",
      "Hidden layers: [10, 10], Learning rate: 0.01, Epochs: 2000, Activation: sigmoid, Validation Accuracy: 100.00%\n",
      "Early stopping at epoch 110. Best validation accuracy: 94.44%\n",
      "Hidden layers: [10, 10], Learning rate: 0.01, Epochs: 2000, Activation: tanh, Validation Accuracy: 94.44%\n"
     ]
    },
    {
     "name": "stderr",
     "output_type": "stream",
     "text": [
      "/scratch/local/46752745/ipykernel_3676114/38202783.py:80: RuntimeWarning: invalid value encountered in divide\n",
      "  return exp_x / exp_x.sum(axis=1, keepdims=True)\n"
     ]
    },
    {
     "name": "stdout",
     "output_type": "stream",
     "text": [
      "Early stopping at epoch 110. Best validation accuracy: 38.89%\n",
      "Hidden layers: [10, 10], Learning rate: 0.1, Epochs: 1000, Activation: relu, Validation Accuracy: 38.89%\n",
      "Early stopping at epoch 170. Best validation accuracy: 66.67%\n",
      "Hidden layers: [10, 10], Learning rate: 0.1, Epochs: 1000, Activation: sigmoid, Validation Accuracy: 61.11%\n",
      "Early stopping at epoch 160. Best validation accuracy: 94.44%\n",
      "Hidden layers: [10, 10], Learning rate: 0.1, Epochs: 1000, Activation: tanh, Validation Accuracy: 94.44%\n"
     ]
    },
    {
     "name": "stderr",
     "output_type": "stream",
     "text": [
      "/scratch/local/46752745/ipykernel_3676114/38202783.py:80: RuntimeWarning: invalid value encountered in divide\n",
      "  return exp_x / exp_x.sum(axis=1, keepdims=True)\n"
     ]
    },
    {
     "name": "stdout",
     "output_type": "stream",
     "text": [
      "Early stopping at epoch 110. Best validation accuracy: 38.89%\n",
      "Hidden layers: [10, 10], Learning rate: 0.1, Epochs: 2000, Activation: relu, Validation Accuracy: 38.89%\n",
      "Early stopping at epoch 110. Best validation accuracy: 66.67%\n",
      "Hidden layers: [10, 10], Learning rate: 0.1, Epochs: 2000, Activation: sigmoid, Validation Accuracy: 61.11%\n",
      "Early stopping at epoch 130. Best validation accuracy: 100.00%\n",
      "Hidden layers: [10, 10], Learning rate: 0.1, Epochs: 2000, Activation: tanh, Validation Accuracy: 94.44%\n",
      "Early stopping at epoch 160. Best validation accuracy: 94.44%\n",
      "Hidden layers: [20], Learning rate: 0.0001, Epochs: 1000, Activation: relu, Validation Accuracy: 94.44%\n",
      "Early stopping at epoch 280. Best validation accuracy: 94.44%\n",
      "Hidden layers: [20], Learning rate: 0.0001, Epochs: 1000, Activation: sigmoid, Validation Accuracy: 94.44%\n",
      "Early stopping at epoch 120. Best validation accuracy: 100.00%\n",
      "Hidden layers: [20], Learning rate: 0.0001, Epochs: 1000, Activation: tanh, Validation Accuracy: 100.00%\n",
      "Early stopping at epoch 150. Best validation accuracy: 88.89%\n",
      "Hidden layers: [20], Learning rate: 0.0001, Epochs: 2000, Activation: relu, Validation Accuracy: 88.89%\n",
      "Early stopping at epoch 170. Best validation accuracy: 83.33%\n",
      "Hidden layers: [20], Learning rate: 0.0001, Epochs: 2000, Activation: sigmoid, Validation Accuracy: 83.33%\n",
      "Early stopping at epoch 160. Best validation accuracy: 94.44%\n",
      "Hidden layers: [20], Learning rate: 0.0001, Epochs: 2000, Activation: tanh, Validation Accuracy: 94.44%\n",
      "Early stopping at epoch 130. Best validation accuracy: 100.00%\n",
      "Hidden layers: [20], Learning rate: 0.001, Epochs: 1000, Activation: relu, Validation Accuracy: 100.00%\n",
      "Early stopping at epoch 130. Best validation accuracy: 100.00%\n",
      "Hidden layers: [20], Learning rate: 0.001, Epochs: 1000, Activation: sigmoid, Validation Accuracy: 100.00%\n",
      "Early stopping at epoch 110. Best validation accuracy: 94.44%\n",
      "Hidden layers: [20], Learning rate: 0.001, Epochs: 1000, Activation: tanh, Validation Accuracy: 94.44%\n",
      "Early stopping at epoch 110. Best validation accuracy: 94.44%\n",
      "Hidden layers: [20], Learning rate: 0.001, Epochs: 2000, Activation: relu, Validation Accuracy: 94.44%\n",
      "Early stopping at epoch 120. Best validation accuracy: 100.00%\n",
      "Hidden layers: [20], Learning rate: 0.001, Epochs: 2000, Activation: sigmoid, Validation Accuracy: 100.00%\n",
      "Early stopping at epoch 130. Best validation accuracy: 100.00%\n",
      "Hidden layers: [20], Learning rate: 0.001, Epochs: 2000, Activation: tanh, Validation Accuracy: 100.00%\n",
      "Early stopping at epoch 110. Best validation accuracy: 100.00%\n",
      "Hidden layers: [20], Learning rate: 0.01, Epochs: 1000, Activation: relu, Validation Accuracy: 100.00%\n",
      "Early stopping at epoch 110. Best validation accuracy: 100.00%\n",
      "Hidden layers: [20], Learning rate: 0.01, Epochs: 1000, Activation: sigmoid, Validation Accuracy: 100.00%\n",
      "Early stopping at epoch 110. Best validation accuracy: 100.00%\n",
      "Hidden layers: [20], Learning rate: 0.01, Epochs: 1000, Activation: tanh, Validation Accuracy: 100.00%\n",
      "Early stopping at epoch 110. Best validation accuracy: 100.00%\n",
      "Hidden layers: [20], Learning rate: 0.01, Epochs: 2000, Activation: relu, Validation Accuracy: 94.44%\n",
      "Early stopping at epoch 110. Best validation accuracy: 100.00%\n",
      "Hidden layers: [20], Learning rate: 0.01, Epochs: 2000, Activation: sigmoid, Validation Accuracy: 100.00%\n",
      "Early stopping at epoch 110. Best validation accuracy: 100.00%\n",
      "Hidden layers: [20], Learning rate: 0.01, Epochs: 2000, Activation: tanh, Validation Accuracy: 100.00%\n",
      "Early stopping at epoch 100. Best validation accuracy: 44.44%\n",
      "Hidden layers: [20], Learning rate: 0.1, Epochs: 1000, Activation: relu, Validation Accuracy: 38.89%\n",
      "Early stopping at epoch 110. Best validation accuracy: 94.44%\n",
      "Hidden layers: [20], Learning rate: 0.1, Epochs: 1000, Activation: sigmoid, Validation Accuracy: 94.44%\n"
     ]
    },
    {
     "name": "stderr",
     "output_type": "stream",
     "text": [
      "/scratch/local/46752745/ipykernel_3676114/38202783.py:80: RuntimeWarning: invalid value encountered in divide\n",
      "  return exp_x / exp_x.sum(axis=1, keepdims=True)\n"
     ]
    },
    {
     "name": "stdout",
     "output_type": "stream",
     "text": [
      "Early stopping at epoch 110. Best validation accuracy: 100.00%\n",
      "Hidden layers: [20], Learning rate: 0.1, Epochs: 1000, Activation: tanh, Validation Accuracy: 94.44%\n",
      "Early stopping at epoch 110. Best validation accuracy: 38.89%\n",
      "Hidden layers: [20], Learning rate: 0.1, Epochs: 2000, Activation: relu, Validation Accuracy: 38.89%\n"
     ]
    },
    {
     "name": "stderr",
     "output_type": "stream",
     "text": [
      "/scratch/local/46752745/ipykernel_3676114/38202783.py:80: RuntimeWarning: invalid value encountered in divide\n",
      "  return exp_x / exp_x.sum(axis=1, keepdims=True)\n"
     ]
    },
    {
     "name": "stdout",
     "output_type": "stream",
     "text": [
      "Early stopping at epoch 110. Best validation accuracy: 100.00%\n",
      "Hidden layers: [20], Learning rate: 0.1, Epochs: 2000, Activation: sigmoid, Validation Accuracy: 94.44%\n",
      "Early stopping at epoch 110. Best validation accuracy: 94.44%\n",
      "Hidden layers: [20], Learning rate: 0.1, Epochs: 2000, Activation: tanh, Validation Accuracy: 94.44%\n",
      "\n",
      "Best Hyperparameters:\n",
      "{'hidden_sizes': [10], 'learning_rate': 0.0001, 'epochs': 1000, 'activation': 'relu'}\n",
      "Best Validation Accuracy: 100.00%\n",
      "Early stopping at epoch 220. Best validation accuracy: 100.00%\n",
      "Test Accuracy: 88.89%\n",
      "Training Accuracy: 95.77%\n"
     ]
    },
    {
     "data": {
      "image/png": "[encoded data removed]",
      "text/plain": [
       "<Figure size 720x360 with 1 Axes>"
      ]
     },
     "metadata": {
      "needs_background": "light"
     },
     "output_type": "display_data"
    },
    {
     "name": "stdout",
     "output_type": "stream",
     "text": [
      "\n",
      "Confusion Matrix for Training Set:\n",
      "             True 1  True 2  True 3\n",
      "Predicted 1      48       0       0\n",
      "Predicted 2       0      51       0\n",
      "Predicted 3       0       6      37\n"
     ]
    },
    {
     "data": {
      "image/png": "[encoded data removed]",
      "text/plain": [
       "<Figure size 576x432 with 2 Axes>"
      ]
     },
     "metadata": {
      "needs_background": "light"
     },
     "output_type": "display_data"
    },
    {
     "name": "stdout",
     "output_type": "stream",
     "text": [
      "\n",
      "Confusion Matrix for Test Set:\n",
      "             True 1  True 2  True 3\n",
      "Predicted 1       4       1       0\n",
      "Predicted 2       0       8       0\n",
      "Predicted 3       0       1       4\n"
     ]
    },
    {
     "data": {
      "image/png": "[encoded data removed]",
      "text/plain": [
       "<Figure size 576x432 with 2 Axes>"
      ]
     },
     "metadata": {
      "needs_background": "light"
     },
     "output_type": "display_data"
    }
   ],
   "source": [
    "import numpy as np\n",
    "import pandas as pd\n",
    "from ucimlrepo import fetch_ucirepo\n",
    "from itertools import product\n",
    "import matplotlib.pyplot as plt\n",
    "import seaborn as sns\n",
    "\n",
    "# Fetch the dataset\n",
    "wine = fetch_ucirepo(id=109)\n",
    "\n",
    "# Load features and target\n",
    "X = wine.data.features\n",
    "y = wine.data.targets.astype(int)\n",
    "\n",
    "# Split the dataset into training, validation, and testing sets\n",
    "np.random.seed(42)\n",
    "indices = np.random.permutation(len(X))\n",
    "split_index = int(0.8 * len(indices))\n",
    "train_indices, temp_indices = indices[:split_index], indices[split_index:]\n",
    "\n",
    "# Further split temp_indices into validation and test sets\n",
    "valid_split_index = int(0.5 * len(temp_indices))  # 50% of temp for validation\n",
    "valid_indices, test_indices = temp_indices[:valid_split_index], temp_indices[valid_split_index:]\n",
    "\n",
    "X_train = X.iloc[train_indices]\n",
    "X_valid = X.iloc[valid_indices]\n",
    "X_test = X.iloc[test_indices]\n",
    "y_train = y.iloc[train_indices].values.flatten()\n",
    "y_valid = y.iloc[valid_indices].values.flatten()\n",
    "y_test = y.iloc[test_indices].values.flatten()\n",
    "\n",
    "# Custom normalization function\n",
    "def normalize(X, mean=None, std=None):\n",
    "    if mean is None or std is None:\n",
    "        mean = np.mean(X, axis=0)\n",
    "        std = np.std(X, axis=0)\n",
    "    return (X - mean) / std, mean, std\n",
    "\n",
    "# Normalize the training set and get the mean and std\n",
    "X_train, mean, std = normalize(X_train)\n",
    "\n",
    "# Normalize the validation and test sets using the training set parameters\n",
    "X_valid, _, _ = normalize(X_valid, mean, std)\n",
    "X_test, _, _ = normalize(X_test, mean, std)\n",
    "\n",
    "# MLP Class Definition\n",
    "class MLP:\n",
    "    def __init__(self, input_size, hidden_sizes, output_size, learning_rate=0.01, activation='relu'):\n",
    "        self.learning_rate = learning_rate\n",
    "        self.hidden_layers = len(hidden_sizes)\n",
    "        self.weights = []\n",
    "        self.activation = activation\n",
    "\n",
    "        layer_sizes = [input_size] + hidden_sizes + [output_size]\n",
    "        for i in range(len(layer_sizes) - 1):\n",
    "            weight = np.random.randn(layer_sizes[i], layer_sizes[i + 1]) * np.sqrt(2. / layer_sizes[i])\n",
    "            self.weights.append(weight)\n",
    "\n",
    "    def activate(self, x):\n",
    "        if self.activation == 'relu':\n",
    "            return np.maximum(0, x)\n",
    "        elif self.activation == 'sigmoid':\n",
    "            x = np.clip(x, -709, 709)\n",
    "            return 1 / (1 + np.exp(-x))\n",
    "        elif self.activation == 'tanh':\n",
    "            return np.tanh(x)\n",
    "\n",
    "    def activate_derivative(self, x):\n",
    "        if self.activation == 'relu':\n",
    "            return (x > 0).astype(float)\n",
    "        elif self.activation == 'sigmoid':\n",
    "            x_clipped = np.clip(x, -709, 709)\n",
    "            sig = 1 / (1 + np.exp(-x_clipped))\n",
    "            return sig * (1 - sig)\n",
    "        elif self.activation == 'tanh':\n",
    "            return 1 - np.square(np.tanh(x))\n",
    "\n",
    "    def softmax(self, x):\n",
    "        exp_x = np.exp(x - np.max(x))\n",
    "        return exp_x / exp_x.sum(axis=1, keepdims=True)\n",
    "\n",
    "    def forward(self, X):\n",
    "        self.layer_outputs = []\n",
    "        for weight in self.weights[:-1]:\n",
    "            X = self.activate(np.dot(X, weight))\n",
    "            self.layer_outputs.append(X)\n",
    "        self.output = self.softmax(np.dot(X, self.weights[-1]))\n",
    "        return self.output\n",
    "\n",
    "    def backward(self, X, y):\n",
    "        output_loss = y - self.output\n",
    "        d_output = output_loss\n",
    "\n",
    "        for i in reversed(range(len(self.weights))):\n",
    "            if i > 0:\n",
    "                hidden_loss = d_output.dot(self.weights[i].T)\n",
    "                d_hidden = hidden_loss * self.activate_derivative(self.layer_outputs[i - 1])\n",
    "                self.weights[i] += self.layer_outputs[i - 1].T.dot(d_output) * self.learning_rate\n",
    "                d_output = d_hidden\n",
    "            else:\n",
    "                self.weights[i] += X.T.dot(d_output) * self.learning_rate\n",
    "\n",
    "    def train(self, X, y, epochs=1000, patience=10):\n",
    "        y_one_hot = np.zeros((y.size, np.max(y)))\n",
    "        y_one_hot[np.arange(y.size), y - 1] = 1\n",
    "\n",
    "        best_accuracy = 0\n",
    "        patience_counter = 0\n",
    "        self.losses = []\n",
    "        \n",
    "        for epoch in range(epochs):\n",
    "            self.forward(X)\n",
    "            self.backward(X, y_one_hot)\n",
    "            \n",
    "            loss = -np.mean(np.sum(y_one_hot * np.log(self.output + 1e-9), axis=1))\n",
    "            self.losses.append(loss)\n",
    "\n",
    "            if epoch % 10 == 0:\n",
    "                y_valid_pred = self.predict(X_valid)\n",
    "                accuracy = np.mean(y_valid == y_valid_pred)\n",
    "                if accuracy > best_accuracy:\n",
    "                    best_accuracy = accuracy\n",
    "                    patience_counter = 0\n",
    "                else:\n",
    "                    patience_counter += 1\n",
    "                if patience_counter >= patience:\n",
    "                    print(f\"Early stopping at epoch {epoch}. Best validation accuracy: {best_accuracy * 100:.2f}%\")\n",
    "                    break\n",
    "\n",
    "    def predict(self, X):\n",
    "        output = self.forward(X)\n",
    "        return np.argmax(output, axis=1) + 1\n",
    "\n",
    "# Hyperparameter tuning\n",
    "def evaluate_hyperparameters(hidden_sizes, learning_rate, epochs, activation):\n",
    "    mlp = MLP(input_size=X_train.shape[1], hidden_sizes=hidden_sizes, output_size=3, \n",
    "              learning_rate=learning_rate, activation=activation)\n",
    "    mlp.train(X_train, y_train, epochs)\n",
    "    y_valid_pred = mlp.predict(X_valid)\n",
    "    accuracy = np.mean(y_valid == y_valid_pred)\n",
    "    return accuracy, mlp.losses\n",
    "\n",
    "# Grid search for hyperparameters\n",
    "hidden_size_options = [[10], [10, 10], [20]]\n",
    "learning_rate_options = [0.0001, 0.001, 0.01, 0.1]\n",
    "epochs_options = [1000, 2000]\n",
    "activation_functions = ['relu', 'sigmoid', 'tanh']\n",
    "\n",
    "best_accuracy = 0\n",
    "best_params = {}\n",
    "best_losses = []\n",
    "\n",
    "for hidden_sizes, learning_rate, epochs, activation in product(hidden_size_options, learning_rate_options, epochs_options, activation_functions):\n",
    "    accuracy, losses = evaluate_hyperparameters(hidden_sizes, learning_rate, epochs, activation)\n",
    "    print(f\"Hidden layers: {hidden_sizes}, Learning rate: {learning_rate}, Epochs: {epochs}, Activation: {activation}, Validation Accuracy: {accuracy * 100:.2f}%\")\n",
    "    \n",
    "    if accuracy > best_accuracy:\n",
    "        best_accuracy = accuracy\n",
    "        best_params = {'hidden_sizes': hidden_sizes, 'learning_rate': learning_rate, 'epochs': epochs, 'activation': activation}\n",
    "        best_losses = losses\n",
    "\n",
    "print(\"\\nBest Hyperparameters:\")\n",
    "print(best_params)\n",
    "print(f\"Best Validation Accuracy: {best_accuracy * 100:.2f}%\")\n",
    "\n",
    "# Final training with the best parameters\n",
    "final_mlp = MLP(input_size=X_train.shape[1], hidden_sizes=best_params['hidden_sizes'],\n",
    "                 output_size=3, learning_rate=best_params['learning_rate'], \n",
    "                 activation=best_params['activation'])\n",
    "final_mlp.train(X_train, y_train, best_params['epochs'])\n",
    "\n",
    "# Evaluate on the test set\n",
    "y_test_pred = final_mlp.predict(X_test)\n",
    "test_accuracy = np.mean(y_test == y_test_pred)\n",
    "print(f\"Test Accuracy: {test_accuracy * 100:.2f}%\")\n",
    "\n",
    "# Evaluate on the training set\n",
    "y_train_pred = final_mlp.predict(X_train)\n",
    "train_accuracy = np.mean(y_train == y_train_pred)\n",
    "print(f\"Training Accuracy: {train_accuracy * 100:.2f}%\")\n",
    "\n",
    "# Plot the loss curve\n",
    "plt.figure(figsize=(10, 5))\n",
    "plt.plot(best_losses, label='Loss')\n",
    "plt.title('Loss Curve for Best Hyperparameters')\n",
    "plt.xlabel('Epochs')\n",
    "plt.ylabel('Loss')\n",
    "plt.legend()\n",
    "plt.grid()\n",
    "plt.show()\n",
    "\n",
    "# Function to create and print confusion matrix\n",
    "def plot_confusion_matrix(y_true, y_pred, title):\n",
    "    num_classes = 3  # Adjust based on your dataset\n",
    "    confusion_matrix = np.zeros((num_classes, num_classes), dtype=int)\n",
    "\n",
    "    for true_label, predicted_label in zip(y_true, y_pred):\n",
    "        confusion_matrix[predicted_label - 1, true_label - 1] += 1\n",
    "\n",
    "    confusion_df = pd.DataFrame(confusion_matrix, \n",
    "                                 index=[f'Predicted {i}' for i in range(1, num_classes + 1)],\n",
    "                                 columns=[f'True {i}' for i in range(1, num_classes + 1)])\n",
    "\n",
    "    print(f\"\\nConfusion Matrix for {title}:\")\n",
    "    print(confusion_df)\n",
    "\n",
    "    plt.figure(figsize=(8, 6))\n",
    "    sns.heatmap(confusion_df, annot=True, fmt='d', cmap='Blues')\n",
    "    plt.title(f'Confusion Matrix for {title}')\n",
    "    plt.ylabel('Predicted Label')\n",
    "    plt.xlabel('True Label')\n",
    "    plt.show()\n",
    "\n",
    "# Plot confusion matrices for training and test sets\n",
    "plot_confusion_matrix(y_train, y_train_pred, \"Training Set\")\n",
    "plot_confusion_matrix(y_test, y_test_pred, \"Test Set\")\n"
   ]
  },
  {
   "cell_type": "markdown",
   "id": "a75fbab7-4f2b-4615-806a-23613ab30bdd",
   "metadata": {},
   "source": [
    "## Show the effect on performance of different number of units in the hidden layer"
   ]
  },
  {
   "cell_type": "markdown",
   "id": "4bede61f-f2e9-48f2-bce5-d68edc4d5304",
   "metadata": {},
   "source": [
    "##### 10 neurons in each layer:"
   ]
  },
  {
   "cell_type": "code",
   "execution_count": 3,
   "id": "82f9af89-49c2-49a2-a98d-4ea82a2c0b8c",
   "metadata": {
    "tags": []
   },
   "outputs": [
    {
     "name": "stdout",
     "output_type": "stream",
     "text": [
      "Early stopping at epoch 280. Best validation accuracy: 100.00%\n",
      "Hidden layers: [10], Learning rate: 0.0001, Epochs: 1000, Activation: relu, Validation Accuracy: 100.00%\n",
      "Early stopping at epoch 280. Best validation accuracy: 100.00%\n",
      "Hidden layers: [10], Learning rate: 0.0001, Epochs: 1000, Activation: sigmoid, Validation Accuracy: 100.00%\n",
      "Early stopping at epoch 200. Best validation accuracy: 94.44%\n",
      "Hidden layers: [10], Learning rate: 0.0001, Epochs: 1000, Activation: tanh, Validation Accuracy: 94.44%\n",
      "Early stopping at epoch 320. Best validation accuracy: 94.44%\n",
      "Hidden layers: [10], Learning rate: 0.0001, Epochs: 2000, Activation: relu, Validation Accuracy: 94.44%\n",
      "Early stopping at epoch 490. Best validation accuracy: 88.89%\n",
      "Hidden layers: [10], Learning rate: 0.0001, Epochs: 2000, Activation: sigmoid, Validation Accuracy: 88.89%\n",
      "Early stopping at epoch 180. Best validation accuracy: 100.00%\n",
      "Hidden layers: [10], Learning rate: 0.0001, Epochs: 2000, Activation: tanh, Validation Accuracy: 100.00%\n",
      "Early stopping at epoch 120. Best validation accuracy: 100.00%\n",
      "Hidden layers: [10], Learning rate: 0.001, Epochs: 1000, Activation: relu, Validation Accuracy: 100.00%\n",
      "Early stopping at epoch 130. Best validation accuracy: 100.00%\n",
      "Hidden layers: [10], Learning rate: 0.001, Epochs: 1000, Activation: sigmoid, Validation Accuracy: 100.00%\n",
      "Early stopping at epoch 110. Best validation accuracy: 100.00%\n",
      "Hidden layers: [10], Learning rate: 0.001, Epochs: 1000, Activation: tanh, Validation Accuracy: 100.00%\n",
      "Early stopping at epoch 150. Best validation accuracy: 100.00%\n",
      "Hidden layers: [10], Learning rate: 0.001, Epochs: 2000, Activation: relu, Validation Accuracy: 94.44%\n",
      "Early stopping at epoch 150. Best validation accuracy: 100.00%\n",
      "Hidden layers: [10], Learning rate: 0.001, Epochs: 2000, Activation: sigmoid, Validation Accuracy: 100.00%\n",
      "Early stopping at epoch 120. Best validation accuracy: 94.44%\n",
      "Hidden layers: [10], Learning rate: 0.001, Epochs: 2000, Activation: tanh, Validation Accuracy: 94.44%\n",
      "Early stopping at epoch 110. Best validation accuracy: 100.00%\n",
      "Hidden layers: [10], Learning rate: 0.01, Epochs: 1000, Activation: relu, Validation Accuracy: 94.44%\n",
      "Early stopping at epoch 110. Best validation accuracy: 100.00%\n",
      "Hidden layers: [10], Learning rate: 0.01, Epochs: 1000, Activation: sigmoid, Validation Accuracy: 100.00%\n",
      "Early stopping at epoch 110. Best validation accuracy: 94.44%\n",
      "Hidden layers: [10], Learning rate: 0.01, Epochs: 1000, Activation: tanh, Validation Accuracy: 94.44%\n",
      "Early stopping at epoch 110. Best validation accuracy: 94.44%\n",
      "Hidden layers: [10], Learning rate: 0.01, Epochs: 2000, Activation: relu, Validation Accuracy: 94.44%\n",
      "Early stopping at epoch 110. Best validation accuracy: 100.00%\n",
      "Hidden layers: [10], Learning rate: 0.01, Epochs: 2000, Activation: sigmoid, Validation Accuracy: 94.44%\n",
      "Early stopping at epoch 110. Best validation accuracy: 100.00%\n",
      "Hidden layers: [10], Learning rate: 0.01, Epochs: 2000, Activation: tanh, Validation Accuracy: 100.00%\n",
      "Early stopping at epoch 100. Best validation accuracy: 38.89%\n",
      "Hidden layers: [10], Learning rate: 0.1, Epochs: 1000, Activation: relu, Validation Accuracy: 38.89%\n"
     ]
    },
    {
     "name": "stderr",
     "output_type": "stream",
     "text": [
      "/scratch/local/46752745/ipykernel_3676114/38202783.py:80: RuntimeWarning: invalid value encountered in divide\n",
      "  return exp_x / exp_x.sum(axis=1, keepdims=True)\n"
     ]
    },
    {
     "name": "stdout",
     "output_type": "stream",
     "text": [
      "Early stopping at epoch 110. Best validation accuracy: 94.44%\n",
      "Hidden layers: [10], Learning rate: 0.1, Epochs: 1000, Activation: sigmoid, Validation Accuracy: 94.44%\n",
      "Early stopping at epoch 120. Best validation accuracy: 100.00%\n",
      "Hidden layers: [10], Learning rate: 0.1, Epochs: 1000, Activation: tanh, Validation Accuracy: 94.44%\n"
     ]
    },
    {
     "name": "stderr",
     "output_type": "stream",
     "text": [
      "/scratch/local/46752745/ipykernel_3676114/38202783.py:80: RuntimeWarning: invalid value encountered in divide\n",
      "  return exp_x / exp_x.sum(axis=1, keepdims=True)\n"
     ]
    },
    {
     "name": "stdout",
     "output_type": "stream",
     "text": [
      "Early stopping at epoch 100. Best validation accuracy: 38.89%\n",
      "Hidden layers: [10], Learning rate: 0.1, Epochs: 2000, Activation: relu, Validation Accuracy: 38.89%\n",
      "Early stopping at epoch 110. Best validation accuracy: 100.00%\n",
      "Hidden layers: [10], Learning rate: 0.1, Epochs: 2000, Activation: sigmoid, Validation Accuracy: 94.44%\n",
      "Early stopping at epoch 110. Best validation accuracy: 94.44%\n",
      "Hidden layers: [10], Learning rate: 0.1, Epochs: 2000, Activation: tanh, Validation Accuracy: 94.44%\n",
      "Early stopping at epoch 130. Best validation accuracy: 72.22%\n",
      "Hidden layers: [10, 10], Learning rate: 0.0001, Epochs: 1000, Activation: relu, Validation Accuracy: 72.22%\n",
      "Early stopping at epoch 100. Best validation accuracy: 22.22%\n",
      "Hidden layers: [10, 10], Learning rate: 0.0001, Epochs: 1000, Activation: sigmoid, Validation Accuracy: 22.22%\n",
      "Early stopping at epoch 120. Best validation accuracy: 88.89%\n",
      "Hidden layers: [10, 10], Learning rate: 0.0001, Epochs: 1000, Activation: tanh, Validation Accuracy: 88.89%\n",
      "Early stopping at epoch 340. Best validation accuracy: 94.44%\n",
      "Hidden layers: [10, 10], Learning rate: 0.0001, Epochs: 2000, Activation: relu, Validation Accuracy: 94.44%\n",
      "Early stopping at epoch 300. Best validation accuracy: 55.56%\n",
      "Hidden layers: [10, 10], Learning rate: 0.0001, Epochs: 2000, Activation: sigmoid, Validation Accuracy: 55.56%\n",
      "Early stopping at epoch 140. Best validation accuracy: 94.44%\n",
      "Hidden layers: [10, 10], Learning rate: 0.0001, Epochs: 2000, Activation: tanh, Validation Accuracy: 94.44%\n",
      "Early stopping at epoch 140. Best validation accuracy: 94.44%\n",
      "Hidden layers: [10, 10], Learning rate: 0.001, Epochs: 1000, Activation: relu, Validation Accuracy: 94.44%\n",
      "Early stopping at epoch 200. Best validation accuracy: 100.00%\n",
      "Hidden layers: [10, 10], Learning rate: 0.001, Epochs: 1000, Activation: sigmoid, Validation Accuracy: 100.00%\n",
      "Early stopping at epoch 150. Best validation accuracy: 100.00%\n",
      "Hidden layers: [10, 10], Learning rate: 0.001, Epochs: 1000, Activation: tanh, Validation Accuracy: 94.44%\n",
      "Early stopping at epoch 130. Best validation accuracy: 100.00%\n",
      "Hidden layers: [10, 10], Learning rate: 0.001, Epochs: 2000, Activation: relu, Validation Accuracy: 94.44%\n",
      "Early stopping at epoch 310. Best validation accuracy: 100.00%\n",
      "Hidden layers: [10, 10], Learning rate: 0.001, Epochs: 2000, Activation: sigmoid, Validation Accuracy: 100.00%\n",
      "Early stopping at epoch 110. Best validation accuracy: 100.00%\n",
      "Hidden layers: [10, 10], Learning rate: 0.001, Epochs: 2000, Activation: tanh, Validation Accuracy: 100.00%\n",
      "Early stopping at epoch 190. Best validation accuracy: 100.00%\n",
      "Hidden layers: [10, 10], Learning rate: 0.01, Epochs: 1000, Activation: relu, Validation Accuracy: 94.44%\n",
      "Early stopping at epoch 120. Best validation accuracy: 100.00%\n",
      "Hidden layers: [10, 10], Learning rate: 0.01, Epochs: 1000, Activation: sigmoid, Validation Accuracy: 100.00%\n",
      "Early stopping at epoch 110. Best validation accuracy: 94.44%\n",
      "Hidden layers: [10, 10], Learning rate: 0.01, Epochs: 1000, Activation: tanh, Validation Accuracy: 94.44%\n",
      "Early stopping at epoch 110. Best validation accuracy: 94.44%\n",
      "Hidden layers: [10, 10], Learning rate: 0.01, Epochs: 2000, Activation: relu, Validation Accuracy: 94.44%\n",
      "Early stopping at epoch 110. Best validation accuracy: 100.00%\n",
      "Hidden layers: [10, 10], Learning rate: 0.01, Epochs: 2000, Activation: sigmoid, Validation Accuracy: 100.00%\n",
      "Early stopping at epoch 110. Best validation accuracy: 94.44%\n",
      "Hidden layers: [10, 10], Learning rate: 0.01, Epochs: 2000, Activation: tanh, Validation Accuracy: 94.44%\n"
     ]
    },
    {
     "name": "stderr",
     "output_type": "stream",
     "text": [
      "/scratch/local/46752745/ipykernel_3676114/38202783.py:80: RuntimeWarning: invalid value encountered in divide\n",
      "  return exp_x / exp_x.sum(axis=1, keepdims=True)\n"
     ]
    },
    {
     "name": "stdout",
     "output_type": "stream",
     "text": [
      "Early stopping at epoch 110. Best validation accuracy: 38.89%\n",
      "Hidden layers: [10, 10], Learning rate: 0.1, Epochs: 1000, Activation: relu, Validation Accuracy: 38.89%\n",
      "Early stopping at epoch 170. Best validation accuracy: 66.67%\n",
      "Hidden layers: [10, 10], Learning rate: 0.1, Epochs: 1000, Activation: sigmoid, Validation Accuracy: 61.11%\n",
      "Early stopping at epoch 160. Best validation accuracy: 94.44%\n",
      "Hidden layers: [10, 10], Learning rate: 0.1, Epochs: 1000, Activation: tanh, Validation Accuracy: 94.44%\n"
     ]
    },
    {
     "name": "stderr",
     "output_type": "stream",
     "text": [
      "/scratch/local/46752745/ipykernel_3676114/38202783.py:80: RuntimeWarning: invalid value encountered in divide\n",
      "  return exp_x / exp_x.sum(axis=1, keepdims=True)\n"
     ]
    },
    {
     "name": "stdout",
     "output_type": "stream",
     "text": [
      "Early stopping at epoch 110. Best validation accuracy: 38.89%\n",
      "Hidden layers: [10, 10], Learning rate: 0.1, Epochs: 2000, Activation: relu, Validation Accuracy: 38.89%\n",
      "Early stopping at epoch 110. Best validation accuracy: 66.67%\n",
      "Hidden layers: [10, 10], Learning rate: 0.1, Epochs: 2000, Activation: sigmoid, Validation Accuracy: 61.11%\n",
      "Early stopping at epoch 130. Best validation accuracy: 100.00%\n",
      "Hidden layers: [10, 10], Learning rate: 0.1, Epochs: 2000, Activation: tanh, Validation Accuracy: 94.44%\n",
      "\n",
      "Best Hyperparameters:\n",
      "{'hidden_sizes': [10], 'learning_rate': 0.0001, 'epochs': 1000, 'activation': 'relu'}\n",
      "Best Validation Accuracy: 100.00%\n",
      "Early stopping at epoch 210. Best validation accuracy: 100.00%\n",
      "Test Accuracy: 94.44%\n",
      "Training Accuracy: 95.77%\n"
     ]
    },
    {
     "data": {
      "image/png": "[encoded data removed]",
      "text/plain": [
       "<Figure size 720x360 with 1 Axes>"
      ]
     },
     "metadata": {
      "needs_background": "light"
     },
     "output_type": "display_data"
    },
    {
     "name": "stdout",
     "output_type": "stream",
     "text": [
      "\n",
      "Confusion Matrix for Training Set:\n",
      "             True 1  True 2  True 3\n",
      "Predicted 1      47       1       0\n",
      "Predicted 2       1      52       0\n",
      "Predicted 3       0       4      37\n"
     ]
    },
    {
     "data": {
      "image/png": "[encoded data removed]",
      "text/plain": [
       "<Figure size 576x432 with 2 Axes>"
      ]
     },
     "metadata": {
      "needs_background": "light"
     },
     "output_type": "display_data"
    },
    {
     "name": "stdout",
     "output_type": "stream",
     "text": [
      "\n",
      "Confusion Matrix for Test Set:\n",
      "             True 1  True 2  True 3\n",
      "Predicted 1       4       1       0\n",
      "Predicted 2       0       9       0\n",
      "Predicted 3       0       0       4\n"
     ]
    },
    {
     "data": {
      "image/png": "[encoded data removed]",
      "text/plain": [
       "<Figure size 576x432 with 2 Axes>"
      ]
     },
     "metadata": {
      "needs_background": "light"
     },
     "output_type": "display_data"
    }
   ],
   "source": [
    "import numpy as np\n",
    "import pandas as pd\n",
    "from ucimlrepo import fetch_ucirepo\n",
    "from itertools import product\n",
    "import matplotlib.pyplot as plt\n",
    "import seaborn as sns\n",
    "\n",
    "# Fetch the dataset\n",
    "wine = fetch_ucirepo(id=109)\n",
    "\n",
    "# Load features and target\n",
    "X = wine.data.features\n",
    "y = wine.data.targets.astype(int)\n",
    "\n",
    "# Split the dataset into training, validation, and testing sets\n",
    "np.random.seed(42)\n",
    "indices = np.random.permutation(len(X))\n",
    "split_index = int(0.8 * len(indices))\n",
    "train_indices, temp_indices = indices[:split_index], indices[split_index:]\n",
    "\n",
    "# Further split temp_indices into validation and test sets\n",
    "valid_split_index = int(0.5 * len(temp_indices))  # 50% of temp for validation\n",
    "valid_indices, test_indices = temp_indices[:valid_split_index], temp_indices[valid_split_index:]\n",
    "\n",
    "X_train = X.iloc[train_indices]\n",
    "X_valid = X.iloc[valid_indices]\n",
    "X_test = X.iloc[test_indices]\n",
    "y_train = y.iloc[train_indices].values.flatten()\n",
    "y_valid = y.iloc[valid_indices].values.flatten()\n",
    "y_test = y.iloc[test_indices].values.flatten()\n",
    "\n",
    "\n",
    "\n",
    "# Normalize the training set and get the mean and std\n",
    "X_train, mean, std = normalize(X_train)\n",
    "\n",
    "# Normalize the validation and test sets using the training set parameters\n",
    "X_valid, _, _ = normalize(X_valid, mean, std)\n",
    "X_test, _, _ = normalize(X_test, mean, std)\n",
    "\n",
    "\n",
    "\n",
    "# Grid search for hyperparameters\n",
    "hidden_size_options = [[10], [10, 10]]\n",
    "learning_rate_options = [0.0001, 0.001, 0.01, 0.1]\n",
    "epochs_options = [1000, 2000]\n",
    "activation_functions = ['relu', 'sigmoid', 'tanh']\n",
    "\n",
    "best_accuracy = 0\n",
    "best_params = {}\n",
    "best_losses = []\n",
    "\n",
    "for hidden_sizes, learning_rate, epochs, activation in product(hidden_size_options, learning_rate_options, epochs_options, activation_functions):\n",
    "    accuracy, losses = evaluate_hyperparameters(hidden_sizes, learning_rate, epochs, activation)\n",
    "    print(f\"Hidden layers: {hidden_sizes}, Learning rate: {learning_rate}, Epochs: {epochs}, Activation: {activation}, Validation Accuracy: {accuracy * 100:.2f}%\")\n",
    "    \n",
    "    if accuracy > best_accuracy:\n",
    "        best_accuracy = accuracy\n",
    "        best_params = {'hidden_sizes': hidden_sizes, 'learning_rate': learning_rate, 'epochs': epochs, 'activation': activation}\n",
    "        best_losses = losses\n",
    "\n",
    "print(\"\\nBest Hyperparameters:\")\n",
    "print(best_params)\n",
    "print(f\"Best Validation Accuracy: {best_accuracy * 100:.2f}%\")\n",
    "\n",
    "# Final training with the best parameters\n",
    "final_mlp = MLP(input_size=X_train.shape[1], hidden_sizes=best_params['hidden_sizes'],\n",
    "                 output_size=3, learning_rate=best_params['learning_rate'], \n",
    "                 activation=best_params['activation'])\n",
    "final_mlp.train(X_train, y_train, best_params['epochs'])\n",
    "\n",
    "# Evaluate on the test set\n",
    "y_test_pred = final_mlp.predict(X_test)\n",
    "test_accuracy = np.mean(y_test == y_test_pred)\n",
    "print(f\"Test Accuracy: {test_accuracy * 100:.2f}%\")\n",
    "\n",
    "# Evaluate on the training set\n",
    "y_train_pred = final_mlp.predict(X_train)\n",
    "train_accuracy = np.mean(y_train == y_train_pred)\n",
    "print(f\"Training Accuracy: {train_accuracy * 100:.2f}%\")\n",
    "\n",
    "# Plot the loss curve\n",
    "plt.figure(figsize=(10, 5))\n",
    "plt.plot(best_losses, label='Loss')\n",
    "plt.title('Loss Curve for Best Hyperparameters')\n",
    "plt.xlabel('Epochs')\n",
    "plt.ylabel('Loss')\n",
    "plt.legend()\n",
    "plt.grid()\n",
    "plt.show()\n",
    "\n",
    "# Function to create and print confusion matrix\n",
    "def plot_confusion_matrix(y_true, y_pred, title):\n",
    "    num_classes = 3  # Adjust based on your dataset\n",
    "    confusion_matrix = np.zeros((num_classes, num_classes), dtype=int)\n",
    "\n",
    "    for true_label, predicted_label in zip(y_true, y_pred):\n",
    "        confusion_matrix[predicted_label - 1, true_label - 1] += 1\n",
    "\n",
    "    confusion_df = pd.DataFrame(confusion_matrix, \n",
    "                                 index=[f'Predicted {i}' for i in range(1, num_classes + 1)],\n",
    "                                 columns=[f'True {i}' for i in range(1, num_classes + 1)])\n",
    "\n",
    "    print(f\"\\nConfusion Matrix for {title}:\")\n",
    "    print(confusion_df)\n",
    "\n",
    "    plt.figure(figsize=(8, 6))\n",
    "    sns.heatmap(confusion_df, annot=True, fmt='d', cmap='Blues')\n",
    "    plt.title(f'Confusion Matrix for {title}')\n",
    "    plt.ylabel('Predicted Label')\n",
    "    plt.xlabel('True Label')\n",
    "    plt.show()\n",
    "\n",
    "# Plot confusion matrices for training and test sets\n",
    "plot_confusion_matrix(y_train, y_train_pred, \"Training Set\")\n",
    "plot_confusion_matrix(y_test, y_test_pred, \"Test Set\")\n"
   ]
  },
  {
   "cell_type": "markdown",
   "id": "0d63b1d4-b9ec-48b7-a99f-fc4a5b9ba27a",
   "metadata": {},
   "source": [
    "#### 20 neurons in each hidden layer"
   ]
  },
  {
   "cell_type": "code",
   "execution_count": 4,
   "id": "6b848767-2fad-451e-9475-6d14656290e7",
   "metadata": {
    "tags": []
   },
   "outputs": [
    {
     "name": "stdout",
     "output_type": "stream",
     "text": [
      "Early stopping at epoch 210. Best validation accuracy: 100.00%\n",
      "Hidden layers: [20], Learning rate: 0.0001, Epochs: 1000, Activation: relu, Validation Accuracy: 100.00%\n",
      "Early stopping at epoch 370. Best validation accuracy: 100.00%\n",
      "Hidden layers: [20], Learning rate: 0.0001, Epochs: 1000, Activation: sigmoid, Validation Accuracy: 100.00%\n",
      "Early stopping at epoch 220. Best validation accuracy: 94.44%\n",
      "Hidden layers: [20], Learning rate: 0.0001, Epochs: 1000, Activation: tanh, Validation Accuracy: 94.44%\n",
      "Early stopping at epoch 220. Best validation accuracy: 100.00%\n",
      "Hidden layers: [20], Learning rate: 0.0001, Epochs: 2000, Activation: relu, Validation Accuracy: 100.00%\n",
      "Early stopping at epoch 330. Best validation accuracy: 100.00%\n",
      "Hidden layers: [20], Learning rate: 0.0001, Epochs: 2000, Activation: sigmoid, Validation Accuracy: 100.00%\n",
      "Early stopping at epoch 130. Best validation accuracy: 94.44%\n",
      "Hidden layers: [20], Learning rate: 0.0001, Epochs: 2000, Activation: tanh, Validation Accuracy: 94.44%\n",
      "Early stopping at epoch 120. Best validation accuracy: 100.00%\n",
      "Hidden layers: [20], Learning rate: 0.001, Epochs: 1000, Activation: relu, Validation Accuracy: 100.00%\n",
      "Early stopping at epoch 140. Best validation accuracy: 100.00%\n",
      "Hidden layers: [20], Learning rate: 0.001, Epochs: 1000, Activation: sigmoid, Validation Accuracy: 100.00%\n",
      "Early stopping at epoch 120. Best validation accuracy: 100.00%\n",
      "Hidden layers: [20], Learning rate: 0.001, Epochs: 1000, Activation: tanh, Validation Accuracy: 94.44%\n",
      "Early stopping at epoch 120. Best validation accuracy: 100.00%\n",
      "Hidden layers: [20], Learning rate: 0.001, Epochs: 2000, Activation: relu, Validation Accuracy: 100.00%\n",
      "Early stopping at epoch 140. Best validation accuracy: 100.00%\n",
      "Hidden layers: [20], Learning rate: 0.001, Epochs: 2000, Activation: sigmoid, Validation Accuracy: 100.00%\n",
      "Early stopping at epoch 110. Best validation accuracy: 100.00%\n",
      "Hidden layers: [20], Learning rate: 0.001, Epochs: 2000, Activation: tanh, Validation Accuracy: 100.00%\n",
      "Early stopping at epoch 110. Best validation accuracy: 94.44%\n",
      "Hidden layers: [20], Learning rate: 0.01, Epochs: 1000, Activation: relu, Validation Accuracy: 94.44%\n",
      "Early stopping at epoch 110. Best validation accuracy: 100.00%\n",
      "Hidden layers: [20], Learning rate: 0.01, Epochs: 1000, Activation: sigmoid, Validation Accuracy: 94.44%\n",
      "Early stopping at epoch 110. Best validation accuracy: 94.44%\n",
      "Hidden layers: [20], Learning rate: 0.01, Epochs: 1000, Activation: tanh, Validation Accuracy: 94.44%\n",
      "Early stopping at epoch 110. Best validation accuracy: 100.00%\n",
      "Hidden layers: [20], Learning rate: 0.01, Epochs: 2000, Activation: relu, Validation Accuracy: 94.44%\n",
      "Early stopping at epoch 110. Best validation accuracy: 100.00%\n",
      "Hidden layers: [20], Learning rate: 0.01, Epochs: 2000, Activation: sigmoid, Validation Accuracy: 100.00%\n",
      "Early stopping at epoch 100. Best validation accuracy: 100.00%\n",
      "Hidden layers: [20], Learning rate: 0.01, Epochs: 2000, Activation: tanh, Validation Accuracy: 100.00%\n"
     ]
    },
    {
     "name": "stderr",
     "output_type": "stream",
     "text": [
      "/scratch/local/46752745/ipykernel_3676114/38202783.py:80: RuntimeWarning: invalid value encountered in divide\n",
      "  return exp_x / exp_x.sum(axis=1, keepdims=True)\n"
     ]
    },
    {
     "name": "stdout",
     "output_type": "stream",
     "text": [
      "Early stopping at epoch 110. Best validation accuracy: 38.89%\n",
      "Hidden layers: [20], Learning rate: 0.1, Epochs: 1000, Activation: relu, Validation Accuracy: 38.89%\n",
      "Early stopping at epoch 120. Best validation accuracy: 100.00%\n",
      "Hidden layers: [20], Learning rate: 0.1, Epochs: 1000, Activation: sigmoid, Validation Accuracy: 94.44%\n",
      "Early stopping at epoch 110. Best validation accuracy: 100.00%\n",
      "Hidden layers: [20], Learning rate: 0.1, Epochs: 1000, Activation: tanh, Validation Accuracy: 100.00%\n",
      "Early stopping at epoch 100. Best validation accuracy: 100.00%\n",
      "Hidden layers: [20], Learning rate: 0.1, Epochs: 2000, Activation: relu, Validation Accuracy: 38.89%\n"
     ]
    },
    {
     "name": "stderr",
     "output_type": "stream",
     "text": [
      "/scratch/local/46752745/ipykernel_3676114/38202783.py:80: RuntimeWarning: invalid value encountered in divide\n",
      "  return exp_x / exp_x.sum(axis=1, keepdims=True)\n"
     ]
    },
    {
     "name": "stdout",
     "output_type": "stream",
     "text": [
      "Early stopping at epoch 170. Best validation accuracy: 100.00%\n",
      "Hidden layers: [20], Learning rate: 0.1, Epochs: 2000, Activation: sigmoid, Validation Accuracy: 100.00%\n",
      "Early stopping at epoch 110. Best validation accuracy: 94.44%\n",
      "Hidden layers: [20], Learning rate: 0.1, Epochs: 2000, Activation: tanh, Validation Accuracy: 94.44%\n",
      "Early stopping at epoch 160. Best validation accuracy: 100.00%\n",
      "Hidden layers: [20, 20], Learning rate: 0.0001, Epochs: 1000, Activation: relu, Validation Accuracy: 100.00%\n",
      "Early stopping at epoch 250. Best validation accuracy: 55.56%\n",
      "Hidden layers: [20, 20], Learning rate: 0.0001, Epochs: 1000, Activation: sigmoid, Validation Accuracy: 55.56%\n",
      "Early stopping at epoch 220. Best validation accuracy: 100.00%\n",
      "Hidden layers: [20, 20], Learning rate: 0.0001, Epochs: 1000, Activation: tanh, Validation Accuracy: 100.00%\n",
      "Early stopping at epoch 330. Best validation accuracy: 94.44%\n",
      "Hidden layers: [20, 20], Learning rate: 0.0001, Epochs: 2000, Activation: relu, Validation Accuracy: 94.44%\n",
      "Early stopping at epoch 120. Best validation accuracy: 55.56%\n",
      "Hidden layers: [20, 20], Learning rate: 0.0001, Epochs: 2000, Activation: sigmoid, Validation Accuracy: 33.33%\n",
      "Early stopping at epoch 280. Best validation accuracy: 100.00%\n",
      "Hidden layers: [20, 20], Learning rate: 0.0001, Epochs: 2000, Activation: tanh, Validation Accuracy: 100.00%\n",
      "Early stopping at epoch 120. Best validation accuracy: 100.00%\n",
      "Hidden layers: [20, 20], Learning rate: 0.001, Epochs: 1000, Activation: relu, Validation Accuracy: 100.00%\n",
      "Early stopping at epoch 140. Best validation accuracy: 94.44%\n",
      "Hidden layers: [20, 20], Learning rate: 0.001, Epochs: 1000, Activation: sigmoid, Validation Accuracy: 94.44%\n",
      "Early stopping at epoch 120. Best validation accuracy: 100.00%\n",
      "Hidden layers: [20, 20], Learning rate: 0.001, Epochs: 1000, Activation: tanh, Validation Accuracy: 100.00%\n",
      "Early stopping at epoch 120. Best validation accuracy: 100.00%\n",
      "Hidden layers: [20, 20], Learning rate: 0.001, Epochs: 2000, Activation: relu, Validation Accuracy: 94.44%\n",
      "Early stopping at epoch 190. Best validation accuracy: 100.00%\n",
      "Hidden layers: [20, 20], Learning rate: 0.001, Epochs: 2000, Activation: sigmoid, Validation Accuracy: 100.00%\n",
      "Early stopping at epoch 120. Best validation accuracy: 94.44%\n",
      "Hidden layers: [20, 20], Learning rate: 0.001, Epochs: 2000, Activation: tanh, Validation Accuracy: 94.44%\n",
      "Early stopping at epoch 110. Best validation accuracy: 100.00%\n",
      "Hidden layers: [20, 20], Learning rate: 0.01, Epochs: 1000, Activation: relu, Validation Accuracy: 100.00%\n",
      "Early stopping at epoch 120. Best validation accuracy: 100.00%\n",
      "Hidden layers: [20, 20], Learning rate: 0.01, Epochs: 1000, Activation: sigmoid, Validation Accuracy: 100.00%\n",
      "Early stopping at epoch 110. Best validation accuracy: 100.00%\n",
      "Hidden layers: [20, 20], Learning rate: 0.01, Epochs: 1000, Activation: tanh, Validation Accuracy: 100.00%\n",
      "Early stopping at epoch 100. Best validation accuracy: 55.56%\n",
      "Hidden layers: [20, 20], Learning rate: 0.01, Epochs: 2000, Activation: relu, Validation Accuracy: 38.89%\n"
     ]
    },
    {
     "name": "stderr",
     "output_type": "stream",
     "text": [
      "/scratch/local/46752745/ipykernel_3676114/38202783.py:80: RuntimeWarning: invalid value encountered in divide\n",
      "  return exp_x / exp_x.sum(axis=1, keepdims=True)\n"
     ]
    },
    {
     "name": "stdout",
     "output_type": "stream",
     "text": [
      "Early stopping at epoch 120. Best validation accuracy: 100.00%\n",
      "Hidden layers: [20, 20], Learning rate: 0.01, Epochs: 2000, Activation: sigmoid, Validation Accuracy: 100.00%\n",
      "Early stopping at epoch 110. Best validation accuracy: 100.00%\n",
      "Hidden layers: [20, 20], Learning rate: 0.01, Epochs: 2000, Activation: tanh, Validation Accuracy: 100.00%\n"
     ]
    },
    {
     "name": "stderr",
     "output_type": "stream",
     "text": [
      "/scratch/local/46752745/ipykernel_3676114/38202783.py:80: RuntimeWarning: invalid value encountered in divide\n",
      "  return exp_x / exp_x.sum(axis=1, keepdims=True)\n"
     ]
    },
    {
     "name": "stdout",
     "output_type": "stream",
     "text": [
      "Early stopping at epoch 100. Best validation accuracy: 38.89%\n",
      "Hidden layers: [20, 20], Learning rate: 0.1, Epochs: 1000, Activation: relu, Validation Accuracy: 38.89%\n",
      "Early stopping at epoch 280. Best validation accuracy: 88.89%\n",
      "Hidden layers: [20, 20], Learning rate: 0.1, Epochs: 1000, Activation: sigmoid, Validation Accuracy: 88.89%\n",
      "Early stopping at epoch 110. Best validation accuracy: 94.44%\n",
      "Hidden layers: [20, 20], Learning rate: 0.1, Epochs: 1000, Activation: tanh, Validation Accuracy: 94.44%\n"
     ]
    },
    {
     "name": "stderr",
     "output_type": "stream",
     "text": [
      "/scratch/local/46752745/ipykernel_3676114/38202783.py:80: RuntimeWarning: invalid value encountered in divide\n",
      "  return exp_x / exp_x.sum(axis=1, keepdims=True)\n"
     ]
    },
    {
     "name": "stdout",
     "output_type": "stream",
     "text": [
      "Early stopping at epoch 100. Best validation accuracy: 44.44%\n",
      "Hidden layers: [20, 20], Learning rate: 0.1, Epochs: 2000, Activation: relu, Validation Accuracy: 38.89%\n",
      "Early stopping at epoch 140. Best validation accuracy: 94.44%\n",
      "Hidden layers: [20, 20], Learning rate: 0.1, Epochs: 2000, Activation: sigmoid, Validation Accuracy: 94.44%\n",
      "Early stopping at epoch 120. Best validation accuracy: 100.00%\n",
      "Hidden layers: [20, 20], Learning rate: 0.1, Epochs: 2000, Activation: tanh, Validation Accuracy: 100.00%\n",
      "\n",
      "Best Hyperparameters:\n",
      "{'hidden_sizes': [20], 'learning_rate': 0.0001, 'epochs': 1000, 'activation': 'relu'}\n",
      "Best Validation Accuracy: 100.00%\n",
      "Early stopping at epoch 160. Best validation accuracy: 100.00%\n",
      "Test Accuracy: 100.00%\n",
      "Training Accuracy: 97.18%\n"
     ]
    },
    {
     "data": {
      "image/png": "[encoded data removed]",
      "text/plain": [
       "<Figure size 720x360 with 1 Axes>"
      ]
     },
     "metadata": {
      "needs_background": "light"
     },
     "output_type": "display_data"
    },
    {
     "name": "stdout",
     "output_type": "stream",
     "text": [
      "\n",
      "Confusion Matrix for Training Set:\n",
      "             True 1  True 2  True 3\n",
      "Predicted 1      48       2       0\n",
      "Predicted 2       0      53       0\n",
      "Predicted 3       0       2      37\n"
     ]
    },
    {
     "data": {
      "image/png": "[encoded data removed]",
      "text/plain": [
       "<Figure size 576x432 with 2 Axes>"
      ]
     },
     "metadata": {
      "needs_background": "light"
     },
     "output_type": "display_data"
    },
    {
     "name": "stdout",
     "output_type": "stream",
     "text": [
      "\n",
      "Confusion Matrix for Test Set:\n",
      "             True 1  True 2  True 3\n",
      "Predicted 1       4       0       0\n",
      "Predicted 2       0      10       0\n",
      "Predicted 3       0       0       4\n"
     ]
    },
    {
     "data": {
      "image/png": "[encoded data removed]",
      "text/plain": [
       "<Figure size 576x432 with 2 Axes>"
      ]
     },
     "metadata": {
      "needs_background": "light"
     },
     "output_type": "display_data"
    }
   ],
   "source": [
    "import numpy as np\n",
    "import pandas as pd\n",
    "from ucimlrepo import fetch_ucirepo\n",
    "from itertools import product\n",
    "import matplotlib.pyplot as plt\n",
    "import seaborn as sns\n",
    "\n",
    "# Fetch the dataset\n",
    "wine = fetch_ucirepo(id=109)\n",
    "\n",
    "# Load features and target\n",
    "X = wine.data.features\n",
    "y = wine.data.targets.astype(int)\n",
    "\n",
    "# Split the dataset into training, validation, and testing sets\n",
    "np.random.seed(42)\n",
    "indices = np.random.permutation(len(X))\n",
    "split_index = int(0.8 * len(indices))\n",
    "train_indices, temp_indices = indices[:split_index], indices[split_index:]\n",
    "\n",
    "# Further split temp_indices into validation and test sets\n",
    "valid_split_index = int(0.5 * len(temp_indices))  # 50% of temp for validation\n",
    "valid_indices, test_indices = temp_indices[:valid_split_index], temp_indices[valid_split_index:]\n",
    "\n",
    "X_train = X.iloc[train_indices]\n",
    "X_valid = X.iloc[valid_indices]\n",
    "X_test = X.iloc[test_indices]\n",
    "y_train = y.iloc[train_indices].values.flatten()\n",
    "y_valid = y.iloc[valid_indices].values.flatten()\n",
    "y_test = y.iloc[test_indices].values.flatten()\n",
    "\n",
    "\n",
    "\n",
    "# Normalize the training set and get the mean and std\n",
    "X_train, mean, std = normalize(X_train)\n",
    "\n",
    "# Normalize the validation and test sets using the training set parameters\n",
    "X_valid, _, _ = normalize(X_valid, mean, std)\n",
    "X_test, _, _ = normalize(X_test, mean, std)\n",
    "\n",
    "\n",
    "\n",
    "# Grid search for hyperparameters\n",
    "hidden_size_options = [[20], [20, 20]]\n",
    "learning_rate_options = [0.0001, 0.001, 0.01, 0.1]\n",
    "epochs_options = [1000, 2000]\n",
    "activation_functions = ['relu', 'sigmoid', 'tanh']\n",
    "\n",
    "best_accuracy = 0\n",
    "best_params = {}\n",
    "best_losses = []\n",
    "\n",
    "for hidden_sizes, learning_rate, epochs, activation in product(hidden_size_options, learning_rate_options, epochs_options, activation_functions):\n",
    "    accuracy, losses = evaluate_hyperparameters(hidden_sizes, learning_rate, epochs, activation)\n",
    "    print(f\"Hidden layers: {hidden_sizes}, Learning rate: {learning_rate}, Epochs: {epochs}, Activation: {activation}, Validation Accuracy: {accuracy * 100:.2f}%\")\n",
    "    \n",
    "    if accuracy > best_accuracy:\n",
    "        best_accuracy = accuracy\n",
    "        best_params = {'hidden_sizes': hidden_sizes, 'learning_rate': learning_rate, 'epochs': epochs, 'activation': activation}\n",
    "        best_losses = losses\n",
    "\n",
    "print(\"\\nBest Hyperparameters:\")\n",
    "print(best_params)\n",
    "print(f\"Best Validation Accuracy: {best_accuracy * 100:.2f}%\")\n",
    "\n",
    "# Final training with the best parameters\n",
    "final_mlp = MLP(input_size=X_train.shape[1], hidden_sizes=best_params['hidden_sizes'],\n",
    "                 output_size=3, learning_rate=best_params['learning_rate'], \n",
    "                 activation=best_params['activation'])\n",
    "final_mlp.train(X_train, y_train, best_params['epochs'])\n",
    "\n",
    "# Evaluate on the test set\n",
    "y_test_pred = final_mlp.predict(X_test)\n",
    "test_accuracy = np.mean(y_test == y_test_pred)\n",
    "print(f\"Test Accuracy: {test_accuracy * 100:.2f}%\")\n",
    "\n",
    "# Evaluate on the training set\n",
    "y_train_pred = final_mlp.predict(X_train)\n",
    "train_accuracy = np.mean(y_train == y_train_pred)\n",
    "print(f\"Training Accuracy: {train_accuracy * 100:.2f}%\")\n",
    "\n",
    "# Plot the loss curve\n",
    "plt.figure(figsize=(10, 5))\n",
    "plt.plot(best_losses, label='Loss')\n",
    "plt.title('Loss Curve for Best Hyperparameters')\n",
    "plt.xlabel('Epochs')\n",
    "plt.ylabel('Loss')\n",
    "plt.legend()\n",
    "plt.grid()\n",
    "plt.show()\n",
    "\n",
    "# Function to create and print confusion matrix\n",
    "def plot_confusion_matrix(y_true, y_pred, title):\n",
    "    num_classes = 3  # Adjust based on your dataset\n",
    "    confusion_matrix = np.zeros((num_classes, num_classes), dtype=int)\n",
    "\n",
    "    for true_label, predicted_label in zip(y_true, y_pred):\n",
    "        confusion_matrix[predicted_label - 1, true_label - 1] += 1\n",
    "\n",
    "    confusion_df = pd.DataFrame(confusion_matrix, \n",
    "                                 index=[f'Predicted {i}' for i in range(1, num_classes + 1)],\n",
    "                                 columns=[f'True {i}' for i in range(1, num_classes + 1)])\n",
    "\n",
    "    print(f\"\\nConfusion Matrix for {title}:\")\n",
    "    print(confusion_df)\n",
    "\n",
    "    plt.figure(figsize=(8, 6))\n",
    "    sns.heatmap(confusion_df, annot=True, fmt='d', cmap='Blues')\n",
    "    plt.title(f'Confusion Matrix for {title}')\n",
    "    plt.ylabel('Predicted Label')\n",
    "    plt.xlabel('True Label')\n",
    "    plt.show()\n",
    "\n",
    "# Plot confusion matrices for training and test sets\n",
    "plot_confusion_matrix(y_train, y_train_pred, \"Training Set\")\n",
    "plot_confusion_matrix(y_test, y_test_pred, \"Test Set\")\n"
   ]
  },
  {
   "cell_type": "markdown",
   "id": "31548ce6-8917-4066-af11-2ea089e31d93",
   "metadata": {},
   "source": [
    "#### 2 hidden layers"
   ]
  },
  {
   "cell_type": "code",
   "execution_count": 5,
   "id": "8affc8a1-c987-4dd4-b7e0-e0adbd431b0c",
   "metadata": {
    "tags": []
   },
   "outputs": [
    {
     "name": "stdout",
     "output_type": "stream",
     "text": [
      "Early stopping at epoch 170. Best validation accuracy: 88.89%\n",
      "Hidden layers: [10, 10], Learning rate: 0.0001, Epochs: 1000, Activation: relu, Validation Accuracy: 88.89%\n",
      "Early stopping at epoch 100. Best validation accuracy: 22.22%\n",
      "Hidden layers: [10, 10], Learning rate: 0.0001, Epochs: 1000, Activation: sigmoid, Validation Accuracy: 22.22%\n",
      "Early stopping at epoch 240. Best validation accuracy: 94.44%\n",
      "Hidden layers: [10, 10], Learning rate: 0.0001, Epochs: 1000, Activation: tanh, Validation Accuracy: 94.44%\n",
      "Early stopping at epoch 200. Best validation accuracy: 94.44%\n",
      "Hidden layers: [10, 10], Learning rate: 0.0001, Epochs: 2000, Activation: relu, Validation Accuracy: 94.44%\n",
      "Early stopping at epoch 250. Best validation accuracy: 50.00%\n",
      "Hidden layers: [10, 10], Learning rate: 0.0001, Epochs: 2000, Activation: sigmoid, Validation Accuracy: 50.00%\n",
      "Early stopping at epoch 280. Best validation accuracy: 100.00%\n",
      "Hidden layers: [10, 10], Learning rate: 0.0001, Epochs: 2000, Activation: tanh, Validation Accuracy: 100.00%\n",
      "Early stopping at epoch 110. Best validation accuracy: 88.89%\n",
      "Hidden layers: [10, 10], Learning rate: 0.001, Epochs: 1000, Activation: relu, Validation Accuracy: 88.89%\n",
      "Early stopping at epoch 170. Best validation accuracy: 94.44%\n",
      "Hidden layers: [10, 10], Learning rate: 0.001, Epochs: 1000, Activation: sigmoid, Validation Accuracy: 88.89%\n",
      "Early stopping at epoch 140. Best validation accuracy: 100.00%\n",
      "Hidden layers: [10, 10], Learning rate: 0.001, Epochs: 1000, Activation: tanh, Validation Accuracy: 100.00%\n",
      "Early stopping at epoch 180. Best validation accuracy: 100.00%\n",
      "Hidden layers: [10, 10], Learning rate: 0.001, Epochs: 2000, Activation: relu, Validation Accuracy: 94.44%\n",
      "Early stopping at epoch 310. Best validation accuracy: 100.00%\n",
      "Hidden layers: [10, 10], Learning rate: 0.001, Epochs: 2000, Activation: sigmoid, Validation Accuracy: 100.00%\n",
      "Early stopping at epoch 110. Best validation accuracy: 100.00%\n",
      "Hidden layers: [10, 10], Learning rate: 0.001, Epochs: 2000, Activation: tanh, Validation Accuracy: 100.00%\n",
      "Early stopping at epoch 110. Best validation accuracy: 94.44%\n",
      "Hidden layers: [10, 10], Learning rate: 0.01, Epochs: 1000, Activation: relu, Validation Accuracy: 94.44%\n",
      "Early stopping at epoch 120. Best validation accuracy: 100.00%\n",
      "Hidden layers: [10, 10], Learning rate: 0.01, Epochs: 1000, Activation: sigmoid, Validation Accuracy: 94.44%\n",
      "Early stopping at epoch 110. Best validation accuracy: 100.00%\n",
      "Hidden layers: [10, 10], Learning rate: 0.01, Epochs: 1000, Activation: tanh, Validation Accuracy: 100.00%\n",
      "Early stopping at epoch 100. Best validation accuracy: 44.44%\n",
      "Hidden layers: [10, 10], Learning rate: 0.01, Epochs: 2000, Activation: relu, Validation Accuracy: 38.89%\n",
      "Early stopping at epoch 120. Best validation accuracy: 100.00%\n",
      "Hidden layers: [10, 10], Learning rate: 0.01, Epochs: 2000, Activation: sigmoid, Validation Accuracy: 100.00%\n",
      "Early stopping at epoch 110. Best validation accuracy: 94.44%\n",
      "Hidden layers: [10, 10], Learning rate: 0.01, Epochs: 2000, Activation: tanh, Validation Accuracy: 94.44%\n"
     ]
    },
    {
     "name": "stderr",
     "output_type": "stream",
     "text": [
      "/scratch/local/46752745/ipykernel_3676114/38202783.py:80: RuntimeWarning: invalid value encountered in divide\n",
      "  return exp_x / exp_x.sum(axis=1, keepdims=True)\n"
     ]
    },
    {
     "name": "stdout",
     "output_type": "stream",
     "text": [
      "Early stopping at epoch 100. Best validation accuracy: 38.89%\n",
      "Hidden layers: [10, 10], Learning rate: 0.1, Epochs: 1000, Activation: relu, Validation Accuracy: 38.89%\n",
      "Early stopping at epoch 180. Best validation accuracy: 77.78%\n",
      "Hidden layers: [10, 10], Learning rate: 0.1, Epochs: 1000, Activation: sigmoid, Validation Accuracy: 77.78%\n",
      "Early stopping at epoch 120. Best validation accuracy: 94.44%\n",
      "Hidden layers: [10, 10], Learning rate: 0.1, Epochs: 1000, Activation: tanh, Validation Accuracy: 94.44%\n"
     ]
    },
    {
     "name": "stderr",
     "output_type": "stream",
     "text": [
      "/scratch/local/46752745/ipykernel_3676114/38202783.py:80: RuntimeWarning: invalid value encountered in divide\n",
      "  return exp_x / exp_x.sum(axis=1, keepdims=True)\n"
     ]
    },
    {
     "name": "stdout",
     "output_type": "stream",
     "text": [
      "Early stopping at epoch 110. Best validation accuracy: 38.89%\n",
      "Hidden layers: [10, 10], Learning rate: 0.1, Epochs: 2000, Activation: relu, Validation Accuracy: 38.89%\n",
      "Early stopping at epoch 110. Best validation accuracy: 38.89%\n",
      "Hidden layers: [10, 10], Learning rate: 0.1, Epochs: 2000, Activation: sigmoid, Validation Accuracy: 38.89%\n",
      "Early stopping at epoch 120. Best validation accuracy: 100.00%\n",
      "Hidden layers: [10, 10], Learning rate: 0.1, Epochs: 2000, Activation: tanh, Validation Accuracy: 94.44%\n",
      "Early stopping at epoch 210. Best validation accuracy: 100.00%\n",
      "Hidden layers: [20, 20], Learning rate: 0.0001, Epochs: 1000, Activation: relu, Validation Accuracy: 100.00%\n",
      "Early stopping at epoch 100. Best validation accuracy: 38.89%\n",
      "Hidden layers: [20, 20], Learning rate: 0.0001, Epochs: 1000, Activation: sigmoid, Validation Accuracy: 27.78%\n",
      "Early stopping at epoch 120. Best validation accuracy: 100.00%\n",
      "Hidden layers: [20, 20], Learning rate: 0.0001, Epochs: 1000, Activation: tanh, Validation Accuracy: 100.00%\n",
      "Early stopping at epoch 170. Best validation accuracy: 94.44%\n",
      "Hidden layers: [20, 20], Learning rate: 0.0001, Epochs: 2000, Activation: relu, Validation Accuracy: 94.44%\n",
      "Early stopping at epoch 110. Best validation accuracy: 33.33%\n",
      "Hidden layers: [20, 20], Learning rate: 0.0001, Epochs: 2000, Activation: sigmoid, Validation Accuracy: 22.22%\n",
      "Early stopping at epoch 210. Best validation accuracy: 100.00%\n",
      "Hidden layers: [20, 20], Learning rate: 0.0001, Epochs: 2000, Activation: tanh, Validation Accuracy: 100.00%\n",
      "Early stopping at epoch 110. Best validation accuracy: 100.00%\n",
      "Hidden layers: [20, 20], Learning rate: 0.001, Epochs: 1000, Activation: relu, Validation Accuracy: 100.00%\n",
      "Early stopping at epoch 180. Best validation accuracy: 100.00%\n",
      "Hidden layers: [20, 20], Learning rate: 0.001, Epochs: 1000, Activation: sigmoid, Validation Accuracy: 100.00%\n",
      "Early stopping at epoch 110. Best validation accuracy: 100.00%\n",
      "Hidden layers: [20, 20], Learning rate: 0.001, Epochs: 1000, Activation: tanh, Validation Accuracy: 100.00%\n",
      "Early stopping at epoch 140. Best validation accuracy: 100.00%\n",
      "Hidden layers: [20, 20], Learning rate: 0.001, Epochs: 2000, Activation: relu, Validation Accuracy: 94.44%\n",
      "Early stopping at epoch 240. Best validation accuracy: 100.00%\n",
      "Hidden layers: [20, 20], Learning rate: 0.001, Epochs: 2000, Activation: sigmoid, Validation Accuracy: 94.44%\n",
      "Early stopping at epoch 120. Best validation accuracy: 100.00%\n",
      "Hidden layers: [20, 20], Learning rate: 0.001, Epochs: 2000, Activation: tanh, Validation Accuracy: 100.00%\n",
      "Early stopping at epoch 110. Best validation accuracy: 94.44%\n",
      "Hidden layers: [20, 20], Learning rate: 0.01, Epochs: 1000, Activation: relu, Validation Accuracy: 94.44%\n",
      "Early stopping at epoch 150. Best validation accuracy: 100.00%\n",
      "Hidden layers: [20, 20], Learning rate: 0.01, Epochs: 1000, Activation: sigmoid, Validation Accuracy: 100.00%\n",
      "Early stopping at epoch 110. Best validation accuracy: 100.00%\n",
      "Hidden layers: [20, 20], Learning rate: 0.01, Epochs: 1000, Activation: tanh, Validation Accuracy: 100.00%\n",
      "Early stopping at epoch 110. Best validation accuracy: 100.00%\n",
      "Hidden layers: [20, 20], Learning rate: 0.01, Epochs: 2000, Activation: relu, Validation Accuracy: 94.44%\n",
      "Early stopping at epoch 120. Best validation accuracy: 100.00%\n",
      "Hidden layers: [20, 20], Learning rate: 0.01, Epochs: 2000, Activation: sigmoid, Validation Accuracy: 100.00%\n",
      "Early stopping at epoch 110. Best validation accuracy: 100.00%\n",
      "Hidden layers: [20, 20], Learning rate: 0.01, Epochs: 2000, Activation: tanh, Validation Accuracy: 100.00%\n"
     ]
    },
    {
     "name": "stderr",
     "output_type": "stream",
     "text": [
      "/scratch/local/46752745/ipykernel_3676114/38202783.py:80: RuntimeWarning: invalid value encountered in divide\n",
      "  return exp_x / exp_x.sum(axis=1, keepdims=True)\n"
     ]
    },
    {
     "name": "stdout",
     "output_type": "stream",
     "text": [
      "Early stopping at epoch 100. Best validation accuracy: 38.89%\n",
      "Hidden layers: [20, 20], Learning rate: 0.1, Epochs: 1000, Activation: relu, Validation Accuracy: 38.89%\n",
      "Early stopping at epoch 170. Best validation accuracy: 94.44%\n",
      "Hidden layers: [20, 20], Learning rate: 0.1, Epochs: 1000, Activation: sigmoid, Validation Accuracy: 94.44%\n",
      "Early stopping at epoch 120. Best validation accuracy: 94.44%\n",
      "Hidden layers: [20, 20], Learning rate: 0.1, Epochs: 1000, Activation: tanh, Validation Accuracy: 94.44%\n"
     ]
    },
    {
     "name": "stderr",
     "output_type": "stream",
     "text": [
      "/scratch/local/46752745/ipykernel_3676114/38202783.py:80: RuntimeWarning: invalid value encountered in divide\n",
      "  return exp_x / exp_x.sum(axis=1, keepdims=True)\n"
     ]
    },
    {
     "name": "stdout",
     "output_type": "stream",
     "text": [
      "Early stopping at epoch 100. Best validation accuracy: 38.89%\n",
      "Hidden layers: [20, 20], Learning rate: 0.1, Epochs: 2000, Activation: relu, Validation Accuracy: 38.89%\n",
      "Early stopping at epoch 140. Best validation accuracy: 94.44%\n",
      "Hidden layers: [20, 20], Learning rate: 0.1, Epochs: 2000, Activation: sigmoid, Validation Accuracy: 94.44%\n",
      "Early stopping at epoch 110. Best validation accuracy: 94.44%\n",
      "Hidden layers: [20, 20], Learning rate: 0.1, Epochs: 2000, Activation: tanh, Validation Accuracy: 94.44%\n",
      "\n",
      "Best Hyperparameters:\n",
      "{'hidden_sizes': [10, 10], 'learning_rate': 0.0001, 'epochs': 2000, 'activation': 'tanh'}\n",
      "Best Validation Accuracy: 100.00%\n",
      "Early stopping at epoch 130. Best validation accuracy: 94.44%\n",
      "Test Accuracy: 88.89%\n",
      "Training Accuracy: 91.55%\n"
     ]
    },
    {
     "data": {
      "image/png": "[encoded data removed]",
      "text/plain": [
       "<Figure size 720x360 with 1 Axes>"
      ]
     },
     "metadata": {
      "needs_background": "light"
     },
     "output_type": "display_data"
    },
    {
     "name": "stdout",
     "output_type": "stream",
     "text": [
      "\n",
      "Confusion Matrix for Training Set:\n",
      "             True 1  True 2  True 3\n",
      "Predicted 1      48       4       0\n",
      "Predicted 2       0      45       0\n",
      "Predicted 3       0       8      37\n"
     ]
    },
    {
     "data": {
      "image/png": "[encoded data removed]",
      "text/plain": [
       "<Figure size 576x432 with 2 Axes>"
      ]
     },
     "metadata": {
      "needs_background": "light"
     },
     "output_type": "display_data"
    },
    {
     "name": "stdout",
     "output_type": "stream",
     "text": [
      "\n",
      "Confusion Matrix for Test Set:\n",
      "             True 1  True 2  True 3\n",
      "Predicted 1       4       1       0\n",
      "Predicted 2       0       8       0\n",
      "Predicted 3       0       1       4\n"
     ]
    },
    {
     "data": {
      "image/png": "[encoded data removed]",
      "text/plain": [
       "<Figure size 576x432 with 2 Axes>"
      ]
     },
     "metadata": {
      "needs_background": "light"
     },
     "output_type": "display_data"
    }
   ],
   "source": [
    "import numpy as np\n",
    "import pandas as pd\n",
    "from ucimlrepo import fetch_ucirepo\n",
    "from itertools import product\n",
    "import matplotlib.pyplot as plt\n",
    "import seaborn as sns\n",
    "\n",
    "# Fetch the dataset\n",
    "wine = fetch_ucirepo(id=109)\n",
    "\n",
    "# Load features and target\n",
    "X = wine.data.features\n",
    "y = wine.data.targets.astype(int)\n",
    "\n",
    "# Split the dataset into training, validation, and testing sets\n",
    "np.random.seed(42)\n",
    "indices = np.random.permutation(len(X))\n",
    "split_index = int(0.8 * len(indices))\n",
    "train_indices, temp_indices = indices[:split_index], indices[split_index:]\n",
    "\n",
    "# Further split temp_indices into validation and test sets\n",
    "valid_split_index = int(0.5 * len(temp_indices))  # 50% of temp for validation\n",
    "valid_indices, test_indices = temp_indices[:valid_split_index], temp_indices[valid_split_index:]\n",
    "\n",
    "X_train = X.iloc[train_indices]\n",
    "X_valid = X.iloc[valid_indices]\n",
    "X_test = X.iloc[test_indices]\n",
    "y_train = y.iloc[train_indices].values.flatten()\n",
    "y_valid = y.iloc[valid_indices].values.flatten()\n",
    "y_test = y.iloc[test_indices].values.flatten()\n",
    "\n",
    "\n",
    "\n",
    "# Normalize the training set and get the mean and std\n",
    "X_train, mean, std = normalize(X_train)\n",
    "\n",
    "# Normalize the validation and test sets using the training set parameters\n",
    "X_valid, _, _ = normalize(X_valid, mean, std)\n",
    "X_test, _, _ = normalize(X_test, mean, std)\n",
    "\n",
    "\n",
    "\n",
    "# Grid search for hyperparameters\n",
    "hidden_size_options = [[10, 10], [20, 20]]\n",
    "learning_rate_options = [0.0001, 0.001, 0.01, 0.1]\n",
    "epochs_options = [1000, 2000]\n",
    "activation_functions = ['relu', 'sigmoid', 'tanh']\n",
    "\n",
    "best_accuracy = 0\n",
    "best_params = {}\n",
    "best_losses = []\n",
    "\n",
    "for hidden_sizes, learning_rate, epochs, activation in product(hidden_size_options, learning_rate_options, epochs_options, activation_functions):\n",
    "    accuracy, losses = evaluate_hyperparameters(hidden_sizes, learning_rate, epochs, activation)\n",
    "    print(f\"Hidden layers: {hidden_sizes}, Learning rate: {learning_rate}, Epochs: {epochs}, Activation: {activation}, Validation Accuracy: {accuracy * 100:.2f}%\")\n",
    "    \n",
    "    if accuracy > best_accuracy:\n",
    "        best_accuracy = accuracy\n",
    "        best_params = {'hidden_sizes': hidden_sizes, 'learning_rate': learning_rate, 'epochs': epochs, 'activation': activation}\n",
    "        best_losses = losses\n",
    "\n",
    "print(\"\\nBest Hyperparameters:\")\n",
    "print(best_params)\n",
    "print(f\"Best Validation Accuracy: {best_accuracy * 100:.2f}%\")\n",
    "\n",
    "# Final training with the best parameters\n",
    "final_mlp = MLP(input_size=X_train.shape[1], hidden_sizes=best_params['hidden_sizes'],\n",
    "                 output_size=3, learning_rate=best_params['learning_rate'], \n",
    "                 activation=best_params['activation'])\n",
    "final_mlp.train(X_train, y_train, best_params['epochs'])\n",
    "\n",
    "# Evaluate on the test set\n",
    "y_test_pred = final_mlp.predict(X_test)\n",
    "test_accuracy = np.mean(y_test == y_test_pred)\n",
    "print(f\"Test Accuracy: {test_accuracy * 100:.2f}%\")\n",
    "\n",
    "# Evaluate on the training set\n",
    "y_train_pred = final_mlp.predict(X_train)\n",
    "train_accuracy = np.mean(y_train == y_train_pred)\n",
    "print(f\"Training Accuracy: {train_accuracy * 100:.2f}%\")\n",
    "\n",
    "# Plot the loss curve\n",
    "plt.figure(figsize=(10, 5))\n",
    "plt.plot(best_losses, label='Loss')\n",
    "plt.title('Loss Curve for Best Hyperparameters')\n",
    "plt.xlabel('Epochs')\n",
    "plt.ylabel('Loss')\n",
    "plt.legend()\n",
    "plt.grid()\n",
    "plt.show()\n",
    "\n",
    "# Function to create and print confusion matrix\n",
    "def plot_confusion_matrix(y_true, y_pred, title):\n",
    "    num_classes = 3  # Adjust based on your dataset\n",
    "    confusion_matrix = np.zeros((num_classes, num_classes), dtype=int)\n",
    "\n",
    "    for true_label, predicted_label in zip(y_true, y_pred):\n",
    "        confusion_matrix[predicted_label - 1, true_label - 1] += 1\n",
    "\n",
    "    confusion_df = pd.DataFrame(confusion_matrix, \n",
    "                                 index=[f'Predicted {i}' for i in range(1, num_classes + 1)],\n",
    "                                 columns=[f'True {i}' for i in range(1, num_classes + 1)])\n",
    "\n",
    "    print(f\"\\nConfusion Matrix for {title}:\")\n",
    "    print(confusion_df)\n",
    "\n",
    "    plt.figure(figsize=(8, 6))\n",
    "    sns.heatmap(confusion_df, annot=True, fmt='d', cmap='Blues')\n",
    "    plt.title(f'Confusion Matrix for {title}')\n",
    "    plt.ylabel('Predicted Label')\n",
    "    plt.xlabel('True Label')\n",
    "    plt.show()\n",
    "\n",
    "# Plot confusion matrices for training and test sets\n",
    "plot_confusion_matrix(y_train, y_train_pred, \"Training Set\")\n",
    "plot_confusion_matrix(y_test, y_test_pred, \"Test Set\")\n"
   ]
  },
  {
   "cell_type": "markdown",
   "id": "9f97f783-bce5-4e1a-9acd-961802f3c638",
   "metadata": {},
   "source": [
    "## Show the effect on performance of different nonlinearities"
   ]
  },
  {
   "cell_type": "markdown",
   "id": "2add1289-3331-4c13-a41d-95760a9abc3f",
   "metadata": {
    "tags": []
   },
   "source": [
    "#### Relu"
   ]
  },
  {
   "cell_type": "code",
   "execution_count": 6,
   "id": "6748c650-3e93-4437-856f-d43a66629d99",
   "metadata": {
    "tags": []
   },
   "outputs": [
    {
     "name": "stdout",
     "output_type": "stream",
     "text": [
      "Early stopping at epoch 280. Best validation accuracy: 100.00%\n",
      "Hidden layers: [10], Learning rate: 0.0001, Epochs: 1000, Activation: relu, Validation Accuracy: 100.00%\n",
      "Early stopping at epoch 120. Best validation accuracy: 100.00%\n",
      "Hidden layers: [10], Learning rate: 0.0001, Epochs: 2000, Activation: relu, Validation Accuracy: 100.00%\n",
      "Early stopping at epoch 130. Best validation accuracy: 94.44%\n",
      "Hidden layers: [10], Learning rate: 0.001, Epochs: 1000, Activation: relu, Validation Accuracy: 94.44%\n",
      "Early stopping at epoch 150. Best validation accuracy: 100.00%\n",
      "Hidden layers: [10], Learning rate: 0.001, Epochs: 2000, Activation: relu, Validation Accuracy: 100.00%\n",
      "Early stopping at epoch 110. Best validation accuracy: 94.44%\n",
      "Hidden layers: [10], Learning rate: 0.01, Epochs: 1000, Activation: relu, Validation Accuracy: 94.44%\n",
      "Early stopping at epoch 110. Best validation accuracy: 100.00%\n",
      "Hidden layers: [10], Learning rate: 0.01, Epochs: 2000, Activation: relu, Validation Accuracy: 94.44%\n"
     ]
    },
    {
     "name": "stderr",
     "output_type": "stream",
     "text": [
      "/scratch/local/46752745/ipykernel_3676114/38202783.py:80: RuntimeWarning: invalid value encountered in divide\n",
      "  return exp_x / exp_x.sum(axis=1, keepdims=True)\n",
      "/scratch/local/46752745/ipykernel_3676114/38202783.py:80: RuntimeWarning: invalid value encountered in divide\n",
      "  return exp_x / exp_x.sum(axis=1, keepdims=True)\n"
     ]
    },
    {
     "name": "stdout",
     "output_type": "stream",
     "text": [
      "Early stopping at epoch 110. Best validation accuracy: 38.89%\n",
      "Hidden layers: [10], Learning rate: 0.1, Epochs: 1000, Activation: relu, Validation Accuracy: 38.89%\n",
      "Early stopping at epoch 100. Best validation accuracy: 44.44%\n",
      "Hidden layers: [10], Learning rate: 0.1, Epochs: 2000, Activation: relu, Validation Accuracy: 38.89%\n",
      "Early stopping at epoch 210. Best validation accuracy: 100.00%\n",
      "Hidden layers: [10, 10], Learning rate: 0.0001, Epochs: 1000, Activation: relu, Validation Accuracy: 94.44%\n",
      "Early stopping at epoch 240. Best validation accuracy: 100.00%\n",
      "Hidden layers: [10, 10], Learning rate: 0.0001, Epochs: 2000, Activation: relu, Validation Accuracy: 100.00%\n",
      "Early stopping at epoch 120. Best validation accuracy: 100.00%\n",
      "Hidden layers: [10, 10], Learning rate: 0.001, Epochs: 1000, Activation: relu, Validation Accuracy: 94.44%\n",
      "Early stopping at epoch 150. Best validation accuracy: 94.44%\n",
      "Hidden layers: [10, 10], Learning rate: 0.001, Epochs: 2000, Activation: relu, Validation Accuracy: 94.44%\n",
      "Early stopping at epoch 110. Best validation accuracy: 94.44%\n",
      "Hidden layers: [10, 10], Learning rate: 0.01, Epochs: 1000, Activation: relu, Validation Accuracy: 94.44%\n",
      "Early stopping at epoch 140. Best validation accuracy: 94.44%\n",
      "Hidden layers: [10, 10], Learning rate: 0.01, Epochs: 2000, Activation: relu, Validation Accuracy: 94.44%\n",
      "Early stopping at epoch 110. Best validation accuracy: 38.89%\n",
      "Hidden layers: [10, 10], Learning rate: 0.1, Epochs: 1000, Activation: relu, Validation Accuracy: 38.89%\n"
     ]
    },
    {
     "name": "stderr",
     "output_type": "stream",
     "text": [
      "/scratch/local/46752745/ipykernel_3676114/38202783.py:80: RuntimeWarning: invalid value encountered in divide\n",
      "  return exp_x / exp_x.sum(axis=1, keepdims=True)\n",
      "/scratch/local/46752745/ipykernel_3676114/38202783.py:80: RuntimeWarning: invalid value encountered in divide\n",
      "  return exp_x / exp_x.sum(axis=1, keepdims=True)\n"
     ]
    },
    {
     "name": "stdout",
     "output_type": "stream",
     "text": [
      "Early stopping at epoch 110. Best validation accuracy: 38.89%\n",
      "Hidden layers: [10, 10], Learning rate: 0.1, Epochs: 2000, Activation: relu, Validation Accuracy: 38.89%\n",
      "Early stopping at epoch 150. Best validation accuracy: 88.89%\n",
      "Hidden layers: [20], Learning rate: 0.0001, Epochs: 1000, Activation: relu, Validation Accuracy: 83.33%\n",
      "Early stopping at epoch 290. Best validation accuracy: 100.00%\n",
      "Hidden layers: [20], Learning rate: 0.0001, Epochs: 2000, Activation: relu, Validation Accuracy: 100.00%\n",
      "Early stopping at epoch 110. Best validation accuracy: 94.44%\n",
      "Hidden layers: [20], Learning rate: 0.001, Epochs: 1000, Activation: relu, Validation Accuracy: 94.44%\n",
      "Early stopping at epoch 140. Best validation accuracy: 100.00%\n",
      "Hidden layers: [20], Learning rate: 0.001, Epochs: 2000, Activation: relu, Validation Accuracy: 94.44%\n",
      "Early stopping at epoch 110. Best validation accuracy: 100.00%\n",
      "Hidden layers: [20], Learning rate: 0.01, Epochs: 1000, Activation: relu, Validation Accuracy: 100.00%\n",
      "Early stopping at epoch 110. Best validation accuracy: 94.44%\n",
      "Hidden layers: [20], Learning rate: 0.01, Epochs: 2000, Activation: relu, Validation Accuracy: 94.44%\n",
      "Early stopping at epoch 110. Best validation accuracy: 38.89%\n",
      "Hidden layers: [20], Learning rate: 0.1, Epochs: 1000, Activation: relu, Validation Accuracy: 38.89%\n",
      "Early stopping at epoch 100. Best validation accuracy: 38.89%\n",
      "Hidden layers: [20], Learning rate: 0.1, Epochs: 2000, Activation: relu, Validation Accuracy: 38.89%\n",
      "\n",
      "Best Hyperparameters:\n",
      "{'hidden_sizes': [10], 'learning_rate': 0.0001, 'epochs': 1000, 'activation': 'relu'}\n",
      "Best Validation Accuracy: 100.00%\n"
     ]
    },
    {
     "name": "stderr",
     "output_type": "stream",
     "text": [
      "/scratch/local/46752745/ipykernel_3676114/38202783.py:80: RuntimeWarning: invalid value encountered in divide\n",
      "  return exp_x / exp_x.sum(axis=1, keepdims=True)\n",
      "/scratch/local/46752745/ipykernel_3676114/38202783.py:80: RuntimeWarning: invalid value encountered in divide\n",
      "  return exp_x / exp_x.sum(axis=1, keepdims=True)\n"
     ]
    },
    {
     "name": "stdout",
     "output_type": "stream",
     "text": [
      "Early stopping at epoch 230. Best validation accuracy: 94.44%\n",
      "Test Accuracy: 94.44%\n",
      "Training Accuracy: 98.59%\n"
     ]
    },
    {
     "data": {
      "image/png": "[encoded data removed]",
      "text/plain": [
       "<Figure size 720x360 with 1 Axes>"
      ]
     },
     "metadata": {
      "needs_background": "light"
     },
     "output_type": "display_data"
    },
    {
     "name": "stdout",
     "output_type": "stream",
     "text": [
      "\n",
      "Confusion Matrix for Training Set:\n",
      "             True 1  True 2  True 3\n",
      "Predicted 1      48       0       0\n",
      "Predicted 2       0      55       0\n",
      "Predicted 3       0       2      37\n"
     ]
    },
    {
     "data": {
      "image/png": "[encoded data removed]",
      "text/plain": [
       "<Figure size 576x432 with 2 Axes>"
      ]
     },
     "metadata": {
      "needs_background": "light"
     },
     "output_type": "display_data"
    },
    {
     "name": "stdout",
     "output_type": "stream",
     "text": [
      "\n",
      "Confusion Matrix for Test Set:\n",
      "             True 1  True 2  True 3\n",
      "Predicted 1       4       0       0\n",
      "Predicted 2       0      10       1\n",
      "Predicted 3       0       0       3\n"
     ]
    },
    {
     "data": {
      "image/png": "[encoded data removed]",
      "text/plain": [
       "<Figure size 576x432 with 2 Axes>"
      ]
     },
     "metadata": {
      "needs_background": "light"
     },
     "output_type": "display_data"
    }
   ],
   "source": [
    "import numpy as np\n",
    "import pandas as pd\n",
    "from ucimlrepo import fetch_ucirepo\n",
    "from itertools import product\n",
    "import matplotlib.pyplot as plt\n",
    "import seaborn as sns\n",
    "\n",
    "# Fetch the dataset\n",
    "wine = fetch_ucirepo(id=109)\n",
    "\n",
    "# Load features and target\n",
    "X = wine.data.features\n",
    "y = wine.data.targets.astype(int)\n",
    "\n",
    "# Split the dataset into training, validation, and testing sets\n",
    "np.random.seed(42)\n",
    "indices = np.random.permutation(len(X))\n",
    "split_index = int(0.8 * len(indices))\n",
    "train_indices, temp_indices = indices[:split_index], indices[split_index:]\n",
    "\n",
    "# Further split temp_indices into validation and test sets\n",
    "valid_split_index = int(0.5 * len(temp_indices))  # 50% of temp for validation\n",
    "valid_indices, test_indices = temp_indices[:valid_split_index], temp_indices[valid_split_index:]\n",
    "\n",
    "X_train = X.iloc[train_indices]\n",
    "X_valid = X.iloc[valid_indices]\n",
    "X_test = X.iloc[test_indices]\n",
    "y_train = y.iloc[train_indices].values.flatten()\n",
    "y_valid = y.iloc[valid_indices].values.flatten()\n",
    "y_test = y.iloc[test_indices].values.flatten()\n",
    "\n",
    "\n",
    "\n",
    "# Normalize the training set and get the mean and std\n",
    "X_train, mean, std = normalize(X_train)\n",
    "\n",
    "# Normalize the validation and test sets using the training set parameters\n",
    "X_valid, _, _ = normalize(X_valid, mean, std)\n",
    "X_test, _, _ = normalize(X_test, mean, std)\n",
    "\n",
    "\n",
    "\n",
    "# Grid search for hyperparameters\n",
    "hidden_size_options = [[10], [10, 10], [20]]\n",
    "learning_rate_options = [0.0001, 0.001, 0.01, 0.1]\n",
    "epochs_options = [1000, 2000]\n",
    "activation_functions = ['relu']\n",
    "\n",
    "best_accuracy = 0\n",
    "best_params = {}\n",
    "best_losses = []\n",
    "\n",
    "for hidden_sizes, learning_rate, epochs, activation in product(hidden_size_options, learning_rate_options, epochs_options, activation_functions):\n",
    "    accuracy, losses = evaluate_hyperparameters(hidden_sizes, learning_rate, epochs, activation)\n",
    "    print(f\"Hidden layers: {hidden_sizes}, Learning rate: {learning_rate}, Epochs: {epochs}, Activation: {activation}, Validation Accuracy: {accuracy * 100:.2f}%\")\n",
    "    \n",
    "    if accuracy > best_accuracy:\n",
    "        best_accuracy = accuracy\n",
    "        best_params = {'hidden_sizes': hidden_sizes, 'learning_rate': learning_rate, 'epochs': epochs, 'activation': activation}\n",
    "        best_losses = losses\n",
    "\n",
    "print(\"\\nBest Hyperparameters:\")\n",
    "print(best_params)\n",
    "print(f\"Best Validation Accuracy: {best_accuracy * 100:.2f}%\")\n",
    "\n",
    "# Final training with the best parameters\n",
    "final_mlp = MLP(input_size=X_train.shape[1], hidden_sizes=best_params['hidden_sizes'],\n",
    "                 output_size=3, learning_rate=best_params['learning_rate'], \n",
    "                 activation=best_params['activation'])\n",
    "final_mlp.train(X_train, y_train, best_params['epochs'])\n",
    "\n",
    "# Evaluate on the test set\n",
    "y_test_pred = final_mlp.predict(X_test)\n",
    "test_accuracy = np.mean(y_test == y_test_pred)\n",
    "print(f\"Test Accuracy: {test_accuracy * 100:.2f}%\")\n",
    "\n",
    "# Evaluate on the training set\n",
    "y_train_pred = final_mlp.predict(X_train)\n",
    "train_accuracy = np.mean(y_train == y_train_pred)\n",
    "print(f\"Training Accuracy: {train_accuracy * 100:.2f}%\")\n",
    "\n",
    "# Plot the loss curve\n",
    "plt.figure(figsize=(10, 5))\n",
    "plt.plot(best_losses, label='Loss')\n",
    "plt.title('Loss Curve for Best Hyperparameters')\n",
    "plt.xlabel('Epochs')\n",
    "plt.ylabel('Loss')\n",
    "plt.legend()\n",
    "plt.grid()\n",
    "plt.show()\n",
    "\n",
    "# Function to create and print confusion matrix\n",
    "def plot_confusion_matrix(y_true, y_pred, title):\n",
    "    num_classes = 3  # Adjust based on your dataset\n",
    "    confusion_matrix = np.zeros((num_classes, num_classes), dtype=int)\n",
    "\n",
    "    for true_label, predicted_label in zip(y_true, y_pred):\n",
    "        confusion_matrix[predicted_label - 1, true_label - 1] += 1\n",
    "\n",
    "    confusion_df = pd.DataFrame(confusion_matrix, \n",
    "                                 index=[f'Predicted {i}' for i in range(1, num_classes + 1)],\n",
    "                                 columns=[f'True {i}' for i in range(1, num_classes + 1)])\n",
    "\n",
    "    print(f\"\\nConfusion Matrix for {title}:\")\n",
    "    print(confusion_df)\n",
    "\n",
    "    plt.figure(figsize=(8, 6))\n",
    "    sns.heatmap(confusion_df, annot=True, fmt='d', cmap='Blues')\n",
    "    plt.title(f'Confusion Matrix for {title}')\n",
    "    plt.ylabel('Predicted Label')\n",
    "    plt.xlabel('True Label')\n",
    "    plt.show()\n",
    "\n",
    "# Plot confusion matrices for training and test sets\n",
    "plot_confusion_matrix(y_train, y_train_pred, \"Training Set\")\n",
    "plot_confusion_matrix(y_test, y_test_pred, \"Test Set\")\n"
   ]
  },
  {
   "cell_type": "markdown",
   "id": "98f042cc-a759-4c18-8186-f12c4845d581",
   "metadata": {},
   "source": [
    "#### sigmoid"
   ]
  },
  {
   "cell_type": "code",
   "execution_count": 7,
   "id": "d4bd9dac-3654-4e2d-8436-cc4abababa67",
   "metadata": {
    "tags": []
   },
   "outputs": [
    {
     "name": "stdout",
     "output_type": "stream",
     "text": [
      "Early stopping at epoch 210. Best validation accuracy: 94.44%\n",
      "Hidden layers: [10], Learning rate: 0.0001, Epochs: 1000, Activation: sigmoid, Validation Accuracy: 94.44%\n",
      "Early stopping at epoch 280. Best validation accuracy: 100.00%\n",
      "Hidden layers: [10], Learning rate: 0.0001, Epochs: 2000, Activation: sigmoid, Validation Accuracy: 100.00%\n",
      "Early stopping at epoch 140. Best validation accuracy: 100.00%\n",
      "Hidden layers: [10], Learning rate: 0.001, Epochs: 1000, Activation: sigmoid, Validation Accuracy: 100.00%\n",
      "Early stopping at epoch 190. Best validation accuracy: 100.00%\n",
      "Hidden layers: [10], Learning rate: 0.001, Epochs: 2000, Activation: sigmoid, Validation Accuracy: 94.44%\n",
      "Early stopping at epoch 110. Best validation accuracy: 100.00%\n",
      "Hidden layers: [10], Learning rate: 0.01, Epochs: 1000, Activation: sigmoid, Validation Accuracy: 94.44%\n",
      "Early stopping at epoch 110. Best validation accuracy: 100.00%\n",
      "Hidden layers: [10], Learning rate: 0.01, Epochs: 2000, Activation: sigmoid, Validation Accuracy: 100.00%\n",
      "Early stopping at epoch 110. Best validation accuracy: 100.00%\n",
      "Hidden layers: [10], Learning rate: 0.1, Epochs: 1000, Activation: sigmoid, Validation Accuracy: 94.44%\n",
      "Early stopping at epoch 110. Best validation accuracy: 94.44%\n",
      "Hidden layers: [10], Learning rate: 0.1, Epochs: 2000, Activation: sigmoid, Validation Accuracy: 94.44%\n",
      "Early stopping at epoch 100. Best validation accuracy: 38.89%\n",
      "Hidden layers: [10, 10], Learning rate: 0.0001, Epochs: 1000, Activation: sigmoid, Validation Accuracy: 11.11%\n",
      "Early stopping at epoch 260. Best validation accuracy: 83.33%\n",
      "Hidden layers: [10, 10], Learning rate: 0.0001, Epochs: 2000, Activation: sigmoid, Validation Accuracy: 83.33%\n",
      "Early stopping at epoch 200. Best validation accuracy: 100.00%\n",
      "Hidden layers: [10, 10], Learning rate: 0.001, Epochs: 1000, Activation: sigmoid, Validation Accuracy: 100.00%\n",
      "Early stopping at epoch 310. Best validation accuracy: 100.00%\n",
      "Hidden layers: [10, 10], Learning rate: 0.001, Epochs: 2000, Activation: sigmoid, Validation Accuracy: 100.00%\n",
      "Early stopping at epoch 150. Best validation accuracy: 100.00%\n",
      "Hidden layers: [10, 10], Learning rate: 0.01, Epochs: 1000, Activation: sigmoid, Validation Accuracy: 100.00%\n",
      "Early stopping at epoch 140. Best validation accuracy: 100.00%\n",
      "Hidden layers: [10, 10], Learning rate: 0.01, Epochs: 2000, Activation: sigmoid, Validation Accuracy: 100.00%\n",
      "Early stopping at epoch 190. Best validation accuracy: 100.00%\n",
      "Hidden layers: [10, 10], Learning rate: 0.1, Epochs: 1000, Activation: sigmoid, Validation Accuracy: 61.11%\n",
      "Early stopping at epoch 150. Best validation accuracy: 66.67%\n",
      "Hidden layers: [10, 10], Learning rate: 0.1, Epochs: 2000, Activation: sigmoid, Validation Accuracy: 66.67%\n",
      "Early stopping at epoch 310. Best validation accuracy: 100.00%\n",
      "Hidden layers: [20], Learning rate: 0.0001, Epochs: 1000, Activation: sigmoid, Validation Accuracy: 100.00%\n",
      "Early stopping at epoch 240. Best validation accuracy: 100.00%\n",
      "Hidden layers: [20], Learning rate: 0.0001, Epochs: 2000, Activation: sigmoid, Validation Accuracy: 100.00%\n",
      "Early stopping at epoch 120. Best validation accuracy: 94.44%\n",
      "Hidden layers: [20], Learning rate: 0.001, Epochs: 1000, Activation: sigmoid, Validation Accuracy: 94.44%\n",
      "Early stopping at epoch 130. Best validation accuracy: 100.00%\n",
      "Hidden layers: [20], Learning rate: 0.001, Epochs: 2000, Activation: sigmoid, Validation Accuracy: 100.00%\n",
      "Early stopping at epoch 110. Best validation accuracy: 100.00%\n",
      "Hidden layers: [20], Learning rate: 0.01, Epochs: 1000, Activation: sigmoid, Validation Accuracy: 100.00%\n",
      "Early stopping at epoch 110. Best validation accuracy: 100.00%\n",
      "Hidden layers: [20], Learning rate: 0.01, Epochs: 2000, Activation: sigmoid, Validation Accuracy: 100.00%\n",
      "Early stopping at epoch 110. Best validation accuracy: 94.44%\n",
      "Hidden layers: [20], Learning rate: 0.1, Epochs: 1000, Activation: sigmoid, Validation Accuracy: 94.44%\n",
      "Early stopping at epoch 110. Best validation accuracy: 94.44%\n",
      "Hidden layers: [20], Learning rate: 0.1, Epochs: 2000, Activation: sigmoid, Validation Accuracy: 94.44%\n",
      "\n",
      "Best Hyperparameters:\n",
      "{'hidden_sizes': [10], 'learning_rate': 0.0001, 'epochs': 2000, 'activation': 'sigmoid'}\n",
      "Best Validation Accuracy: 100.00%\n",
      "Early stopping at epoch 100. Best validation accuracy: 55.56%\n",
      "Test Accuracy: 44.44%\n",
      "Training Accuracy: 57.04%\n"
     ]
    },
    {
     "data": {
      "image/png": "[encoded data removed]",
      "text/plain": [
       "<Figure size 720x360 with 1 Axes>"
      ]
     },
     "metadata": {
      "needs_background": "light"
     },
     "output_type": "display_data"
    },
    {
     "name": "stdout",
     "output_type": "stream",
     "text": [
      "\n",
      "Confusion Matrix for Training Set:\n",
      "             True 1  True 2  True 3\n",
      "Predicted 1      47      24       0\n",
      "Predicted 2       1      33      36\n",
      "Predicted 3       0       0       1\n"
     ]
    },
    {
     "data": {
      "image/png": "[encoded data removed]",
      "text/plain": [
       "<Figure size 576x432 with 2 Axes>"
      ]
     },
     "metadata": {
      "needs_background": "light"
     },
     "output_type": "display_data"
    },
    {
     "name": "stdout",
     "output_type": "stream",
     "text": [
      "\n",
      "Confusion Matrix for Test Set:\n",
      "             True 1  True 2  True 3\n",
      "Predicted 1       4       6       0\n",
      "Predicted 2       0       4       4\n",
      "Predicted 3       0       0       0\n"
     ]
    },
    {
     "data": {
      "image/png": "[encoded data removed]",
      "text/plain": [
       "<Figure size 576x432 with 2 Axes>"
      ]
     },
     "metadata": {
      "needs_background": "light"
     },
     "output_type": "display_data"
    }
   ],
   "source": [
    "import numpy as np\n",
    "import pandas as pd\n",
    "from ucimlrepo import fetch_ucirepo\n",
    "from itertools import product\n",
    "import matplotlib.pyplot as plt\n",
    "import seaborn as sns\n",
    "\n",
    "# Fetch the dataset\n",
    "wine = fetch_ucirepo(id=109)\n",
    "\n",
    "# Load features and target\n",
    "X = wine.data.features\n",
    "y = wine.data.targets.astype(int)\n",
    "\n",
    "# Split the dataset into training, validation, and testing sets\n",
    "np.random.seed(42)\n",
    "indices = np.random.permutation(len(X))\n",
    "split_index = int(0.8 * len(indices))\n",
    "train_indices, temp_indices = indices[:split_index], indices[split_index:]\n",
    "\n",
    "# Further split temp_indices into validation and test sets\n",
    "valid_split_index = int(0.5 * len(temp_indices))  # 50% of temp for validation\n",
    "valid_indices, test_indices = temp_indices[:valid_split_index], temp_indices[valid_split_index:]\n",
    "\n",
    "X_train = X.iloc[train_indices]\n",
    "X_valid = X.iloc[valid_indices]\n",
    "X_test = X.iloc[test_indices]\n",
    "y_train = y.iloc[train_indices].values.flatten()\n",
    "y_valid = y.iloc[valid_indices].values.flatten()\n",
    "y_test = y.iloc[test_indices].values.flatten()\n",
    "\n",
    "\n",
    "\n",
    "# Normalize the training set and get the mean and std\n",
    "X_train, mean, std = normalize(X_train)\n",
    "\n",
    "# Normalize the validation and test sets using the training set parameters\n",
    "X_valid, _, _ = normalize(X_valid, mean, std)\n",
    "X_test, _, _ = normalize(X_test, mean, std)\n",
    "\n",
    "\n",
    "\n",
    "# Grid search for hyperparameters\n",
    "hidden_size_options = [[10], [10, 10], [20]]\n",
    "learning_rate_options = [0.0001, 0.001, 0.01, 0.1]\n",
    "epochs_options = [1000, 2000]\n",
    "activation_functions = ['sigmoid']\n",
    "\n",
    "best_accuracy = 0\n",
    "best_params = {}\n",
    "best_losses = []\n",
    "\n",
    "for hidden_sizes, learning_rate, epochs, activation in product(hidden_size_options, learning_rate_options, epochs_options, activation_functions):\n",
    "    accuracy, losses = evaluate_hyperparameters(hidden_sizes, learning_rate, epochs, activation)\n",
    "    print(f\"Hidden layers: {hidden_sizes}, Learning rate: {learning_rate}, Epochs: {epochs}, Activation: {activation}, Validation Accuracy: {accuracy * 100:.2f}%\")\n",
    "    \n",
    "    if accuracy > best_accuracy:\n",
    "        best_accuracy = accuracy\n",
    "        best_params = {'hidden_sizes': hidden_sizes, 'learning_rate': learning_rate, 'epochs': epochs, 'activation': activation}\n",
    "        best_losses = losses\n",
    "\n",
    "print(\"\\nBest Hyperparameters:\")\n",
    "print(best_params)\n",
    "print(f\"Best Validation Accuracy: {best_accuracy * 100:.2f}%\")\n",
    "\n",
    "# Final training with the best parameters\n",
    "final_mlp = MLP(input_size=X_train.shape[1], hidden_sizes=best_params['hidden_sizes'],\n",
    "                 output_size=3, learning_rate=best_params['learning_rate'], \n",
    "                 activation=best_params['activation'])\n",
    "final_mlp.train(X_train, y_train, best_params['epochs'])\n",
    "\n",
    "# Evaluate on the test set\n",
    "y_test_pred = final_mlp.predict(X_test)\n",
    "test_accuracy = np.mean(y_test == y_test_pred)\n",
    "print(f\"Test Accuracy: {test_accuracy * 100:.2f}%\")\n",
    "\n",
    "# Evaluate on the training set\n",
    "y_train_pred = final_mlp.predict(X_train)\n",
    "train_accuracy = np.mean(y_train == y_train_pred)\n",
    "print(f\"Training Accuracy: {train_accuracy * 100:.2f}%\")\n",
    "\n",
    "# Plot the loss curve\n",
    "plt.figure(figsize=(10, 5))\n",
    "plt.plot(best_losses, label='Loss')\n",
    "plt.title('Loss Curve for Best Hyperparameters')\n",
    "plt.xlabel('Epochs')\n",
    "plt.ylabel('Loss')\n",
    "plt.legend()\n",
    "plt.grid()\n",
    "plt.show()\n",
    "\n",
    "# Function to create and print confusion matrix\n",
    "def plot_confusion_matrix(y_true, y_pred, title):\n",
    "    num_classes = 3  # Adjust based on your dataset\n",
    "    confusion_matrix = np.zeros((num_classes, num_classes), dtype=int)\n",
    "\n",
    "    for true_label, predicted_label in zip(y_true, y_pred):\n",
    "        confusion_matrix[predicted_label - 1, true_label - 1] += 1\n",
    "\n",
    "    confusion_df = pd.DataFrame(confusion_matrix, \n",
    "                                 index=[f'Predicted {i}' for i in range(1, num_classes + 1)],\n",
    "                                 columns=[f'True {i}' for i in range(1, num_classes + 1)])\n",
    "\n",
    "    print(f\"\\nConfusion Matrix for {title}:\")\n",
    "    print(confusion_df)\n",
    "\n",
    "    plt.figure(figsize=(8, 6))\n",
    "    sns.heatmap(confusion_df, annot=True, fmt='d', cmap='Blues')\n",
    "    plt.title(f'Confusion Matrix for {title}')\n",
    "    plt.ylabel('Predicted Label')\n",
    "    plt.xlabel('True Label')\n",
    "    plt.show()\n",
    "\n",
    "# Plot confusion matrices for training and test sets\n",
    "plot_confusion_matrix(y_train, y_train_pred, \"Training Set\")\n",
    "plot_confusion_matrix(y_test, y_test_pred, \"Test Set\")\n"
   ]
  },
  {
   "cell_type": "markdown",
   "id": "a16aa58d-b860-4df0-b244-6f07e1b88ba3",
   "metadata": {},
   "source": [
    "#### tanh"
   ]
  },
  {
   "cell_type": "code",
   "execution_count": 8,
   "id": "4baf2298-2437-4514-9d5c-b256b48f930a",
   "metadata": {
    "tags": []
   },
   "outputs": [
    {
     "name": "stdout",
     "output_type": "stream",
     "text": [
      "Early stopping at epoch 200. Best validation accuracy: 94.44%\n",
      "Hidden layers: [10], Learning rate: 0.0001, Epochs: 1000, Activation: tanh, Validation Accuracy: 94.44%\n",
      "Early stopping at epoch 160. Best validation accuracy: 94.44%\n",
      "Hidden layers: [10], Learning rate: 0.0001, Epochs: 2000, Activation: tanh, Validation Accuracy: 94.44%\n",
      "Early stopping at epoch 160. Best validation accuracy: 100.00%\n",
      "Hidden layers: [10], Learning rate: 0.001, Epochs: 1000, Activation: tanh, Validation Accuracy: 100.00%\n",
      "Early stopping at epoch 130. Best validation accuracy: 100.00%\n",
      "Hidden layers: [10], Learning rate: 0.001, Epochs: 2000, Activation: tanh, Validation Accuracy: 100.00%\n",
      "Early stopping at epoch 110. Best validation accuracy: 94.44%\n",
      "Hidden layers: [10], Learning rate: 0.01, Epochs: 1000, Activation: tanh, Validation Accuracy: 94.44%\n",
      "Early stopping at epoch 110. Best validation accuracy: 100.00%\n",
      "Hidden layers: [10], Learning rate: 0.01, Epochs: 2000, Activation: tanh, Validation Accuracy: 100.00%\n",
      "Early stopping at epoch 110. Best validation accuracy: 100.00%\n",
      "Hidden layers: [10], Learning rate: 0.1, Epochs: 1000, Activation: tanh, Validation Accuracy: 94.44%\n",
      "Early stopping at epoch 110. Best validation accuracy: 100.00%\n",
      "Hidden layers: [10], Learning rate: 0.1, Epochs: 2000, Activation: tanh, Validation Accuracy: 94.44%\n",
      "Early stopping at epoch 180. Best validation accuracy: 100.00%\n",
      "Hidden layers: [10, 10], Learning rate: 0.0001, Epochs: 1000, Activation: tanh, Validation Accuracy: 100.00%\n",
      "Early stopping at epoch 150. Best validation accuracy: 94.44%\n",
      "Hidden layers: [10, 10], Learning rate: 0.0001, Epochs: 2000, Activation: tanh, Validation Accuracy: 94.44%\n",
      "Early stopping at epoch 120. Best validation accuracy: 100.00%\n",
      "Hidden layers: [10, 10], Learning rate: 0.001, Epochs: 1000, Activation: tanh, Validation Accuracy: 94.44%\n",
      "Early stopping at epoch 130. Best validation accuracy: 100.00%\n",
      "Hidden layers: [10, 10], Learning rate: 0.001, Epochs: 2000, Activation: tanh, Validation Accuracy: 100.00%\n",
      "Early stopping at epoch 110. Best validation accuracy: 100.00%\n",
      "Hidden layers: [10, 10], Learning rate: 0.01, Epochs: 1000, Activation: tanh, Validation Accuracy: 94.44%\n",
      "Early stopping at epoch 110. Best validation accuracy: 94.44%\n",
      "Hidden layers: [10, 10], Learning rate: 0.01, Epochs: 2000, Activation: tanh, Validation Accuracy: 94.44%\n",
      "Early stopping at epoch 130. Best validation accuracy: 100.00%\n",
      "Hidden layers: [10, 10], Learning rate: 0.1, Epochs: 1000, Activation: tanh, Validation Accuracy: 100.00%\n",
      "Early stopping at epoch 110. Best validation accuracy: 94.44%\n",
      "Hidden layers: [10, 10], Learning rate: 0.1, Epochs: 2000, Activation: tanh, Validation Accuracy: 94.44%\n",
      "Early stopping at epoch 230. Best validation accuracy: 94.44%\n",
      "Hidden layers: [20], Learning rate: 0.0001, Epochs: 1000, Activation: tanh, Validation Accuracy: 94.44%\n",
      "Early stopping at epoch 140. Best validation accuracy: 100.00%\n",
      "Hidden layers: [20], Learning rate: 0.0001, Epochs: 2000, Activation: tanh, Validation Accuracy: 100.00%\n",
      "Early stopping at epoch 130. Best validation accuracy: 94.44%\n",
      "Hidden layers: [20], Learning rate: 0.001, Epochs: 1000, Activation: tanh, Validation Accuracy: 94.44%\n",
      "Early stopping at epoch 130. Best validation accuracy: 100.00%\n",
      "Hidden layers: [20], Learning rate: 0.001, Epochs: 2000, Activation: tanh, Validation Accuracy: 100.00%\n",
      "Early stopping at epoch 100. Best validation accuracy: 100.00%\n",
      "Hidden layers: [20], Learning rate: 0.01, Epochs: 1000, Activation: tanh, Validation Accuracy: 100.00%\n",
      "Early stopping at epoch 110. Best validation accuracy: 100.00%\n",
      "Hidden layers: [20], Learning rate: 0.01, Epochs: 2000, Activation: tanh, Validation Accuracy: 100.00%\n",
      "Early stopping at epoch 110. Best validation accuracy: 94.44%\n",
      "Hidden layers: [20], Learning rate: 0.1, Epochs: 1000, Activation: tanh, Validation Accuracy: 94.44%\n",
      "Early stopping at epoch 110. Best validation accuracy: 100.00%\n",
      "Hidden layers: [20], Learning rate: 0.1, Epochs: 2000, Activation: tanh, Validation Accuracy: 100.00%\n",
      "\n",
      "Best Hyperparameters:\n",
      "{'hidden_sizes': [10], 'learning_rate': 0.001, 'epochs': 1000, 'activation': 'tanh'}\n",
      "Best Validation Accuracy: 100.00%\n",
      "Early stopping at epoch 190. Best validation accuracy: 100.00%\n",
      "Test Accuracy: 100.00%\n",
      "Training Accuracy: 99.30%\n"
     ]
    },
    {
     "data": {
      "image/png": "[encoded data removed]",
      "text/plain": [
       "<Figure size 720x360 with 1 Axes>"
      ]
     },
     "metadata": {
      "needs_background": "light"
     },
     "output_type": "display_data"
    },
    {
     "name": "stdout",
     "output_type": "stream",
     "text": [
      "\n",
      "Confusion Matrix for Training Set:\n",
      "             True 1  True 2  True 3\n",
      "Predicted 1      48       0       0\n",
      "Predicted 2       0      56       0\n",
      "Predicted 3       0       1      37\n"
     ]
    },
    {
     "data": {
      "image/png": "[encoded data removed]",
      "text/plain": [
       "<Figure size 576x432 with 2 Axes>"
      ]
     },
     "metadata": {
      "needs_background": "light"
     },
     "output_type": "display_data"
    },
    {
     "name": "stdout",
     "output_type": "stream",
     "text": [
      "\n",
      "Confusion Matrix for Test Set:\n",
      "             True 1  True 2  True 3\n",
      "Predicted 1       4       0       0\n",
      "Predicted 2       0      10       0\n",
      "Predicted 3       0       0       4\n"
     ]
    },
    {
     "data": {
      "image/png": "[encoded data removed]",
      "text/plain": [
       "<Figure size 576x432 with 2 Axes>"
      ]
     },
     "metadata": {
      "needs_background": "light"
     },
     "output_type": "display_data"
    }
   ],
   "source": [
    "import numpy as np\n",
    "import pandas as pd\n",
    "from ucimlrepo import fetch_ucirepo\n",
    "from itertools import product\n",
    "import matplotlib.pyplot as plt\n",
    "import seaborn as sns\n",
    "\n",
    "# Fetch the dataset\n",
    "wine = fetch_ucirepo(id=109)\n",
    "\n",
    "# Load features and target\n",
    "X = wine.data.features\n",
    "y = wine.data.targets.astype(int)\n",
    "\n",
    "# Split the dataset into training, validation, and testing sets\n",
    "np.random.seed(42)\n",
    "indices = np.random.permutation(len(X))\n",
    "split_index = int(0.8 * len(indices))\n",
    "train_indices, temp_indices = indices[:split_index], indices[split_index:]\n",
    "\n",
    "# Further split temp_indices into validation and test sets\n",
    "valid_split_index = int(0.5 * len(temp_indices))  # 50% of temp for validation\n",
    "valid_indices, test_indices = temp_indices[:valid_split_index], temp_indices[valid_split_index:]\n",
    "\n",
    "X_train = X.iloc[train_indices]\n",
    "X_valid = X.iloc[valid_indices]\n",
    "X_test = X.iloc[test_indices]\n",
    "y_train = y.iloc[train_indices].values.flatten()\n",
    "y_valid = y.iloc[valid_indices].values.flatten()\n",
    "y_test = y.iloc[test_indices].values.flatten()\n",
    "\n",
    "\n",
    "\n",
    "# Normalize the training set and get the mean and std\n",
    "X_train, mean, std = normalize(X_train)\n",
    "\n",
    "# Normalize the validation and test sets using the training set parameters\n",
    "X_valid, _, _ = normalize(X_valid, mean, std)\n",
    "X_test, _, _ = normalize(X_test, mean, std)\n",
    "\n",
    "\n",
    "\n",
    "# Grid search for hyperparameters\n",
    "hidden_size_options = [[10], [10, 10], [20]]\n",
    "learning_rate_options = [0.0001, 0.001, 0.01, 0.1]\n",
    "epochs_options = [1000, 2000]\n",
    "activation_functions = ['tanh']\n",
    "\n",
    "best_accuracy = 0\n",
    "best_params = {}\n",
    "best_losses = []\n",
    "\n",
    "for hidden_sizes, learning_rate, epochs, activation in product(hidden_size_options, learning_rate_options, epochs_options, activation_functions):\n",
    "    accuracy, losses = evaluate_hyperparameters(hidden_sizes, learning_rate, epochs, activation)\n",
    "    print(f\"Hidden layers: {hidden_sizes}, Learning rate: {learning_rate}, Epochs: {epochs}, Activation: {activation}, Validation Accuracy: {accuracy * 100:.2f}%\")\n",
    "    \n",
    "    if accuracy > best_accuracy:\n",
    "        best_accuracy = accuracy\n",
    "        best_params = {'hidden_sizes': hidden_sizes, 'learning_rate': learning_rate, 'epochs': epochs, 'activation': activation}\n",
    "        best_losses = losses\n",
    "\n",
    "print(\"\\nBest Hyperparameters:\")\n",
    "print(best_params)\n",
    "print(f\"Best Validation Accuracy: {best_accuracy * 100:.2f}%\")\n",
    "\n",
    "# Final training with the best parameters\n",
    "final_mlp = MLP(input_size=X_train.shape[1], hidden_sizes=best_params['hidden_sizes'],\n",
    "                 output_size=3, learning_rate=best_params['learning_rate'], \n",
    "                 activation=best_params['activation'])\n",
    "final_mlp.train(X_train, y_train, best_params['epochs'])\n",
    "\n",
    "# Evaluate on the test set\n",
    "y_test_pred = final_mlp.predict(X_test)\n",
    "test_accuracy = np.mean(y_test == y_test_pred)\n",
    "print(f\"Test Accuracy: {test_accuracy * 100:.2f}%\")\n",
    "\n",
    "# Evaluate on the training set\n",
    "y_train_pred = final_mlp.predict(X_train)\n",
    "train_accuracy = np.mean(y_train == y_train_pred)\n",
    "print(f\"Training Accuracy: {train_accuracy * 100:.2f}%\")\n",
    "\n",
    "# Plot the loss curve\n",
    "plt.figure(figsize=(10, 5))\n",
    "plt.plot(best_losses, label='Loss')\n",
    "plt.title('Loss Curve for Best Hyperparameters')\n",
    "plt.xlabel('Epochs')\n",
    "plt.ylabel('Loss')\n",
    "plt.legend()\n",
    "plt.grid()\n",
    "plt.show()\n",
    "\n",
    "# Function to create and print confusion matrix\n",
    "def plot_confusion_matrix(y_true, y_pred, title):\n",
    "    num_classes = 3  # Adjust based on your dataset\n",
    "    confusion_matrix = np.zeros((num_classes, num_classes), dtype=int)\n",
    "\n",
    "    for true_label, predicted_label in zip(y_true, y_pred):\n",
    "        confusion_matrix[predicted_label - 1, true_label - 1] += 1\n",
    "\n",
    "    confusion_df = pd.DataFrame(confusion_matrix, \n",
    "                                 index=[f'Predicted {i}' for i in range(1, num_classes + 1)],\n",
    "                                 columns=[f'True {i}' for i in range(1, num_classes + 1)])\n",
    "\n",
    "    print(f\"\\nConfusion Matrix for {title}:\")\n",
    "    print(confusion_df)\n",
    "\n",
    "    plt.figure(figsize=(8, 6))\n",
    "    sns.heatmap(confusion_df, annot=True, fmt='d', cmap='Blues')\n",
    "    plt.title(f'Confusion Matrix for {title}')\n",
    "    plt.ylabel('Predicted Label')\n",
    "    plt.xlabel('True Label')\n",
    "    plt.show()\n",
    "\n",
    "# Plot confusion matrices for training and test sets\n",
    "plot_confusion_matrix(y_train, y_train_pred, \"Training Set\")\n",
    "plot_confusion_matrix(y_test, y_test_pred, \"Test Set\")\n"
   ]
  },
  {
   "cell_type": "markdown",
   "id": "dcbbe51d-4f34-4723-9899-74edcf20e609",
   "metadata": {},
   "source": [
    "## Show the effect on performance of different stopping criteria"
   ]
  },
  {
   "cell_type": "markdown",
   "id": "6e03f01e-ddc4-4409-8f4a-9db931805822",
   "metadata": {},
   "source": [
    "#### patience = 20"
   ]
  },
  {
   "cell_type": "code",
   "execution_count": 10,
   "id": "3f04988b-023f-474b-9abb-e0925b33e271",
   "metadata": {
    "tags": []
   },
   "outputs": [
    {
     "name": "stdout",
     "output_type": "stream",
     "text": [
      "Early stopping at epoch 280. Best validation accuracy: 100.00%\n",
      "Hidden layers: [10], Learning rate: 0.0001, Epochs: 1000, Activation: relu, Validation Accuracy: 100.00%\n",
      "Early stopping at epoch 280. Best validation accuracy: 100.00%\n",
      "Hidden layers: [10], Learning rate: 0.0001, Epochs: 1000, Activation: sigmoid, Validation Accuracy: 100.00%\n",
      "Early stopping at epoch 200. Best validation accuracy: 94.44%\n",
      "Hidden layers: [10], Learning rate: 0.0001, Epochs: 1000, Activation: tanh, Validation Accuracy: 94.44%\n",
      "Early stopping at epoch 320. Best validation accuracy: 94.44%\n",
      "Hidden layers: [10], Learning rate: 0.0001, Epochs: 2000, Activation: relu, Validation Accuracy: 94.44%\n",
      "Early stopping at epoch 490. Best validation accuracy: 88.89%\n",
      "Hidden layers: [10], Learning rate: 0.0001, Epochs: 2000, Activation: sigmoid, Validation Accuracy: 88.89%\n",
      "Early stopping at epoch 180. Best validation accuracy: 100.00%\n",
      "Hidden layers: [10], Learning rate: 0.0001, Epochs: 2000, Activation: tanh, Validation Accuracy: 100.00%\n",
      "Early stopping at epoch 120. Best validation accuracy: 100.00%\n",
      "Hidden layers: [10], Learning rate: 0.001, Epochs: 1000, Activation: relu, Validation Accuracy: 100.00%\n",
      "Early stopping at epoch 130. Best validation accuracy: 100.00%\n",
      "Hidden layers: [10], Learning rate: 0.001, Epochs: 1000, Activation: sigmoid, Validation Accuracy: 100.00%\n",
      "Early stopping at epoch 110. Best validation accuracy: 100.00%\n",
      "Hidden layers: [10], Learning rate: 0.001, Epochs: 1000, Activation: tanh, Validation Accuracy: 100.00%\n",
      "Early stopping at epoch 150. Best validation accuracy: 100.00%\n",
      "Hidden layers: [10], Learning rate: 0.001, Epochs: 2000, Activation: relu, Validation Accuracy: 94.44%\n",
      "Early stopping at epoch 150. Best validation accuracy: 100.00%\n",
      "Hidden layers: [10], Learning rate: 0.001, Epochs: 2000, Activation: sigmoid, Validation Accuracy: 100.00%\n",
      "Early stopping at epoch 120. Best validation accuracy: 94.44%\n",
      "Hidden layers: [10], Learning rate: 0.001, Epochs: 2000, Activation: tanh, Validation Accuracy: 94.44%\n",
      "Early stopping at epoch 110. Best validation accuracy: 100.00%\n",
      "Hidden layers: [10], Learning rate: 0.01, Epochs: 1000, Activation: relu, Validation Accuracy: 94.44%\n",
      "Early stopping at epoch 110. Best validation accuracy: 100.00%\n",
      "Hidden layers: [10], Learning rate: 0.01, Epochs: 1000, Activation: sigmoid, Validation Accuracy: 100.00%\n",
      "Early stopping at epoch 110. Best validation accuracy: 94.44%\n",
      "Hidden layers: [10], Learning rate: 0.01, Epochs: 1000, Activation: tanh, Validation Accuracy: 94.44%\n",
      "Early stopping at epoch 110. Best validation accuracy: 94.44%\n",
      "Hidden layers: [10], Learning rate: 0.01, Epochs: 2000, Activation: relu, Validation Accuracy: 94.44%\n",
      "Early stopping at epoch 110. Best validation accuracy: 100.00%\n",
      "Hidden layers: [10], Learning rate: 0.01, Epochs: 2000, Activation: sigmoid, Validation Accuracy: 94.44%\n",
      "Early stopping at epoch 110. Best validation accuracy: 100.00%\n",
      "Hidden layers: [10], Learning rate: 0.01, Epochs: 2000, Activation: tanh, Validation Accuracy: 100.00%\n",
      "Early stopping at epoch 100. Best validation accuracy: 38.89%\n",
      "Hidden layers: [10], Learning rate: 0.1, Epochs: 1000, Activation: relu, Validation Accuracy: 38.89%\n"
     ]
    },
    {
     "name": "stderr",
     "output_type": "stream",
     "text": [
      "/scratch/local/46752745/ipykernel_3676114/38202783.py:80: RuntimeWarning: invalid value encountered in divide\n",
      "  return exp_x / exp_x.sum(axis=1, keepdims=True)\n"
     ]
    },
    {
     "name": "stdout",
     "output_type": "stream",
     "text": [
      "Early stopping at epoch 110. Best validation accuracy: 94.44%\n",
      "Hidden layers: [10], Learning rate: 0.1, Epochs: 1000, Activation: sigmoid, Validation Accuracy: 94.44%\n",
      "Early stopping at epoch 120. Best validation accuracy: 100.00%\n",
      "Hidden layers: [10], Learning rate: 0.1, Epochs: 1000, Activation: tanh, Validation Accuracy: 94.44%\n"
     ]
    },
    {
     "name": "stderr",
     "output_type": "stream",
     "text": [
      "/scratch/local/46752745/ipykernel_3676114/38202783.py:80: RuntimeWarning: invalid value encountered in divide\n",
      "  return exp_x / exp_x.sum(axis=1, keepdims=True)\n"
     ]
    },
    {
     "name": "stdout",
     "output_type": "stream",
     "text": [
      "Early stopping at epoch 100. Best validation accuracy: 38.89%\n",
      "Hidden layers: [10], Learning rate: 0.1, Epochs: 2000, Activation: relu, Validation Accuracy: 38.89%\n",
      "Early stopping at epoch 110. Best validation accuracy: 100.00%\n",
      "Hidden layers: [10], Learning rate: 0.1, Epochs: 2000, Activation: sigmoid, Validation Accuracy: 94.44%\n",
      "Early stopping at epoch 110. Best validation accuracy: 94.44%\n",
      "Hidden layers: [10], Learning rate: 0.1, Epochs: 2000, Activation: tanh, Validation Accuracy: 94.44%\n",
      "Early stopping at epoch 130. Best validation accuracy: 72.22%\n",
      "Hidden layers: [10, 10], Learning rate: 0.0001, Epochs: 1000, Activation: relu, Validation Accuracy: 72.22%\n",
      "Early stopping at epoch 100. Best validation accuracy: 22.22%\n",
      "Hidden layers: [10, 10], Learning rate: 0.0001, Epochs: 1000, Activation: sigmoid, Validation Accuracy: 22.22%\n",
      "Early stopping at epoch 120. Best validation accuracy: 88.89%\n",
      "Hidden layers: [10, 10], Learning rate: 0.0001, Epochs: 1000, Activation: tanh, Validation Accuracy: 88.89%\n",
      "Early stopping at epoch 340. Best validation accuracy: 94.44%\n",
      "Hidden layers: [10, 10], Learning rate: 0.0001, Epochs: 2000, Activation: relu, Validation Accuracy: 94.44%\n",
      "Early stopping at epoch 300. Best validation accuracy: 55.56%\n",
      "Hidden layers: [10, 10], Learning rate: 0.0001, Epochs: 2000, Activation: sigmoid, Validation Accuracy: 55.56%\n",
      "Early stopping at epoch 140. Best validation accuracy: 94.44%\n",
      "Hidden layers: [10, 10], Learning rate: 0.0001, Epochs: 2000, Activation: tanh, Validation Accuracy: 94.44%\n",
      "Early stopping at epoch 140. Best validation accuracy: 94.44%\n",
      "Hidden layers: [10, 10], Learning rate: 0.001, Epochs: 1000, Activation: relu, Validation Accuracy: 94.44%\n",
      "Early stopping at epoch 200. Best validation accuracy: 100.00%\n",
      "Hidden layers: [10, 10], Learning rate: 0.001, Epochs: 1000, Activation: sigmoid, Validation Accuracy: 100.00%\n",
      "Early stopping at epoch 150. Best validation accuracy: 100.00%\n",
      "Hidden layers: [10, 10], Learning rate: 0.001, Epochs: 1000, Activation: tanh, Validation Accuracy: 94.44%\n",
      "Early stopping at epoch 130. Best validation accuracy: 100.00%\n",
      "Hidden layers: [10, 10], Learning rate: 0.001, Epochs: 2000, Activation: relu, Validation Accuracy: 94.44%\n",
      "Early stopping at epoch 310. Best validation accuracy: 100.00%\n",
      "Hidden layers: [10, 10], Learning rate: 0.001, Epochs: 2000, Activation: sigmoid, Validation Accuracy: 100.00%\n",
      "Early stopping at epoch 110. Best validation accuracy: 100.00%\n",
      "Hidden layers: [10, 10], Learning rate: 0.001, Epochs: 2000, Activation: tanh, Validation Accuracy: 100.00%\n",
      "Early stopping at epoch 190. Best validation accuracy: 100.00%\n",
      "Hidden layers: [10, 10], Learning rate: 0.01, Epochs: 1000, Activation: relu, Validation Accuracy: 94.44%\n",
      "Early stopping at epoch 120. Best validation accuracy: 100.00%\n",
      "Hidden layers: [10, 10], Learning rate: 0.01, Epochs: 1000, Activation: sigmoid, Validation Accuracy: 100.00%\n",
      "Early stopping at epoch 110. Best validation accuracy: 94.44%\n",
      "Hidden layers: [10, 10], Learning rate: 0.01, Epochs: 1000, Activation: tanh, Validation Accuracy: 94.44%\n",
      "Early stopping at epoch 110. Best validation accuracy: 94.44%\n",
      "Hidden layers: [10, 10], Learning rate: 0.01, Epochs: 2000, Activation: relu, Validation Accuracy: 94.44%\n",
      "Early stopping at epoch 110. Best validation accuracy: 100.00%\n",
      "Hidden layers: [10, 10], Learning rate: 0.01, Epochs: 2000, Activation: sigmoid, Validation Accuracy: 100.00%\n",
      "Early stopping at epoch 110. Best validation accuracy: 94.44%\n",
      "Hidden layers: [10, 10], Learning rate: 0.01, Epochs: 2000, Activation: tanh, Validation Accuracy: 94.44%\n"
     ]
    },
    {
     "name": "stderr",
     "output_type": "stream",
     "text": [
      "/scratch/local/46752745/ipykernel_3676114/38202783.py:80: RuntimeWarning: invalid value encountered in divide\n",
      "  return exp_x / exp_x.sum(axis=1, keepdims=True)\n"
     ]
    },
    {
     "name": "stdout",
     "output_type": "stream",
     "text": [
      "Early stopping at epoch 110. Best validation accuracy: 38.89%\n",
      "Hidden layers: [10, 10], Learning rate: 0.1, Epochs: 1000, Activation: relu, Validation Accuracy: 38.89%\n",
      "Early stopping at epoch 170. Best validation accuracy: 66.67%\n",
      "Hidden layers: [10, 10], Learning rate: 0.1, Epochs: 1000, Activation: sigmoid, Validation Accuracy: 61.11%\n",
      "Early stopping at epoch 160. Best validation accuracy: 94.44%\n",
      "Hidden layers: [10, 10], Learning rate: 0.1, Epochs: 1000, Activation: tanh, Validation Accuracy: 94.44%\n"
     ]
    },
    {
     "name": "stderr",
     "output_type": "stream",
     "text": [
      "/scratch/local/46752745/ipykernel_3676114/38202783.py:80: RuntimeWarning: invalid value encountered in divide\n",
      "  return exp_x / exp_x.sum(axis=1, keepdims=True)\n"
     ]
    },
    {
     "name": "stdout",
     "output_type": "stream",
     "text": [
      "Early stopping at epoch 110. Best validation accuracy: 38.89%\n",
      "Hidden layers: [10, 10], Learning rate: 0.1, Epochs: 2000, Activation: relu, Validation Accuracy: 38.89%\n",
      "Early stopping at epoch 110. Best validation accuracy: 66.67%\n",
      "Hidden layers: [10, 10], Learning rate: 0.1, Epochs: 2000, Activation: sigmoid, Validation Accuracy: 61.11%\n",
      "Early stopping at epoch 130. Best validation accuracy: 100.00%\n",
      "Hidden layers: [10, 10], Learning rate: 0.1, Epochs: 2000, Activation: tanh, Validation Accuracy: 94.44%\n",
      "Early stopping at epoch 160. Best validation accuracy: 94.44%\n",
      "Hidden layers: [20], Learning rate: 0.0001, Epochs: 1000, Activation: relu, Validation Accuracy: 94.44%\n",
      "Early stopping at epoch 280. Best validation accuracy: 94.44%\n",
      "Hidden layers: [20], Learning rate: 0.0001, Epochs: 1000, Activation: sigmoid, Validation Accuracy: 94.44%\n",
      "Early stopping at epoch 120. Best validation accuracy: 100.00%\n",
      "Hidden layers: [20], Learning rate: 0.0001, Epochs: 1000, Activation: tanh, Validation Accuracy: 100.00%\n",
      "Early stopping at epoch 150. Best validation accuracy: 88.89%\n",
      "Hidden layers: [20], Learning rate: 0.0001, Epochs: 2000, Activation: relu, Validation Accuracy: 88.89%\n",
      "Early stopping at epoch 170. Best validation accuracy: 83.33%\n",
      "Hidden layers: [20], Learning rate: 0.0001, Epochs: 2000, Activation: sigmoid, Validation Accuracy: 83.33%\n",
      "Early stopping at epoch 160. Best validation accuracy: 94.44%\n",
      "Hidden layers: [20], Learning rate: 0.0001, Epochs: 2000, Activation: tanh, Validation Accuracy: 94.44%\n",
      "Early stopping at epoch 130. Best validation accuracy: 100.00%\n",
      "Hidden layers: [20], Learning rate: 0.001, Epochs: 1000, Activation: relu, Validation Accuracy: 100.00%\n",
      "Early stopping at epoch 130. Best validation accuracy: 100.00%\n",
      "Hidden layers: [20], Learning rate: 0.001, Epochs: 1000, Activation: sigmoid, Validation Accuracy: 100.00%\n",
      "Early stopping at epoch 110. Best validation accuracy: 94.44%\n",
      "Hidden layers: [20], Learning rate: 0.001, Epochs: 1000, Activation: tanh, Validation Accuracy: 94.44%\n",
      "Early stopping at epoch 110. Best validation accuracy: 94.44%\n",
      "Hidden layers: [20], Learning rate: 0.001, Epochs: 2000, Activation: relu, Validation Accuracy: 94.44%\n",
      "Early stopping at epoch 120. Best validation accuracy: 100.00%\n",
      "Hidden layers: [20], Learning rate: 0.001, Epochs: 2000, Activation: sigmoid, Validation Accuracy: 100.00%\n",
      "Early stopping at epoch 130. Best validation accuracy: 100.00%\n",
      "Hidden layers: [20], Learning rate: 0.001, Epochs: 2000, Activation: tanh, Validation Accuracy: 100.00%\n",
      "Early stopping at epoch 110. Best validation accuracy: 100.00%\n",
      "Hidden layers: [20], Learning rate: 0.01, Epochs: 1000, Activation: relu, Validation Accuracy: 100.00%\n",
      "Early stopping at epoch 110. Best validation accuracy: 100.00%\n",
      "Hidden layers: [20], Learning rate: 0.01, Epochs: 1000, Activation: sigmoid, Validation Accuracy: 100.00%\n",
      "Early stopping at epoch 110. Best validation accuracy: 100.00%\n",
      "Hidden layers: [20], Learning rate: 0.01, Epochs: 1000, Activation: tanh, Validation Accuracy: 100.00%\n",
      "Early stopping at epoch 110. Best validation accuracy: 100.00%\n",
      "Hidden layers: [20], Learning rate: 0.01, Epochs: 2000, Activation: relu, Validation Accuracy: 94.44%\n",
      "Early stopping at epoch 110. Best validation accuracy: 100.00%\n",
      "Hidden layers: [20], Learning rate: 0.01, Epochs: 2000, Activation: sigmoid, Validation Accuracy: 100.00%\n",
      "Early stopping at epoch 110. Best validation accuracy: 100.00%\n",
      "Hidden layers: [20], Learning rate: 0.01, Epochs: 2000, Activation: tanh, Validation Accuracy: 100.00%\n",
      "Early stopping at epoch 100. Best validation accuracy: 44.44%\n",
      "Hidden layers: [20], Learning rate: 0.1, Epochs: 1000, Activation: relu, Validation Accuracy: 38.89%\n"
     ]
    },
    {
     "name": "stderr",
     "output_type": "stream",
     "text": [
      "/scratch/local/46752745/ipykernel_3676114/38202783.py:80: RuntimeWarning: invalid value encountered in divide\n",
      "  return exp_x / exp_x.sum(axis=1, keepdims=True)\n"
     ]
    },
    {
     "name": "stdout",
     "output_type": "stream",
     "text": [
      "Early stopping at epoch 110. Best validation accuracy: 94.44%\n",
      "Hidden layers: [20], Learning rate: 0.1, Epochs: 1000, Activation: sigmoid, Validation Accuracy: 94.44%\n",
      "Early stopping at epoch 110. Best validation accuracy: 100.00%\n",
      "Hidden layers: [20], Learning rate: 0.1, Epochs: 1000, Activation: tanh, Validation Accuracy: 94.44%\n"
     ]
    },
    {
     "name": "stderr",
     "output_type": "stream",
     "text": [
      "/scratch/local/46752745/ipykernel_3676114/38202783.py:80: RuntimeWarning: invalid value encountered in divide\n",
      "  return exp_x / exp_x.sum(axis=1, keepdims=True)\n"
     ]
    },
    {
     "name": "stdout",
     "output_type": "stream",
     "text": [
      "Early stopping at epoch 110. Best validation accuracy: 38.89%\n",
      "Hidden layers: [20], Learning rate: 0.1, Epochs: 2000, Activation: relu, Validation Accuracy: 38.89%\n",
      "Early stopping at epoch 110. Best validation accuracy: 100.00%\n",
      "Hidden layers: [20], Learning rate: 0.1, Epochs: 2000, Activation: sigmoid, Validation Accuracy: 94.44%\n",
      "Early stopping at epoch 110. Best validation accuracy: 94.44%\n",
      "Hidden layers: [20], Learning rate: 0.1, Epochs: 2000, Activation: tanh, Validation Accuracy: 94.44%\n",
      "\n",
      "Best Hyperparameters:\n",
      "{'hidden_sizes': [10], 'learning_rate': 0.0001, 'epochs': 1000, 'activation': 'relu'}\n",
      "Best Validation Accuracy: 100.00%\n",
      "Early stopping at epoch 320. Best validation accuracy: 100.00%\n",
      "Test Accuracy: 94.44%\n",
      "Training Accuracy: 96.48%\n"
     ]
    },
    {
     "data": {
      "image/png": "[encoded data removed]",
      "text/plain": [
       "<Figure size 720x360 with 1 Axes>"
      ]
     },
     "metadata": {
      "needs_background": "light"
     },
     "output_type": "display_data"
    },
    {
     "name": "stdout",
     "output_type": "stream",
     "text": [
      "\n",
      "Confusion Matrix for Training Set:\n",
      "             True 1  True 2  True 3\n",
      "Predicted 1      48       0       0\n",
      "Predicted 2       0      52       0\n",
      "Predicted 3       0       5      37\n"
     ]
    },
    {
     "data": {
      "image/png": "[encoded data removed]",
      "text/plain": [
       "<Figure size 576x432 with 2 Axes>"
      ]
     },
     "metadata": {
      "needs_background": "light"
     },
     "output_type": "display_data"
    },
    {
     "name": "stdout",
     "output_type": "stream",
     "text": [
      "\n",
      "Confusion Matrix for Test Set:\n",
      "             True 1  True 2  True 3\n",
      "Predicted 1       4       0       0\n",
      "Predicted 2       0       9       0\n",
      "Predicted 3       0       1       4\n"
     ]
    },
    {
     "data": {
      "image/png": "[encoded data removed]",
      "text/plain": [
       "<Figure size 576x432 with 2 Axes>"
      ]
     },
     "metadata": {
      "needs_background": "light"
     },
     "output_type": "display_data"
    }
   ],
   "source": [
    "import numpy as np\n",
    "import pandas as pd\n",
    "from ucimlrepo import fetch_ucirepo\n",
    "from itertools import product\n",
    "import matplotlib.pyplot as plt\n",
    "import seaborn as sns\n",
    "\n",
    "# Fetch the dataset\n",
    "wine = fetch_ucirepo(id=109)\n",
    "\n",
    "# Load features and target\n",
    "X = wine.data.features\n",
    "y = wine.data.targets.astype(int)\n",
    "\n",
    "# Split the dataset into training, validation, and testing sets\n",
    "np.random.seed(42)\n",
    "indices = np.random.permutation(len(X))\n",
    "split_index = int(0.8 * len(indices))\n",
    "train_indices, temp_indices = indices[:split_index], indices[split_index:]\n",
    "\n",
    "# Further split temp_indices into validation and test sets\n",
    "valid_split_index = int(0.5 * len(temp_indices))  # 50% of temp for validation\n",
    "valid_indices, test_indices = temp_indices[:valid_split_index], temp_indices[valid_split_index:]\n",
    "\n",
    "X_train = X.iloc[train_indices]\n",
    "X_valid = X.iloc[valid_indices]\n",
    "X_test = X.iloc[test_indices]\n",
    "y_train = y.iloc[train_indices].values.flatten()\n",
    "y_valid = y.iloc[valid_indices].values.flatten()\n",
    "y_test = y.iloc[test_indices].values.flatten()\n",
    "\n",
    "\n",
    "\n",
    "# Normalize the training set and get the mean and std\n",
    "X_train, mean, std = normalize(X_train)\n",
    "\n",
    "# Normalize the validation and test sets using the training set parameters\n",
    "X_valid, _, _ = normalize(X_valid, mean, std)\n",
    "X_test, _, _ = normalize(X_test, mean, std)\n",
    "\n",
    "\n",
    "\n",
    "# Grid search for hyperparameters\n",
    "hidden_size_options = [[10], [10, 10], [20]]\n",
    "learning_rate_options = [0.0001, 0.001, 0.01, 0.1]\n",
    "epochs_options = [1000, 2000]\n",
    "activation_functions = ['relu', 'sigmoid', 'tanh']\n",
    "\n",
    "best_accuracy = 0\n",
    "best_params = {}\n",
    "best_losses = []\n",
    "\n",
    "for hidden_sizes, learning_rate, epochs, activation in product(hidden_size_options, learning_rate_options, epochs_options, activation_functions):\n",
    "    accuracy, losses = evaluate_hyperparameters(hidden_sizes, learning_rate, epochs, activation)\n",
    "    print(f\"Hidden layers: {hidden_sizes}, Learning rate: {learning_rate}, Epochs: {epochs}, Activation: {activation}, Validation Accuracy: {accuracy * 100:.2f}%\")\n",
    "    \n",
    "    if accuracy > best_accuracy:\n",
    "        best_accuracy = accuracy\n",
    "        best_params = {'hidden_sizes': hidden_sizes, 'learning_rate': learning_rate, 'epochs': epochs, 'activation': activation}\n",
    "        best_losses = losses\n",
    "\n",
    "print(\"\\nBest Hyperparameters:\")\n",
    "print(best_params)\n",
    "print(f\"Best Validation Accuracy: {best_accuracy * 100:.2f}%\")\n",
    "\n",
    "# Final training with the best parameters\n",
    "final_mlp = MLP(input_size=X_train.shape[1], hidden_sizes=best_params['hidden_sizes'],\n",
    "                 output_size=3, learning_rate=best_params['learning_rate'], \n",
    "                 activation=best_params['activation'])\n",
    "final_mlp.train(X_train, y_train, best_params['epochs'], patience=20)\n",
    "\n",
    "# Evaluate on the test set\n",
    "y_test_pred = final_mlp.predict(X_test)\n",
    "test_accuracy = np.mean(y_test == y_test_pred)\n",
    "print(f\"Test Accuracy: {test_accuracy * 100:.2f}%\")\n",
    "\n",
    "# Evaluate on the training set\n",
    "y_train_pred = final_mlp.predict(X_train)\n",
    "train_accuracy = np.mean(y_train == y_train_pred)\n",
    "print(f\"Training Accuracy: {train_accuracy * 100:.2f}%\")\n",
    "\n",
    "# Plot the loss curve\n",
    "plt.figure(figsize=(10, 5))\n",
    "plt.plot(best_losses, label='Loss')\n",
    "plt.title('Loss Curve for Best Hyperparameters')\n",
    "plt.xlabel('Epochs')\n",
    "plt.ylabel('Loss')\n",
    "plt.legend()\n",
    "plt.grid()\n",
    "plt.show()\n",
    "\n",
    "# Function to create and print confusion matrix\n",
    "def plot_confusion_matrix(y_true, y_pred, title):\n",
    "    num_classes = 3  # Adjust based on your dataset\n",
    "    confusion_matrix = np.zeros((num_classes, num_classes), dtype=int)\n",
    "\n",
    "    for true_label, predicted_label in zip(y_true, y_pred):\n",
    "        confusion_matrix[predicted_label - 1, true_label - 1] += 1\n",
    "\n",
    "    confusion_df = pd.DataFrame(confusion_matrix, \n",
    "                                 index=[f'Predicted {i}' for i in range(1, num_classes + 1)],\n",
    "                                 columns=[f'True {i}' for i in range(1, num_classes + 1)])\n",
    "\n",
    "    print(f\"\\nConfusion Matrix for {title}:\")\n",
    "    print(confusion_df)\n",
    "\n",
    "    plt.figure(figsize=(8, 6))\n",
    "    sns.heatmap(confusion_df, annot=True, fmt='d', cmap='Blues')\n",
    "    plt.title(f'Confusion Matrix for {title}')\n",
    "    plt.ylabel('Predicted Label')\n",
    "    plt.xlabel('True Label')\n",
    "    plt.show()\n",
    "\n",
    "# Plot confusion matrices for training and test sets\n",
    "plot_confusion_matrix(y_train, y_train_pred, \"Training Set\")\n",
    "plot_confusion_matrix(y_test, y_test_pred, \"Test Set\")\n"
   ]
  },
  {
   "cell_type": "markdown",
   "id": "4d0d83a0-aff1-4921-b465-ce8f035f94ac",
   "metadata": {},
   "source": [
    "#### patience = 40"
   ]
  },
  {
   "cell_type": "code",
   "execution_count": 11,
   "id": "8f048624-ff30-4891-964d-0f3e0c8b3ee6",
   "metadata": {},
   "outputs": [
    {
     "name": "stdout",
     "output_type": "stream",
     "text": [
      "Early stopping at epoch 280. Best validation accuracy: 100.00%\n",
      "Hidden layers: [10], Learning rate: 0.0001, Epochs: 1000, Activation: relu, Validation Accuracy: 100.00%\n",
      "Early stopping at epoch 280. Best validation accuracy: 100.00%\n",
      "Hidden layers: [10], Learning rate: 0.0001, Epochs: 1000, Activation: sigmoid, Validation Accuracy: 100.00%\n",
      "Early stopping at epoch 200. Best validation accuracy: 94.44%\n",
      "Hidden layers: [10], Learning rate: 0.0001, Epochs: 1000, Activation: tanh, Validation Accuracy: 94.44%\n",
      "Early stopping at epoch 320. Best validation accuracy: 94.44%\n",
      "Hidden layers: [10], Learning rate: 0.0001, Epochs: 2000, Activation: relu, Validation Accuracy: 94.44%\n",
      "Early stopping at epoch 490. Best validation accuracy: 88.89%\n",
      "Hidden layers: [10], Learning rate: 0.0001, Epochs: 2000, Activation: sigmoid, Validation Accuracy: 88.89%\n",
      "Early stopping at epoch 180. Best validation accuracy: 100.00%\n",
      "Hidden layers: [10], Learning rate: 0.0001, Epochs: 2000, Activation: tanh, Validation Accuracy: 100.00%\n",
      "Early stopping at epoch 120. Best validation accuracy: 100.00%\n",
      "Hidden layers: [10], Learning rate: 0.001, Epochs: 1000, Activation: relu, Validation Accuracy: 100.00%\n",
      "Early stopping at epoch 130. Best validation accuracy: 100.00%\n",
      "Hidden layers: [10], Learning rate: 0.001, Epochs: 1000, Activation: sigmoid, Validation Accuracy: 100.00%\n",
      "Early stopping at epoch 110. Best validation accuracy: 100.00%\n",
      "Hidden layers: [10], Learning rate: 0.001, Epochs: 1000, Activation: tanh, Validation Accuracy: 100.00%\n",
      "Early stopping at epoch 150. Best validation accuracy: 100.00%\n",
      "Hidden layers: [10], Learning rate: 0.001, Epochs: 2000, Activation: relu, Validation Accuracy: 94.44%\n",
      "Early stopping at epoch 150. Best validation accuracy: 100.00%\n",
      "Hidden layers: [10], Learning rate: 0.001, Epochs: 2000, Activation: sigmoid, Validation Accuracy: 100.00%\n",
      "Early stopping at epoch 120. Best validation accuracy: 94.44%\n",
      "Hidden layers: [10], Learning rate: 0.001, Epochs: 2000, Activation: tanh, Validation Accuracy: 94.44%\n",
      "Early stopping at epoch 110. Best validation accuracy: 100.00%\n",
      "Hidden layers: [10], Learning rate: 0.01, Epochs: 1000, Activation: relu, Validation Accuracy: 94.44%\n",
      "Early stopping at epoch 110. Best validation accuracy: 100.00%\n",
      "Hidden layers: [10], Learning rate: 0.01, Epochs: 1000, Activation: sigmoid, Validation Accuracy: 100.00%\n",
      "Early stopping at epoch 110. Best validation accuracy: 94.44%\n",
      "Hidden layers: [10], Learning rate: 0.01, Epochs: 1000, Activation: tanh, Validation Accuracy: 94.44%\n",
      "Early stopping at epoch 110. Best validation accuracy: 94.44%\n",
      "Hidden layers: [10], Learning rate: 0.01, Epochs: 2000, Activation: relu, Validation Accuracy: 94.44%\n",
      "Early stopping at epoch 110. Best validation accuracy: 100.00%\n",
      "Hidden layers: [10], Learning rate: 0.01, Epochs: 2000, Activation: sigmoid, Validation Accuracy: 94.44%\n",
      "Early stopping at epoch 110. Best validation accuracy: 100.00%\n",
      "Hidden layers: [10], Learning rate: 0.01, Epochs: 2000, Activation: tanh, Validation Accuracy: 100.00%\n",
      "Early stopping at epoch 100. Best validation accuracy: 38.89%\n",
      "Hidden layers: [10], Learning rate: 0.1, Epochs: 1000, Activation: relu, Validation Accuracy: 38.89%\n"
     ]
    },
    {
     "name": "stderr",
     "output_type": "stream",
     "text": [
      "/scratch/local/46752745/ipykernel_3676114/38202783.py:80: RuntimeWarning: invalid value encountered in divide\n",
      "  return exp_x / exp_x.sum(axis=1, keepdims=True)\n"
     ]
    },
    {
     "name": "stdout",
     "output_type": "stream",
     "text": [
      "Early stopping at epoch 110. Best validation accuracy: 94.44%\n",
      "Hidden layers: [10], Learning rate: 0.1, Epochs: 1000, Activation: sigmoid, Validation Accuracy: 94.44%\n",
      "Early stopping at epoch 120. Best validation accuracy: 100.00%\n",
      "Hidden layers: [10], Learning rate: 0.1, Epochs: 1000, Activation: tanh, Validation Accuracy: 94.44%\n"
     ]
    },
    {
     "name": "stderr",
     "output_type": "stream",
     "text": [
      "/scratch/local/46752745/ipykernel_3676114/38202783.py:80: RuntimeWarning: invalid value encountered in divide\n",
      "  return exp_x / exp_x.sum(axis=1, keepdims=True)\n"
     ]
    },
    {
     "name": "stdout",
     "output_type": "stream",
     "text": [
      "Early stopping at epoch 100. Best validation accuracy: 38.89%\n",
      "Hidden layers: [10], Learning rate: 0.1, Epochs: 2000, Activation: relu, Validation Accuracy: 38.89%\n",
      "Early stopping at epoch 110. Best validation accuracy: 100.00%\n",
      "Hidden layers: [10], Learning rate: 0.1, Epochs: 2000, Activation: sigmoid, Validation Accuracy: 94.44%\n",
      "Early stopping at epoch 110. Best validation accuracy: 94.44%\n",
      "Hidden layers: [10], Learning rate: 0.1, Epochs: 2000, Activation: tanh, Validation Accuracy: 94.44%\n",
      "Early stopping at epoch 130. Best validation accuracy: 72.22%\n",
      "Hidden layers: [10, 10], Learning rate: 0.0001, Epochs: 1000, Activation: relu, Validation Accuracy: 72.22%\n",
      "Early stopping at epoch 100. Best validation accuracy: 22.22%\n",
      "Hidden layers: [10, 10], Learning rate: 0.0001, Epochs: 1000, Activation: sigmoid, Validation Accuracy: 22.22%\n",
      "Early stopping at epoch 120. Best validation accuracy: 88.89%\n",
      "Hidden layers: [10, 10], Learning rate: 0.0001, Epochs: 1000, Activation: tanh, Validation Accuracy: 88.89%\n",
      "Early stopping at epoch 340. Best validation accuracy: 94.44%\n",
      "Hidden layers: [10, 10], Learning rate: 0.0001, Epochs: 2000, Activation: relu, Validation Accuracy: 94.44%\n",
      "Early stopping at epoch 300. Best validation accuracy: 55.56%\n",
      "Hidden layers: [10, 10], Learning rate: 0.0001, Epochs: 2000, Activation: sigmoid, Validation Accuracy: 55.56%\n",
      "Early stopping at epoch 140. Best validation accuracy: 94.44%\n",
      "Hidden layers: [10, 10], Learning rate: 0.0001, Epochs: 2000, Activation: tanh, Validation Accuracy: 94.44%\n",
      "Early stopping at epoch 140. Best validation accuracy: 94.44%\n",
      "Hidden layers: [10, 10], Learning rate: 0.001, Epochs: 1000, Activation: relu, Validation Accuracy: 94.44%\n",
      "Early stopping at epoch 200. Best validation accuracy: 100.00%\n",
      "Hidden layers: [10, 10], Learning rate: 0.001, Epochs: 1000, Activation: sigmoid, Validation Accuracy: 100.00%\n",
      "Early stopping at epoch 150. Best validation accuracy: 100.00%\n",
      "Hidden layers: [10, 10], Learning rate: 0.001, Epochs: 1000, Activation: tanh, Validation Accuracy: 94.44%\n",
      "Early stopping at epoch 130. Best validation accuracy: 100.00%\n",
      "Hidden layers: [10, 10], Learning rate: 0.001, Epochs: 2000, Activation: relu, Validation Accuracy: 94.44%\n",
      "Early stopping at epoch 310. Best validation accuracy: 100.00%\n",
      "Hidden layers: [10, 10], Learning rate: 0.001, Epochs: 2000, Activation: sigmoid, Validation Accuracy: 100.00%\n",
      "Early stopping at epoch 110. Best validation accuracy: 100.00%\n",
      "Hidden layers: [10, 10], Learning rate: 0.001, Epochs: 2000, Activation: tanh, Validation Accuracy: 100.00%\n",
      "Early stopping at epoch 190. Best validation accuracy: 100.00%\n",
      "Hidden layers: [10, 10], Learning rate: 0.01, Epochs: 1000, Activation: relu, Validation Accuracy: 94.44%\n",
      "Early stopping at epoch 120. Best validation accuracy: 100.00%\n",
      "Hidden layers: [10, 10], Learning rate: 0.01, Epochs: 1000, Activation: sigmoid, Validation Accuracy: 100.00%\n",
      "Early stopping at epoch 110. Best validation accuracy: 94.44%\n",
      "Hidden layers: [10, 10], Learning rate: 0.01, Epochs: 1000, Activation: tanh, Validation Accuracy: 94.44%\n",
      "Early stopping at epoch 110. Best validation accuracy: 94.44%\n",
      "Hidden layers: [10, 10], Learning rate: 0.01, Epochs: 2000, Activation: relu, Validation Accuracy: 94.44%\n",
      "Early stopping at epoch 110. Best validation accuracy: 100.00%\n",
      "Hidden layers: [10, 10], Learning rate: 0.01, Epochs: 2000, Activation: sigmoid, Validation Accuracy: 100.00%\n",
      "Early stopping at epoch 110. Best validation accuracy: 94.44%\n",
      "Hidden layers: [10, 10], Learning rate: 0.01, Epochs: 2000, Activation: tanh, Validation Accuracy: 94.44%\n"
     ]
    },
    {
     "name": "stderr",
     "output_type": "stream",
     "text": [
      "/scratch/local/46752745/ipykernel_3676114/38202783.py:80: RuntimeWarning: invalid value encountered in divide\n",
      "  return exp_x / exp_x.sum(axis=1, keepdims=True)\n"
     ]
    },
    {
     "name": "stdout",
     "output_type": "stream",
     "text": [
      "Early stopping at epoch 110. Best validation accuracy: 38.89%\n",
      "Hidden layers: [10, 10], Learning rate: 0.1, Epochs: 1000, Activation: relu, Validation Accuracy: 38.89%\n",
      "Early stopping at epoch 170. Best validation accuracy: 66.67%\n",
      "Hidden layers: [10, 10], Learning rate: 0.1, Epochs: 1000, Activation: sigmoid, Validation Accuracy: 61.11%\n",
      "Early stopping at epoch 160. Best validation accuracy: 94.44%\n",
      "Hidden layers: [10, 10], Learning rate: 0.1, Epochs: 1000, Activation: tanh, Validation Accuracy: 94.44%\n"
     ]
    },
    {
     "name": "stderr",
     "output_type": "stream",
     "text": [
      "/scratch/local/46752745/ipykernel_3676114/38202783.py:80: RuntimeWarning: invalid value encountered in divide\n",
      "  return exp_x / exp_x.sum(axis=1, keepdims=True)\n"
     ]
    },
    {
     "name": "stdout",
     "output_type": "stream",
     "text": [
      "Early stopping at epoch 110. Best validation accuracy: 38.89%\n",
      "Hidden layers: [10, 10], Learning rate: 0.1, Epochs: 2000, Activation: relu, Validation Accuracy: 38.89%\n",
      "Early stopping at epoch 110. Best validation accuracy: 66.67%\n",
      "Hidden layers: [10, 10], Learning rate: 0.1, Epochs: 2000, Activation: sigmoid, Validation Accuracy: 61.11%\n",
      "Early stopping at epoch 130. Best validation accuracy: 100.00%\n",
      "Hidden layers: [10, 10], Learning rate: 0.1, Epochs: 2000, Activation: tanh, Validation Accuracy: 94.44%\n",
      "Early stopping at epoch 160. Best validation accuracy: 94.44%\n",
      "Hidden layers: [20], Learning rate: 0.0001, Epochs: 1000, Activation: relu, Validation Accuracy: 94.44%\n",
      "Early stopping at epoch 280. Best validation accuracy: 94.44%\n",
      "Hidden layers: [20], Learning rate: 0.0001, Epochs: 1000, Activation: sigmoid, Validation Accuracy: 94.44%\n",
      "Early stopping at epoch 120. Best validation accuracy: 100.00%\n",
      "Hidden layers: [20], Learning rate: 0.0001, Epochs: 1000, Activation: tanh, Validation Accuracy: 100.00%\n",
      "Early stopping at epoch 150. Best validation accuracy: 88.89%\n",
      "Hidden layers: [20], Learning rate: 0.0001, Epochs: 2000, Activation: relu, Validation Accuracy: 88.89%\n",
      "Early stopping at epoch 170. Best validation accuracy: 83.33%\n",
      "Hidden layers: [20], Learning rate: 0.0001, Epochs: 2000, Activation: sigmoid, Validation Accuracy: 83.33%\n",
      "Early stopping at epoch 160. Best validation accuracy: 94.44%\n",
      "Hidden layers: [20], Learning rate: 0.0001, Epochs: 2000, Activation: tanh, Validation Accuracy: 94.44%\n",
      "Early stopping at epoch 130. Best validation accuracy: 100.00%\n",
      "Hidden layers: [20], Learning rate: 0.001, Epochs: 1000, Activation: relu, Validation Accuracy: 100.00%\n",
      "Early stopping at epoch 130. Best validation accuracy: 100.00%\n",
      "Hidden layers: [20], Learning rate: 0.001, Epochs: 1000, Activation: sigmoid, Validation Accuracy: 100.00%\n",
      "Early stopping at epoch 110. Best validation accuracy: 94.44%\n",
      "Hidden layers: [20], Learning rate: 0.001, Epochs: 1000, Activation: tanh, Validation Accuracy: 94.44%\n",
      "Early stopping at epoch 110. Best validation accuracy: 94.44%\n",
      "Hidden layers: [20], Learning rate: 0.001, Epochs: 2000, Activation: relu, Validation Accuracy: 94.44%\n",
      "Early stopping at epoch 120. Best validation accuracy: 100.00%\n",
      "Hidden layers: [20], Learning rate: 0.001, Epochs: 2000, Activation: sigmoid, Validation Accuracy: 100.00%\n",
      "Early stopping at epoch 130. Best validation accuracy: 100.00%\n",
      "Hidden layers: [20], Learning rate: 0.001, Epochs: 2000, Activation: tanh, Validation Accuracy: 100.00%\n",
      "Early stopping at epoch 110. Best validation accuracy: 100.00%\n",
      "Hidden layers: [20], Learning rate: 0.01, Epochs: 1000, Activation: relu, Validation Accuracy: 100.00%\n",
      "Early stopping at epoch 110. Best validation accuracy: 100.00%\n",
      "Hidden layers: [20], Learning rate: 0.01, Epochs: 1000, Activation: sigmoid, Validation Accuracy: 100.00%\n",
      "Early stopping at epoch 110. Best validation accuracy: 100.00%\n",
      "Hidden layers: [20], Learning rate: 0.01, Epochs: 1000, Activation: tanh, Validation Accuracy: 100.00%\n",
      "Early stopping at epoch 110. Best validation accuracy: 100.00%\n",
      "Hidden layers: [20], Learning rate: 0.01, Epochs: 2000, Activation: relu, Validation Accuracy: 94.44%\n",
      "Early stopping at epoch 110. Best validation accuracy: 100.00%\n",
      "Hidden layers: [20], Learning rate: 0.01, Epochs: 2000, Activation: sigmoid, Validation Accuracy: 100.00%\n",
      "Early stopping at epoch 110. Best validation accuracy: 100.00%\n",
      "Hidden layers: [20], Learning rate: 0.01, Epochs: 2000, Activation: tanh, Validation Accuracy: 100.00%\n",
      "Early stopping at epoch 100. Best validation accuracy: 44.44%\n",
      "Hidden layers: [20], Learning rate: 0.1, Epochs: 1000, Activation: relu, Validation Accuracy: 38.89%\n"
     ]
    },
    {
     "name": "stderr",
     "output_type": "stream",
     "text": [
      "/scratch/local/46752745/ipykernel_3676114/38202783.py:80: RuntimeWarning: invalid value encountered in divide\n",
      "  return exp_x / exp_x.sum(axis=1, keepdims=True)\n"
     ]
    },
    {
     "name": "stdout",
     "output_type": "stream",
     "text": [
      "Early stopping at epoch 110. Best validation accuracy: 94.44%\n",
      "Hidden layers: [20], Learning rate: 0.1, Epochs: 1000, Activation: sigmoid, Validation Accuracy: 94.44%\n",
      "Early stopping at epoch 110. Best validation accuracy: 100.00%\n",
      "Hidden layers: [20], Learning rate: 0.1, Epochs: 1000, Activation: tanh, Validation Accuracy: 94.44%\n"
     ]
    },
    {
     "name": "stderr",
     "output_type": "stream",
     "text": [
      "/scratch/local/46752745/ipykernel_3676114/38202783.py:80: RuntimeWarning: invalid value encountered in divide\n",
      "  return exp_x / exp_x.sum(axis=1, keepdims=True)\n"
     ]
    },
    {
     "name": "stdout",
     "output_type": "stream",
     "text": [
      "Early stopping at epoch 110. Best validation accuracy: 38.89%\n",
      "Hidden layers: [20], Learning rate: 0.1, Epochs: 2000, Activation: relu, Validation Accuracy: 38.89%\n",
      "Early stopping at epoch 110. Best validation accuracy: 100.00%\n",
      "Hidden layers: [20], Learning rate: 0.1, Epochs: 2000, Activation: sigmoid, Validation Accuracy: 94.44%\n",
      "Early stopping at epoch 110. Best validation accuracy: 94.44%\n",
      "Hidden layers: [20], Learning rate: 0.1, Epochs: 2000, Activation: tanh, Validation Accuracy: 94.44%\n",
      "\n",
      "Best Hyperparameters:\n",
      "{'hidden_sizes': [10], 'learning_rate': 0.0001, 'epochs': 1000, 'activation': 'relu'}\n",
      "Best Validation Accuracy: 100.00%\n",
      "Early stopping at epoch 520. Best validation accuracy: 100.00%\n",
      "Test Accuracy: 100.00%\n",
      "Training Accuracy: 97.18%\n"
     ]
    },
    {
     "data": {
      "image/png": "[encoded data removed]",
      "text/plain": [
       "<Figure size 720x360 with 1 Axes>"
      ]
     },
     "metadata": {
      "needs_background": "light"
     },
     "output_type": "display_data"
    },
    {
     "name": "stdout",
     "output_type": "stream",
     "text": [
      "\n",
      "Confusion Matrix for Training Set:\n",
      "             True 1  True 2  True 3\n",
      "Predicted 1      48       0       0\n",
      "Predicted 2       0      53       0\n",
      "Predicted 3       0       4      37\n"
     ]
    },
    {
     "data": {
      "image/png": "[encoded data removed]",
      "text/plain": [
       "<Figure size 576x432 with 2 Axes>"
      ]
     },
     "metadata": {
      "needs_background": "light"
     },
     "output_type": "display_data"
    },
    {
     "name": "stdout",
     "output_type": "stream",
     "text": [
      "\n",
      "Confusion Matrix for Test Set:\n",
      "             True 1  True 2  True 3\n",
      "Predicted 1       4       0       0\n",
      "Predicted 2       0      10       0\n",
      "Predicted 3       0       0       4\n"
     ]
    },
    {
     "data": {
      "image/png": "[encoded data removed]",
      "text/plain": [
       "<Figure size 576x432 with 2 Axes>"
      ]
     },
     "metadata": {
      "needs_background": "light"
     },
     "output_type": "display_data"
    }
   ],
   "source": [
    "import numpy as np\n",
    "import pandas as pd\n",
    "from ucimlrepo import fetch_ucirepo\n",
    "from itertools import product\n",
    "import matplotlib.pyplot as plt\n",
    "import seaborn as sns\n",
    "\n",
    "# Fetch the dataset\n",
    "wine = fetch_ucirepo(id=109)\n",
    "\n",
    "# Load features and target\n",
    "X = wine.data.features\n",
    "y = wine.data.targets.astype(int)\n",
    "\n",
    "# Split the dataset into training, validation, and testing sets\n",
    "np.random.seed(42)\n",
    "indices = np.random.permutation(len(X))\n",
    "split_index = int(0.8 * len(indices))\n",
    "train_indices, temp_indices = indices[:split_index], indices[split_index:]\n",
    "\n",
    "# Further split temp_indices into validation and test sets\n",
    "valid_split_index = int(0.5 * len(temp_indices))  # 50% of temp for validation\n",
    "valid_indices, test_indices = temp_indices[:valid_split_index], temp_indices[valid_split_index:]\n",
    "\n",
    "X_train = X.iloc[train_indices]\n",
    "X_valid = X.iloc[valid_indices]\n",
    "X_test = X.iloc[test_indices]\n",
    "y_train = y.iloc[train_indices].values.flatten()\n",
    "y_valid = y.iloc[valid_indices].values.flatten()\n",
    "y_test = y.iloc[test_indices].values.flatten()\n",
    "\n",
    "\n",
    "\n",
    "# Normalize the training set and get the mean and std\n",
    "X_train, mean, std = normalize(X_train)\n",
    "\n",
    "# Normalize the validation and test sets using the training set parameters\n",
    "X_valid, _, _ = normalize(X_valid, mean, std)\n",
    "X_test, _, _ = normalize(X_test, mean, std)\n",
    "\n",
    "\n",
    "\n",
    "# Grid search for hyperparameters\n",
    "hidden_size_options = [[10], [10, 10], [20]]\n",
    "learning_rate_options = [0.0001, 0.001, 0.01, 0.1]\n",
    "epochs_options = [1000, 2000]\n",
    "activation_functions = ['relu', 'sigmoid', 'tanh']\n",
    "\n",
    "best_accuracy = 0\n",
    "best_params = {}\n",
    "best_losses = []\n",
    "\n",
    "for hidden_sizes, learning_rate, epochs, activation in product(hidden_size_options, learning_rate_options, epochs_options, activation_functions):\n",
    "    accuracy, losses = evaluate_hyperparameters(hidden_sizes, learning_rate, epochs, activation)\n",
    "    print(f\"Hidden layers: {hidden_sizes}, Learning rate: {learning_rate}, Epochs: {epochs}, Activation: {activation}, Validation Accuracy: {accuracy * 100:.2f}%\")\n",
    "    \n",
    "    if accuracy > best_accuracy:\n",
    "        best_accuracy = accuracy\n",
    "        best_params = {'hidden_sizes': hidden_sizes, 'learning_rate': learning_rate, 'epochs': epochs, 'activation': activation}\n",
    "        best_losses = losses\n",
    "\n",
    "print(\"\\nBest Hyperparameters:\")\n",
    "print(best_params)\n",
    "print(f\"Best Validation Accuracy: {best_accuracy * 100:.2f}%\")\n",
    "\n",
    "# Final training with the best parameters\n",
    "final_mlp = MLP(input_size=X_train.shape[1], hidden_sizes=best_params['hidden_sizes'],\n",
    "                 output_size=3, learning_rate=best_params['learning_rate'], \n",
    "                 activation=best_params['activation'])\n",
    "final_mlp.train(X_train, y_train, best_params['epochs'], patience=40)\n",
    "\n",
    "# Evaluate on the test set\n",
    "y_test_pred = final_mlp.predict(X_test)\n",
    "test_accuracy = np.mean(y_test == y_test_pred)\n",
    "print(f\"Test Accuracy: {test_accuracy * 100:.2f}%\")\n",
    "\n",
    "# Evaluate on the training set\n",
    "y_train_pred = final_mlp.predict(X_train)\n",
    "train_accuracy = np.mean(y_train == y_train_pred)\n",
    "print(f\"Training Accuracy: {train_accuracy * 100:.2f}%\")\n",
    "\n",
    "# Plot the loss curve\n",
    "plt.figure(figsize=(10, 5))\n",
    "plt.plot(best_losses, label='Loss')\n",
    "plt.title('Loss Curve for Best Hyperparameters')\n",
    "plt.xlabel('Epochs')\n",
    "plt.ylabel('Loss')\n",
    "plt.legend()\n",
    "plt.grid()\n",
    "plt.show()\n",
    "\n",
    "# Function to create and print confusion matrix\n",
    "def plot_confusion_matrix(y_true, y_pred, title):\n",
    "    num_classes = 3  # Adjust based on your dataset\n",
    "    confusion_matrix = np.zeros((num_classes, num_classes), dtype=int)\n",
    "\n",
    "    for true_label, predicted_label in zip(y_true, y_pred):\n",
    "        confusion_matrix[predicted_label - 1, true_label - 1] += 1\n",
    "\n",
    "    confusion_df = pd.DataFrame(confusion_matrix, \n",
    "                                 index=[f'Predicted {i}' for i in range(1, num_classes + 1)],\n",
    "                                 columns=[f'True {i}' for i in range(1, num_classes + 1)])\n",
    "\n",
    "    print(f\"\\nConfusion Matrix for {title}:\")\n",
    "    print(confusion_df)\n",
    "\n",
    "    plt.figure(figsize=(8, 6))\n",
    "    sns.heatmap(confusion_df, annot=True, fmt='d', cmap='Blues')\n",
    "    plt.title(f'Confusion Matrix for {title}')\n",
    "    plt.ylabel('Predicted Label')\n",
    "    plt.xlabel('True Label')\n",
    "    plt.show()\n",
    "\n",
    "# Plot confusion matrices for training and test sets\n",
    "plot_confusion_matrix(y_train, y_train_pred, \"Training Set\")\n",
    "plot_confusion_matrix(y_test, y_test_pred, \"Test Set\")\n"
   ]
  },
  {
   "cell_type": "markdown",
   "id": "0bc12215-9337-43ba-8eb3-d44f3ccf9962",
   "metadata": {},
   "source": [
    "## Show the effect on performance of different step size"
   ]
  },
  {
   "cell_type": "markdown",
   "id": "10bc8e84-76bd-4874-b113-ac86d2f0609e",
   "metadata": {
    "tags": []
   },
   "source": [
    "#### step size = 0.0001"
   ]
  },
  {
   "cell_type": "code",
   "execution_count": 12,
   "id": "7cc4ef62-3bf1-4662-a5d2-11e936b98b61",
   "metadata": {
    "tags": []
   },
   "outputs": [
    {
     "name": "stdout",
     "output_type": "stream",
     "text": [
      "Early stopping at epoch 280. Best validation accuracy: 100.00%\n",
      "Hidden layers: [10], Learning rate: 0.0001, Epochs: 1000, Activation: relu, Validation Accuracy: 100.00%\n",
      "Early stopping at epoch 280. Best validation accuracy: 100.00%\n",
      "Hidden layers: [10], Learning rate: 0.0001, Epochs: 1000, Activation: sigmoid, Validation Accuracy: 100.00%\n",
      "Early stopping at epoch 200. Best validation accuracy: 94.44%\n",
      "Hidden layers: [10], Learning rate: 0.0001, Epochs: 1000, Activation: tanh, Validation Accuracy: 94.44%\n",
      "Early stopping at epoch 320. Best validation accuracy: 94.44%\n",
      "Hidden layers: [10], Learning rate: 0.0001, Epochs: 2000, Activation: relu, Validation Accuracy: 94.44%\n",
      "Early stopping at epoch 490. Best validation accuracy: 88.89%\n",
      "Hidden layers: [10], Learning rate: 0.0001, Epochs: 2000, Activation: sigmoid, Validation Accuracy: 88.89%\n",
      "Early stopping at epoch 180. Best validation accuracy: 100.00%\n",
      "Hidden layers: [10], Learning rate: 0.0001, Epochs: 2000, Activation: tanh, Validation Accuracy: 100.00%\n",
      "Early stopping at epoch 230. Best validation accuracy: 94.44%\n",
      "Hidden layers: [10, 10], Learning rate: 0.0001, Epochs: 1000, Activation: relu, Validation Accuracy: 94.44%\n",
      "Early stopping at epoch 210. Best validation accuracy: 50.00%\n",
      "Hidden layers: [10, 10], Learning rate: 0.0001, Epochs: 1000, Activation: sigmoid, Validation Accuracy: 33.33%\n",
      "Early stopping at epoch 210. Best validation accuracy: 94.44%\n",
      "Hidden layers: [10, 10], Learning rate: 0.0001, Epochs: 1000, Activation: tanh, Validation Accuracy: 94.44%\n",
      "Early stopping at epoch 240. Best validation accuracy: 100.00%\n",
      "Hidden layers: [10, 10], Learning rate: 0.0001, Epochs: 2000, Activation: relu, Validation Accuracy: 100.00%\n",
      "Early stopping at epoch 100. Best validation accuracy: 22.22%\n",
      "Hidden layers: [10, 10], Learning rate: 0.0001, Epochs: 2000, Activation: sigmoid, Validation Accuracy: 22.22%\n",
      "Early stopping at epoch 310. Best validation accuracy: 94.44%\n",
      "Hidden layers: [10, 10], Learning rate: 0.0001, Epochs: 2000, Activation: tanh, Validation Accuracy: 94.44%\n",
      "Early stopping at epoch 180. Best validation accuracy: 94.44%\n",
      "Hidden layers: [20], Learning rate: 0.0001, Epochs: 1000, Activation: relu, Validation Accuracy: 94.44%\n",
      "Early stopping at epoch 280. Best validation accuracy: 94.44%\n",
      "Hidden layers: [20], Learning rate: 0.0001, Epochs: 1000, Activation: sigmoid, Validation Accuracy: 94.44%\n",
      "Early stopping at epoch 150. Best validation accuracy: 94.44%\n",
      "Hidden layers: [20], Learning rate: 0.0001, Epochs: 1000, Activation: tanh, Validation Accuracy: 94.44%\n",
      "Early stopping at epoch 190. Best validation accuracy: 94.44%\n",
      "Hidden layers: [20], Learning rate: 0.0001, Epochs: 2000, Activation: relu, Validation Accuracy: 94.44%\n",
      "Early stopping at epoch 340. Best validation accuracy: 100.00%\n",
      "Hidden layers: [20], Learning rate: 0.0001, Epochs: 2000, Activation: sigmoid, Validation Accuracy: 100.00%\n",
      "Early stopping at epoch 170. Best validation accuracy: 94.44%\n",
      "Hidden layers: [20], Learning rate: 0.0001, Epochs: 2000, Activation: tanh, Validation Accuracy: 94.44%\n",
      "\n",
      "Best Hyperparameters:\n",
      "{'hidden_sizes': [10], 'learning_rate': 0.0001, 'epochs': 1000, 'activation': 'relu'}\n",
      "Best Validation Accuracy: 100.00%\n",
      "Early stopping at epoch 240. Best validation accuracy: 83.33%\n",
      "Test Accuracy: 83.33%\n",
      "Training Accuracy: 88.03%\n"
     ]
    },
    {
     "data": {
      "image/png": "[encoded data removed]",
      "text/plain": [
       "<Figure size 720x360 with 1 Axes>"
      ]
     },
     "metadata": {
      "needs_background": "light"
     },
     "output_type": "display_data"
    },
    {
     "name": "stdout",
     "output_type": "stream",
     "text": [
      "\n",
      "Confusion Matrix for Training Set:\n",
      "             True 1  True 2  True 3\n",
      "Predicted 1      46       8       0\n",
      "Predicted 2       2      42       0\n",
      "Predicted 3       0       7      37\n"
     ]
    },
    {
     "data": {
      "image/png": "[encoded data removed]",
      "text/plain": [
       "<Figure size 576x432 with 2 Axes>"
      ]
     },
     "metadata": {
      "needs_background": "light"
     },
     "output_type": "display_data"
    },
    {
     "name": "stdout",
     "output_type": "stream",
     "text": [
      "\n",
      "Confusion Matrix for Test Set:\n",
      "             True 1  True 2  True 3\n",
      "Predicted 1       4       2       0\n",
      "Predicted 2       0       7       0\n",
      "Predicted 3       0       1       4\n"
     ]
    },
    {
     "data": {
      "image/png": "[encoded data removed]",
      "text/plain": [
       "<Figure size 576x432 with 2 Axes>"
      ]
     },
     "metadata": {
      "needs_background": "light"
     },
     "output_type": "display_data"
    }
   ],
   "source": [
    "import numpy as np\n",
    "import pandas as pd\n",
    "from ucimlrepo import fetch_ucirepo\n",
    "from itertools import product\n",
    "import matplotlib.pyplot as plt\n",
    "import seaborn as sns\n",
    "\n",
    "# Fetch the dataset\n",
    "wine = fetch_ucirepo(id=109)\n",
    "\n",
    "# Load features and target\n",
    "X = wine.data.features\n",
    "y = wine.data.targets.astype(int)\n",
    "\n",
    "# Split the dataset into training, validation, and testing sets\n",
    "np.random.seed(42)\n",
    "indices = np.random.permutation(len(X))\n",
    "split_index = int(0.8 * len(indices))\n",
    "train_indices, temp_indices = indices[:split_index], indices[split_index:]\n",
    "\n",
    "# Further split temp_indices into validation and test sets\n",
    "valid_split_index = int(0.5 * len(temp_indices))  # 50% of temp for validation\n",
    "valid_indices, test_indices = temp_indices[:valid_split_index], temp_indices[valid_split_index:]\n",
    "\n",
    "X_train = X.iloc[train_indices]\n",
    "X_valid = X.iloc[valid_indices]\n",
    "X_test = X.iloc[test_indices]\n",
    "y_train = y.iloc[train_indices].values.flatten()\n",
    "y_valid = y.iloc[valid_indices].values.flatten()\n",
    "y_test = y.iloc[test_indices].values.flatten()\n",
    "\n",
    "\n",
    "\n",
    "# Normalize the training set and get the mean and std\n",
    "X_train, mean, std = normalize(X_train)\n",
    "\n",
    "# Normalize the validation and test sets using the training set parameters\n",
    "X_valid, _, _ = normalize(X_valid, mean, std)\n",
    "X_test, _, _ = normalize(X_test, mean, std)\n",
    "\n",
    "\n",
    "\n",
    "# Grid search for hyperparameters\n",
    "hidden_size_options = [[10], [10, 10], [20]]\n",
    "learning_rate_options = [0.0001]\n",
    "epochs_options = [1000, 2000]\n",
    "activation_functions = ['relu', 'sigmoid', 'tanh']\n",
    "\n",
    "best_accuracy = 0\n",
    "best_params = {}\n",
    "best_losses = []\n",
    "\n",
    "for hidden_sizes, learning_rate, epochs, activation in product(hidden_size_options, learning_rate_options, epochs_options, activation_functions):\n",
    "    accuracy, losses = evaluate_hyperparameters(hidden_sizes, learning_rate, epochs, activation)\n",
    "    print(f\"Hidden layers: {hidden_sizes}, Learning rate: {learning_rate}, Epochs: {epochs}, Activation: {activation}, Validation Accuracy: {accuracy * 100:.2f}%\")\n",
    "    \n",
    "    if accuracy > best_accuracy:\n",
    "        best_accuracy = accuracy\n",
    "        best_params = {'hidden_sizes': hidden_sizes, 'learning_rate': learning_rate, 'epochs': epochs, 'activation': activation}\n",
    "        best_losses = losses\n",
    "\n",
    "print(\"\\nBest Hyperparameters:\")\n",
    "print(best_params)\n",
    "print(f\"Best Validation Accuracy: {best_accuracy * 100:.2f}%\")\n",
    "\n",
    "# Final training with the best parameters\n",
    "final_mlp = MLP(input_size=X_train.shape[1], hidden_sizes=best_params['hidden_sizes'],\n",
    "                 output_size=3, learning_rate=best_params['learning_rate'], \n",
    "                 activation=best_params['activation'])\n",
    "final_mlp.train(X_train, y_train, best_params['epochs'])\n",
    "\n",
    "# Evaluate on the test set\n",
    "y_test_pred = final_mlp.predict(X_test)\n",
    "test_accuracy = np.mean(y_test == y_test_pred)\n",
    "print(f\"Test Accuracy: {test_accuracy * 100:.2f}%\")\n",
    "\n",
    "# Evaluate on the training set\n",
    "y_train_pred = final_mlp.predict(X_train)\n",
    "train_accuracy = np.mean(y_train == y_train_pred)\n",
    "print(f\"Training Accuracy: {train_accuracy * 100:.2f}%\")\n",
    "\n",
    "# Plot the loss curve\n",
    "plt.figure(figsize=(10, 5))\n",
    "plt.plot(best_losses, label='Loss')\n",
    "plt.title('Loss Curve for Best Hyperparameters')\n",
    "plt.xlabel('Epochs')\n",
    "plt.ylabel('Loss')\n",
    "plt.legend()\n",
    "plt.grid()\n",
    "plt.show()\n",
    "\n",
    "# Function to create and print confusion matrix\n",
    "def plot_confusion_matrix(y_true, y_pred, title):\n",
    "    num_classes = 3  # Adjust based on your dataset\n",
    "    confusion_matrix = np.zeros((num_classes, num_classes), dtype=int)\n",
    "\n",
    "    for true_label, predicted_label in zip(y_true, y_pred):\n",
    "        confusion_matrix[predicted_label - 1, true_label - 1] += 1\n",
    "\n",
    "    confusion_df = pd.DataFrame(confusion_matrix, \n",
    "                                 index=[f'Predicted {i}' for i in range(1, num_classes + 1)],\n",
    "                                 columns=[f'True {i}' for i in range(1, num_classes + 1)])\n",
    "\n",
    "    print(f\"\\nConfusion Matrix for {title}:\")\n",
    "    print(confusion_df)\n",
    "\n",
    "    plt.figure(figsize=(8, 6))\n",
    "    sns.heatmap(confusion_df, annot=True, fmt='d', cmap='Blues')\n",
    "    plt.title(f'Confusion Matrix for {title}')\n",
    "    plt.ylabel('Predicted Label')\n",
    "    plt.xlabel('True Label')\n",
    "    plt.show()\n",
    "\n",
    "# Plot confusion matrices for training and test sets\n",
    "plot_confusion_matrix(y_train, y_train_pred, \"Training Set\")\n",
    "plot_confusion_matrix(y_test, y_test_pred, \"Test Set\")\n"
   ]
  },
  {
   "cell_type": "markdown",
   "id": "f879a460-92fa-4c5a-b37c-9a0005c206b3",
   "metadata": {},
   "source": [
    "#### step_size = 0.001"
   ]
  },
  {
   "cell_type": "code",
   "execution_count": 13,
   "id": "96096c45-49fa-4159-b7fb-3d52008b677d",
   "metadata": {
    "tags": []
   },
   "outputs": [
    {
     "name": "stdout",
     "output_type": "stream",
     "text": [
      "Early stopping at epoch 120. Best validation accuracy: 100.00%\n",
      "Hidden layers: [10], Learning rate: 0.001, Epochs: 1000, Activation: relu, Validation Accuracy: 94.44%\n",
      "Early stopping at epoch 120. Best validation accuracy: 100.00%\n",
      "Hidden layers: [10], Learning rate: 0.001, Epochs: 1000, Activation: sigmoid, Validation Accuracy: 100.00%\n",
      "Early stopping at epoch 160. Best validation accuracy: 100.00%\n",
      "Hidden layers: [10], Learning rate: 0.001, Epochs: 1000, Activation: tanh, Validation Accuracy: 100.00%\n",
      "Early stopping at epoch 150. Best validation accuracy: 100.00%\n",
      "Hidden layers: [10], Learning rate: 0.001, Epochs: 2000, Activation: relu, Validation Accuracy: 100.00%\n",
      "Early stopping at epoch 160. Best validation accuracy: 100.00%\n",
      "Hidden layers: [10], Learning rate: 0.001, Epochs: 2000, Activation: sigmoid, Validation Accuracy: 100.00%\n",
      "Early stopping at epoch 110. Best validation accuracy: 100.00%\n",
      "Hidden layers: [10], Learning rate: 0.001, Epochs: 2000, Activation: tanh, Validation Accuracy: 100.00%\n",
      "Early stopping at epoch 140. Best validation accuracy: 100.00%\n",
      "Hidden layers: [10, 10], Learning rate: 0.001, Epochs: 1000, Activation: relu, Validation Accuracy: 100.00%\n",
      "Early stopping at epoch 230. Best validation accuracy: 100.00%\n",
      "Hidden layers: [10, 10], Learning rate: 0.001, Epochs: 1000, Activation: sigmoid, Validation Accuracy: 100.00%\n",
      "Early stopping at epoch 110. Best validation accuracy: 94.44%\n",
      "Hidden layers: [10, 10], Learning rate: 0.001, Epochs: 1000, Activation: tanh, Validation Accuracy: 94.44%\n",
      "Early stopping at epoch 120. Best validation accuracy: 100.00%\n",
      "Hidden layers: [10, 10], Learning rate: 0.001, Epochs: 2000, Activation: relu, Validation Accuracy: 94.44%\n",
      "Early stopping at epoch 190. Best validation accuracy: 100.00%\n",
      "Hidden layers: [10, 10], Learning rate: 0.001, Epochs: 2000, Activation: sigmoid, Validation Accuracy: 100.00%\n",
      "Early stopping at epoch 160. Best validation accuracy: 100.00%\n",
      "Hidden layers: [10, 10], Learning rate: 0.001, Epochs: 2000, Activation: tanh, Validation Accuracy: 100.00%\n",
      "Early stopping at epoch 110. Best validation accuracy: 94.44%\n",
      "Hidden layers: [20], Learning rate: 0.001, Epochs: 1000, Activation: relu, Validation Accuracy: 94.44%\n",
      "Early stopping at epoch 130. Best validation accuracy: 100.00%\n",
      "Hidden layers: [20], Learning rate: 0.001, Epochs: 1000, Activation: sigmoid, Validation Accuracy: 100.00%\n",
      "Early stopping at epoch 110. Best validation accuracy: 94.44%\n",
      "Hidden layers: [20], Learning rate: 0.001, Epochs: 1000, Activation: tanh, Validation Accuracy: 94.44%\n",
      "Early stopping at epoch 140. Best validation accuracy: 100.00%\n",
      "Hidden layers: [20], Learning rate: 0.001, Epochs: 2000, Activation: relu, Validation Accuracy: 100.00%\n",
      "Early stopping at epoch 130. Best validation accuracy: 100.00%\n",
      "Hidden layers: [20], Learning rate: 0.001, Epochs: 2000, Activation: sigmoid, Validation Accuracy: 100.00%\n",
      "Early stopping at epoch 140. Best validation accuracy: 100.00%\n",
      "Hidden layers: [20], Learning rate: 0.001, Epochs: 2000, Activation: tanh, Validation Accuracy: 100.00%\n",
      "\n",
      "Best Hyperparameters:\n",
      "{'hidden_sizes': [10], 'learning_rate': 0.001, 'epochs': 1000, 'activation': 'sigmoid'}\n",
      "Best Validation Accuracy: 100.00%\n",
      "Early stopping at epoch 140. Best validation accuracy: 100.00%\n",
      "Test Accuracy: 100.00%\n",
      "Training Accuracy: 98.59%\n"
     ]
    },
    {
     "data": {
      "image/png": "[encoded data removed]",
      "text/plain": [
       "<Figure size 720x360 with 1 Axes>"
      ]
     },
     "metadata": {
      "needs_background": "light"
     },
     "output_type": "display_data"
    },
    {
     "name": "stdout",
     "output_type": "stream",
     "text": [
      "\n",
      "Confusion Matrix for Training Set:\n",
      "             True 1  True 2  True 3\n",
      "Predicted 1      48       1       0\n",
      "Predicted 2       0      55       0\n",
      "Predicted 3       0       1      37\n"
     ]
    },
    {
     "data": {
      "image/png": "[encoded data removed]",
      "text/plain": [
       "<Figure size 576x432 with 2 Axes>"
      ]
     },
     "metadata": {
      "needs_background": "light"
     },
     "output_type": "display_data"
    },
    {
     "name": "stdout",
     "output_type": "stream",
     "text": [
      "\n",
      "Confusion Matrix for Test Set:\n",
      "             True 1  True 2  True 3\n",
      "Predicted 1       4       0       0\n",
      "Predicted 2       0      10       0\n",
      "Predicted 3       0       0       4\n"
     ]
    },
    {
     "data": {
      "image/png": "[encoded data removed]",
      "text/plain": [
       "<Figure size 576x432 with 2 Axes>"
      ]
     },
     "metadata": {
      "needs_background": "light"
     },
     "output_type": "display_data"
    }
   ],
   "source": [
    "import numpy as np\n",
    "import pandas as pd\n",
    "from ucimlrepo import fetch_ucirepo\n",
    "from itertools import product\n",
    "import matplotlib.pyplot as plt\n",
    "import seaborn as sns\n",
    "\n",
    "# Fetch the dataset\n",
    "wine = fetch_ucirepo(id=109)\n",
    "\n",
    "# Load features and target\n",
    "X = wine.data.features\n",
    "y = wine.data.targets.astype(int)\n",
    "\n",
    "# Split the dataset into training, validation, and testing sets\n",
    "np.random.seed(42)\n",
    "indices = np.random.permutation(len(X))\n",
    "split_index = int(0.8 * len(indices))\n",
    "train_indices, temp_indices = indices[:split_index], indices[split_index:]\n",
    "\n",
    "# Further split temp_indices into validation and test sets\n",
    "valid_split_index = int(0.5 * len(temp_indices))  # 50% of temp for validation\n",
    "valid_indices, test_indices = temp_indices[:valid_split_index], temp_indices[valid_split_index:]\n",
    "\n",
    "X_train = X.iloc[train_indices]\n",
    "X_valid = X.iloc[valid_indices]\n",
    "X_test = X.iloc[test_indices]\n",
    "y_train = y.iloc[train_indices].values.flatten()\n",
    "y_valid = y.iloc[valid_indices].values.flatten()\n",
    "y_test = y.iloc[test_indices].values.flatten()\n",
    "\n",
    "\n",
    "\n",
    "# Normalize the training set and get the mean and std\n",
    "X_train, mean, std = normalize(X_train)\n",
    "\n",
    "# Normalize the validation and test sets using the training set parameters\n",
    "X_valid, _, _ = normalize(X_valid, mean, std)\n",
    "X_test, _, _ = normalize(X_test, mean, std)\n",
    "\n",
    "\n",
    "\n",
    "# Grid search for hyperparameters\n",
    "hidden_size_options = [[10], [10, 10], [20]]\n",
    "learning_rate_options = [ 0.001]\n",
    "epochs_options = [1000, 2000]\n",
    "activation_functions = ['relu', 'sigmoid', 'tanh']\n",
    "\n",
    "best_accuracy = 0\n",
    "best_params = {}\n",
    "best_losses = []\n",
    "\n",
    "for hidden_sizes, learning_rate, epochs, activation in product(hidden_size_options, learning_rate_options, epochs_options, activation_functions):\n",
    "    accuracy, losses = evaluate_hyperparameters(hidden_sizes, learning_rate, epochs, activation)\n",
    "    print(f\"Hidden layers: {hidden_sizes}, Learning rate: {learning_rate}, Epochs: {epochs}, Activation: {activation}, Validation Accuracy: {accuracy * 100:.2f}%\")\n",
    "    \n",
    "    if accuracy > best_accuracy:\n",
    "        best_accuracy = accuracy\n",
    "        best_params = {'hidden_sizes': hidden_sizes, 'learning_rate': learning_rate, 'epochs': epochs, 'activation': activation}\n",
    "        best_losses = losses\n",
    "\n",
    "print(\"\\nBest Hyperparameters:\")\n",
    "print(best_params)\n",
    "print(f\"Best Validation Accuracy: {best_accuracy * 100:.2f}%\")\n",
    "\n",
    "# Final training with the best parameters\n",
    "final_mlp = MLP(input_size=X_train.shape[1], hidden_sizes=best_params['hidden_sizes'],\n",
    "                 output_size=3, learning_rate=best_params['learning_rate'], \n",
    "                 activation=best_params['activation'])\n",
    "final_mlp.train(X_train, y_train, best_params['epochs'])\n",
    "\n",
    "# Evaluate on the test set\n",
    "y_test_pred = final_mlp.predict(X_test)\n",
    "test_accuracy = np.mean(y_test == y_test_pred)\n",
    "print(f\"Test Accuracy: {test_accuracy * 100:.2f}%\")\n",
    "\n",
    "# Evaluate on the training set\n",
    "y_train_pred = final_mlp.predict(X_train)\n",
    "train_accuracy = np.mean(y_train == y_train_pred)\n",
    "print(f\"Training Accuracy: {train_accuracy * 100:.2f}%\")\n",
    "\n",
    "# Plot the loss curve\n",
    "plt.figure(figsize=(10, 5))\n",
    "plt.plot(best_losses, label='Loss')\n",
    "plt.title('Loss Curve for Best Hyperparameters')\n",
    "plt.xlabel('Epochs')\n",
    "plt.ylabel('Loss')\n",
    "plt.legend()\n",
    "plt.grid()\n",
    "plt.show()\n",
    "\n",
    "# Function to create and print confusion matrix\n",
    "def plot_confusion_matrix(y_true, y_pred, title):\n",
    "    num_classes = 3  # Adjust based on your dataset\n",
    "    confusion_matrix = np.zeros((num_classes, num_classes), dtype=int)\n",
    "\n",
    "    for true_label, predicted_label in zip(y_true, y_pred):\n",
    "        confusion_matrix[predicted_label - 1, true_label - 1] += 1\n",
    "\n",
    "    confusion_df = pd.DataFrame(confusion_matrix, \n",
    "                                 index=[f'Predicted {i}' for i in range(1, num_classes + 1)],\n",
    "                                 columns=[f'True {i}' for i in range(1, num_classes + 1)])\n",
    "\n",
    "    print(f\"\\nConfusion Matrix for {title}:\")\n",
    "    print(confusion_df)\n",
    "\n",
    "    plt.figure(figsize=(8, 6))\n",
    "    sns.heatmap(confusion_df, annot=True, fmt='d', cmap='Blues')\n",
    "    plt.title(f'Confusion Matrix for {title}')\n",
    "    plt.ylabel('Predicted Label')\n",
    "    plt.xlabel('True Label')\n",
    "    plt.show()\n",
    "\n",
    "# Plot confusion matrices for training and test sets\n",
    "plot_confusion_matrix(y_train, y_train_pred, \"Training Set\")\n",
    "plot_confusion_matrix(y_test, y_test_pred, \"Test Set\")\n"
   ]
  },
  {
   "cell_type": "markdown",
   "id": "3c091eb3-e0ac-4046-9e4c-65c27f703e8c",
   "metadata": {},
   "source": [
    "#### step size == 0.01"
   ]
  },
  {
   "cell_type": "code",
   "execution_count": 14,
   "id": "7a77ce81-37d5-4ea8-9f3e-e2bd10880325",
   "metadata": {
    "tags": []
   },
   "outputs": [
    {
     "name": "stdout",
     "output_type": "stream",
     "text": [
      "Early stopping at epoch 100. Best validation accuracy: 100.00%\n",
      "Hidden layers: [10], Learning rate: 0.01, Epochs: 1000, Activation: relu, Validation Accuracy: 94.44%\n",
      "Early stopping at epoch 110. Best validation accuracy: 100.00%\n",
      "Hidden layers: [10], Learning rate: 0.01, Epochs: 1000, Activation: sigmoid, Validation Accuracy: 100.00%\n",
      "Early stopping at epoch 110. Best validation accuracy: 100.00%\n",
      "Hidden layers: [10], Learning rate: 0.01, Epochs: 1000, Activation: tanh, Validation Accuracy: 94.44%\n",
      "Early stopping at epoch 110. Best validation accuracy: 100.00%\n",
      "Hidden layers: [10], Learning rate: 0.01, Epochs: 2000, Activation: relu, Validation Accuracy: 94.44%\n",
      "Early stopping at epoch 110. Best validation accuracy: 100.00%\n",
      "Hidden layers: [10], Learning rate: 0.01, Epochs: 2000, Activation: sigmoid, Validation Accuracy: 94.44%\n",
      "Early stopping at epoch 110. Best validation accuracy: 100.00%\n",
      "Hidden layers: [10], Learning rate: 0.01, Epochs: 2000, Activation: tanh, Validation Accuracy: 100.00%\n",
      "Early stopping at epoch 110. Best validation accuracy: 100.00%\n",
      "Hidden layers: [10, 10], Learning rate: 0.01, Epochs: 1000, Activation: relu, Validation Accuracy: 100.00%\n",
      "Early stopping at epoch 120. Best validation accuracy: 100.00%\n",
      "Hidden layers: [10, 10], Learning rate: 0.01, Epochs: 1000, Activation: sigmoid, Validation Accuracy: 94.44%\n",
      "Early stopping at epoch 110. Best validation accuracy: 94.44%\n",
      "Hidden layers: [10, 10], Learning rate: 0.01, Epochs: 1000, Activation: tanh, Validation Accuracy: 94.44%\n",
      "Early stopping at epoch 100. Best validation accuracy: 94.44%\n",
      "Hidden layers: [10, 10], Learning rate: 0.01, Epochs: 2000, Activation: relu, Validation Accuracy: 94.44%\n",
      "Early stopping at epoch 110. Best validation accuracy: 100.00%\n",
      "Hidden layers: [10, 10], Learning rate: 0.01, Epochs: 2000, Activation: sigmoid, Validation Accuracy: 100.00%\n",
      "Early stopping at epoch 110. Best validation accuracy: 100.00%\n",
      "Hidden layers: [10, 10], Learning rate: 0.01, Epochs: 2000, Activation: tanh, Validation Accuracy: 94.44%\n",
      "Early stopping at epoch 110. Best validation accuracy: 94.44%\n",
      "Hidden layers: [20], Learning rate: 0.01, Epochs: 1000, Activation: relu, Validation Accuracy: 94.44%\n",
      "Early stopping at epoch 110. Best validation accuracy: 100.00%\n",
      "Hidden layers: [20], Learning rate: 0.01, Epochs: 1000, Activation: sigmoid, Validation Accuracy: 94.44%\n",
      "Early stopping at epoch 100. Best validation accuracy: 94.44%\n",
      "Hidden layers: [20], Learning rate: 0.01, Epochs: 1000, Activation: tanh, Validation Accuracy: 94.44%\n",
      "Early stopping at epoch 110. Best validation accuracy: 100.00%\n",
      "Hidden layers: [20], Learning rate: 0.01, Epochs: 2000, Activation: relu, Validation Accuracy: 94.44%\n",
      "Early stopping at epoch 110. Best validation accuracy: 100.00%\n",
      "Hidden layers: [20], Learning rate: 0.01, Epochs: 2000, Activation: sigmoid, Validation Accuracy: 100.00%\n",
      "Early stopping at epoch 110. Best validation accuracy: 100.00%\n",
      "Hidden layers: [20], Learning rate: 0.01, Epochs: 2000, Activation: tanh, Validation Accuracy: 100.00%\n",
      "\n",
      "Best Hyperparameters:\n",
      "{'hidden_sizes': [10], 'learning_rate': 0.01, 'epochs': 1000, 'activation': 'sigmoid'}\n",
      "Best Validation Accuracy: 100.00%\n",
      "Early stopping at epoch 110. Best validation accuracy: 100.00%\n",
      "Test Accuracy: 100.00%\n",
      "Training Accuracy: 100.00%\n"
     ]
    },
    {
     "data": {
      "image/png": "[encoded data removed]",
      "text/plain": [
       "<Figure size 720x360 with 1 Axes>"
      ]
     },
     "metadata": {
      "needs_background": "light"
     },
     "output_type": "display_data"
    },
    {
     "name": "stdout",
     "output_type": "stream",
     "text": [
      "\n",
      "Confusion Matrix for Training Set:\n",
      "             True 1  True 2  True 3\n",
      "Predicted 1      48       0       0\n",
      "Predicted 2       0      57       0\n",
      "Predicted 3       0       0      37\n"
     ]
    },
    {
     "data": {
      "image/png": "[encoded data removed]",
      "text/plain": [
       "<Figure size 576x432 with 2 Axes>"
      ]
     },
     "metadata": {
      "needs_background": "light"
     },
     "output_type": "display_data"
    },
    {
     "name": "stdout",
     "output_type": "stream",
     "text": [
      "\n",
      "Confusion Matrix for Test Set:\n",
      "             True 1  True 2  True 3\n",
      "Predicted 1       4       0       0\n",
      "Predicted 2       0      10       0\n",
      "Predicted 3       0       0       4\n"
     ]
    },
    {
     "data": {
      "image/png": "[encoded data removed]",
      "text/plain": [
       "<Figure size 576x432 with 2 Axes>"
      ]
     },
     "metadata": {
      "needs_background": "light"
     },
     "output_type": "display_data"
    }
   ],
   "source": [
    "import numpy as np\n",
    "import pandas as pd\n",
    "from ucimlrepo import fetch_ucirepo\n",
    "from itertools import product\n",
    "import matplotlib.pyplot as plt\n",
    "import seaborn as sns\n",
    "\n",
    "# Fetch the dataset\n",
    "wine = fetch_ucirepo(id=109)\n",
    "\n",
    "# Load features and target\n",
    "X = wine.data.features\n",
    "y = wine.data.targets.astype(int)\n",
    "\n",
    "# Split the dataset into training, validation, and testing sets\n",
    "np.random.seed(42)\n",
    "indices = np.random.permutation(len(X))\n",
    "split_index = int(0.8 * len(indices))\n",
    "train_indices, temp_indices = indices[:split_index], indices[split_index:]\n",
    "\n",
    "# Further split temp_indices into validation and test sets\n",
    "valid_split_index = int(0.5 * len(temp_indices))  # 50% of temp for validation\n",
    "valid_indices, test_indices = temp_indices[:valid_split_index], temp_indices[valid_split_index:]\n",
    "\n",
    "X_train = X.iloc[train_indices]\n",
    "X_valid = X.iloc[valid_indices]\n",
    "X_test = X.iloc[test_indices]\n",
    "y_train = y.iloc[train_indices].values.flatten()\n",
    "y_valid = y.iloc[valid_indices].values.flatten()\n",
    "y_test = y.iloc[test_indices].values.flatten()\n",
    "\n",
    "\n",
    "\n",
    "# Normalize the training set and get the mean and std\n",
    "X_train, mean, std = normalize(X_train)\n",
    "\n",
    "# Normalize the validation and test sets using the training set parameters\n",
    "X_valid, _, _ = normalize(X_valid, mean, std)\n",
    "X_test, _, _ = normalize(X_test, mean, std)\n",
    "\n",
    "\n",
    "\n",
    "# Grid search for hyperparameters\n",
    "hidden_size_options = [[10], [10, 10], [20]]\n",
    "learning_rate_options = [0.01]\n",
    "epochs_options = [1000, 2000]\n",
    "activation_functions = ['relu', 'sigmoid', 'tanh']\n",
    "\n",
    "best_accuracy = 0\n",
    "best_params = {}\n",
    "best_losses = []\n",
    "\n",
    "for hidden_sizes, learning_rate, epochs, activation in product(hidden_size_options, learning_rate_options, epochs_options, activation_functions):\n",
    "    accuracy, losses = evaluate_hyperparameters(hidden_sizes, learning_rate, epochs, activation)\n",
    "    print(f\"Hidden layers: {hidden_sizes}, Learning rate: {learning_rate}, Epochs: {epochs}, Activation: {activation}, Validation Accuracy: {accuracy * 100:.2f}%\")\n",
    "    \n",
    "    if accuracy > best_accuracy:\n",
    "        best_accuracy = accuracy\n",
    "        best_params = {'hidden_sizes': hidden_sizes, 'learning_rate': learning_rate, 'epochs': epochs, 'activation': activation}\n",
    "        best_losses = losses\n",
    "\n",
    "print(\"\\nBest Hyperparameters:\")\n",
    "print(best_params)\n",
    "print(f\"Best Validation Accuracy: {best_accuracy * 100:.2f}%\")\n",
    "\n",
    "# Final training with the best parameters\n",
    "final_mlp = MLP(input_size=X_train.shape[1], hidden_sizes=best_params['hidden_sizes'],\n",
    "                 output_size=3, learning_rate=best_params['learning_rate'], \n",
    "                 activation=best_params['activation'])\n",
    "final_mlp.train(X_train, y_train, best_params['epochs'])\n",
    "\n",
    "# Evaluate on the test set\n",
    "y_test_pred = final_mlp.predict(X_test)\n",
    "test_accuracy = np.mean(y_test == y_test_pred)\n",
    "print(f\"Test Accuracy: {test_accuracy * 100:.2f}%\")\n",
    "\n",
    "# Evaluate on the training set\n",
    "y_train_pred = final_mlp.predict(X_train)\n",
    "train_accuracy = np.mean(y_train == y_train_pred)\n",
    "print(f\"Training Accuracy: {train_accuracy * 100:.2f}%\")\n",
    "\n",
    "# Plot the loss curve\n",
    "plt.figure(figsize=(10, 5))\n",
    "plt.plot(best_losses, label='Loss')\n",
    "plt.title('Loss Curve for Best Hyperparameters')\n",
    "plt.xlabel('Epochs')\n",
    "plt.ylabel('Loss')\n",
    "plt.legend()\n",
    "plt.grid()\n",
    "plt.show()\n",
    "\n",
    "# Function to create and print confusion matrix\n",
    "def plot_confusion_matrix(y_true, y_pred, title):\n",
    "    num_classes = 3  # Adjust based on your dataset\n",
    "    confusion_matrix = np.zeros((num_classes, num_classes), dtype=int)\n",
    "\n",
    "    for true_label, predicted_label in zip(y_true, y_pred):\n",
    "        confusion_matrix[predicted_label - 1, true_label - 1] += 1\n",
    "\n",
    "    confusion_df = pd.DataFrame(confusion_matrix, \n",
    "                                 index=[f'Predicted {i}' for i in range(1, num_classes + 1)],\n",
    "                                 columns=[f'True {i}' for i in range(1, num_classes + 1)])\n",
    "\n",
    "    print(f\"\\nConfusion Matrix for {title}:\")\n",
    "    print(confusion_df)\n",
    "\n",
    "    plt.figure(figsize=(8, 6))\n",
    "    sns.heatmap(confusion_df, annot=True, fmt='d', cmap='Blues')\n",
    "    plt.title(f'Confusion Matrix for {title}')\n",
    "    plt.ylabel('Predicted Label')\n",
    "    plt.xlabel('True Label')\n",
    "    plt.show()\n",
    "\n",
    "# Plot confusion matrices for training and test sets\n",
    "plot_confusion_matrix(y_train, y_train_pred, \"Training Set\")\n",
    "plot_confusion_matrix(y_test, y_test_pred, \"Test Set\")\n"
   ]
  },
  {
   "cell_type": "markdown",
   "id": "fc60d026-eaca-483a-90c3-ac952167b2e4",
   "metadata": {},
   "source": [
    "#### step_size == 0.1"
   ]
  },
  {
   "cell_type": "code",
   "execution_count": 15,
   "id": "b622355e-8e5d-4427-8298-fbd1cf255b8a",
   "metadata": {
    "tags": []
   },
   "outputs": [
    {
     "name": "stderr",
     "output_type": "stream",
     "text": [
      "/scratch/local/46752745/ipykernel_3676114/38202783.py:80: RuntimeWarning: invalid value encountered in divide\n",
      "  return exp_x / exp_x.sum(axis=1, keepdims=True)\n"
     ]
    },
    {
     "name": "stdout",
     "output_type": "stream",
     "text": [
      "Early stopping at epoch 110. Best validation accuracy: 38.89%\n",
      "Hidden layers: [10], Learning rate: 0.1, Epochs: 1000, Activation: relu, Validation Accuracy: 38.89%\n",
      "Early stopping at epoch 110. Best validation accuracy: 100.00%\n",
      "Hidden layers: [10], Learning rate: 0.1, Epochs: 1000, Activation: sigmoid, Validation Accuracy: 94.44%\n",
      "Early stopping at epoch 110. Best validation accuracy: 94.44%\n",
      "Hidden layers: [10], Learning rate: 0.1, Epochs: 1000, Activation: tanh, Validation Accuracy: 94.44%\n",
      "Early stopping at epoch 110. Best validation accuracy: 38.89%\n",
      "Hidden layers: [10], Learning rate: 0.1, Epochs: 2000, Activation: relu, Validation Accuracy: 38.89%\n"
     ]
    },
    {
     "name": "stderr",
     "output_type": "stream",
     "text": [
      "/scratch/local/46752745/ipykernel_3676114/38202783.py:80: RuntimeWarning: invalid value encountered in divide\n",
      "  return exp_x / exp_x.sum(axis=1, keepdims=True)\n"
     ]
    },
    {
     "name": "stdout",
     "output_type": "stream",
     "text": [
      "Early stopping at epoch 110. Best validation accuracy: 100.00%\n",
      "Hidden layers: [10], Learning rate: 0.1, Epochs: 2000, Activation: sigmoid, Validation Accuracy: 100.00%\n",
      "Early stopping at epoch 110. Best validation accuracy: 100.00%\n",
      "Hidden layers: [10], Learning rate: 0.1, Epochs: 2000, Activation: tanh, Validation Accuracy: 100.00%\n"
     ]
    },
    {
     "name": "stderr",
     "output_type": "stream",
     "text": [
      "/scratch/local/46752745/ipykernel_3676114/38202783.py:80: RuntimeWarning: invalid value encountered in divide\n",
      "  return exp_x / exp_x.sum(axis=1, keepdims=True)\n"
     ]
    },
    {
     "name": "stdout",
     "output_type": "stream",
     "text": [
      "Early stopping at epoch 110. Best validation accuracy: 38.89%\n",
      "Hidden layers: [10, 10], Learning rate: 0.1, Epochs: 1000, Activation: relu, Validation Accuracy: 38.89%\n",
      "Early stopping at epoch 150. Best validation accuracy: 94.44%\n",
      "Hidden layers: [10, 10], Learning rate: 0.1, Epochs: 1000, Activation: sigmoid, Validation Accuracy: 94.44%\n",
      "Early stopping at epoch 190. Best validation accuracy: 100.00%\n",
      "Hidden layers: [10, 10], Learning rate: 0.1, Epochs: 1000, Activation: tanh, Validation Accuracy: 94.44%\n"
     ]
    },
    {
     "name": "stderr",
     "output_type": "stream",
     "text": [
      "/scratch/local/46752745/ipykernel_3676114/38202783.py:80: RuntimeWarning: invalid value encountered in divide\n",
      "  return exp_x / exp_x.sum(axis=1, keepdims=True)\n"
     ]
    },
    {
     "name": "stdout",
     "output_type": "stream",
     "text": [
      "Early stopping at epoch 110. Best validation accuracy: 38.89%\n",
      "Hidden layers: [10, 10], Learning rate: 0.1, Epochs: 2000, Activation: relu, Validation Accuracy: 38.89%\n",
      "Early stopping at epoch 180. Best validation accuracy: 88.89%\n",
      "Hidden layers: [10, 10], Learning rate: 0.1, Epochs: 2000, Activation: sigmoid, Validation Accuracy: 88.89%\n",
      "Early stopping at epoch 130. Best validation accuracy: 94.44%\n",
      "Hidden layers: [10, 10], Learning rate: 0.1, Epochs: 2000, Activation: tanh, Validation Accuracy: 94.44%\n"
     ]
    },
    {
     "name": "stderr",
     "output_type": "stream",
     "text": [
      "/scratch/local/46752745/ipykernel_3676114/38202783.py:80: RuntimeWarning: invalid value encountered in divide\n",
      "  return exp_x / exp_x.sum(axis=1, keepdims=True)\n"
     ]
    },
    {
     "name": "stdout",
     "output_type": "stream",
     "text": [
      "Early stopping at epoch 110. Best validation accuracy: 38.89%\n",
      "Hidden layers: [20], Learning rate: 0.1, Epochs: 1000, Activation: relu, Validation Accuracy: 38.89%\n",
      "Early stopping at epoch 110. Best validation accuracy: 94.44%\n",
      "Hidden layers: [20], Learning rate: 0.1, Epochs: 1000, Activation: sigmoid, Validation Accuracy: 94.44%\n",
      "Early stopping at epoch 110. Best validation accuracy: 100.00%\n",
      "Hidden layers: [20], Learning rate: 0.1, Epochs: 1000, Activation: tanh, Validation Accuracy: 94.44%\n",
      "Early stopping at epoch 100. Best validation accuracy: 72.22%\n",
      "Hidden layers: [20], Learning rate: 0.1, Epochs: 2000, Activation: relu, Validation Accuracy: 38.89%\n"
     ]
    },
    {
     "name": "stderr",
     "output_type": "stream",
     "text": [
      "/scratch/local/46752745/ipykernel_3676114/38202783.py:80: RuntimeWarning: invalid value encountered in divide\n",
      "  return exp_x / exp_x.sum(axis=1, keepdims=True)\n"
     ]
    },
    {
     "name": "stdout",
     "output_type": "stream",
     "text": [
      "Early stopping at epoch 110. Best validation accuracy: 100.00%\n",
      "Hidden layers: [20], Learning rate: 0.1, Epochs: 2000, Activation: sigmoid, Validation Accuracy: 100.00%\n",
      "Early stopping at epoch 110. Best validation accuracy: 100.00%\n",
      "Hidden layers: [20], Learning rate: 0.1, Epochs: 2000, Activation: tanh, Validation Accuracy: 100.00%\n",
      "\n",
      "Best Hyperparameters:\n",
      "{'hidden_sizes': [10], 'learning_rate': 0.1, 'epochs': 2000, 'activation': 'sigmoid'}\n",
      "Best Validation Accuracy: 100.00%\n",
      "Early stopping at epoch 110. Best validation accuracy: 94.44%\n",
      "Test Accuracy: 100.00%\n",
      "Training Accuracy: 100.00%\n"
     ]
    },
    {
     "data": {
      "image/png": "[encoded data removed]",
      "text/plain": [
       "<Figure size 720x360 with 1 Axes>"
      ]
     },
     "metadata": {
      "needs_background": "light"
     },
     "output_type": "display_data"
    },
    {
     "name": "stdout",
     "output_type": "stream",
     "text": [
      "\n",
      "Confusion Matrix for Training Set:\n",
      "             True 1  True 2  True 3\n",
      "Predicted 1      48       0       0\n",
      "Predicted 2       0      57       0\n",
      "Predicted 3       0       0      37\n"
     ]
    },
    {
     "data": {
      "image/png": "[encoded data removed]",
      "text/plain": [
       "<Figure size 576x432 with 2 Axes>"
      ]
     },
     "metadata": {
      "needs_background": "light"
     },
     "output_type": "display_data"
    },
    {
     "name": "stdout",
     "output_type": "stream",
     "text": [
      "\n",
      "Confusion Matrix for Test Set:\n",
      "             True 1  True 2  True 3\n",
      "Predicted 1       4       0       0\n",
      "Predicted 2       0      10       0\n",
      "Predicted 3       0       0       4\n"
     ]
    },
    {
     "data": {
      "image/png": "[encoded data removed]",
      "text/plain": [
       "<Figure size 576x432 with 2 Axes>"
      ]
     },
     "metadata": {
      "needs_background": "light"
     },
     "output_type": "display_data"
    }
   ],
   "source": [
    "import numpy as np\n",
    "import pandas as pd\n",
    "from ucimlrepo import fetch_ucirepo\n",
    "from itertools import product\n",
    "import matplotlib.pyplot as plt\n",
    "import seaborn as sns\n",
    "\n",
    "# Fetch the dataset\n",
    "wine = fetch_ucirepo(id=109)\n",
    "\n",
    "# Load features and target\n",
    "X = wine.data.features\n",
    "y = wine.data.targets.astype(int)\n",
    "\n",
    "# Split the dataset into training, validation, and testing sets\n",
    "np.random.seed(42)\n",
    "indices = np.random.permutation(len(X))\n",
    "split_index = int(0.8 * len(indices))\n",
    "train_indices, temp_indices = indices[:split_index], indices[split_index:]\n",
    "\n",
    "# Further split temp_indices into validation and test sets\n",
    "valid_split_index = int(0.5 * len(temp_indices))  # 50% of temp for validation\n",
    "valid_indices, test_indices = temp_indices[:valid_split_index], temp_indices[valid_split_index:]\n",
    "\n",
    "X_train = X.iloc[train_indices]\n",
    "X_valid = X.iloc[valid_indices]\n",
    "X_test = X.iloc[test_indices]\n",
    "y_train = y.iloc[train_indices].values.flatten()\n",
    "y_valid = y.iloc[valid_indices].values.flatten()\n",
    "y_test = y.iloc[test_indices].values.flatten()\n",
    "\n",
    "\n",
    "\n",
    "# Normalize the training set and get the mean and std\n",
    "X_train, mean, std = normalize(X_train)\n",
    "\n",
    "# Normalize the validation and test sets using the training set parameters\n",
    "X_valid, _, _ = normalize(X_valid, mean, std)\n",
    "X_test, _, _ = normalize(X_test, mean, std)\n",
    "\n",
    "\n",
    "\n",
    "# Grid search for hyperparameters\n",
    "hidden_size_options = [[10], [10, 10], [20]]\n",
    "learning_rate_options = [0.1]\n",
    "epochs_options = [1000, 2000]\n",
    "activation_functions = ['relu', 'sigmoid', 'tanh']\n",
    "\n",
    "best_accuracy = 0\n",
    "best_params = {}\n",
    "best_losses = []\n",
    "\n",
    "for hidden_sizes, learning_rate, epochs, activation in product(hidden_size_options, learning_rate_options, epochs_options, activation_functions):\n",
    "    accuracy, losses = evaluate_hyperparameters(hidden_sizes, learning_rate, epochs, activation)\n",
    "    print(f\"Hidden layers: {hidden_sizes}, Learning rate: {learning_rate}, Epochs: {epochs}, Activation: {activation}, Validation Accuracy: {accuracy * 100:.2f}%\")\n",
    "    \n",
    "    if accuracy > best_accuracy:\n",
    "        best_accuracy = accuracy\n",
    "        best_params = {'hidden_sizes': hidden_sizes, 'learning_rate': learning_rate, 'epochs': epochs, 'activation': activation}\n",
    "        best_losses = losses\n",
    "\n",
    "print(\"\\nBest Hyperparameters:\")\n",
    "print(best_params)\n",
    "print(f\"Best Validation Accuracy: {best_accuracy * 100:.2f}%\")\n",
    "\n",
    "# Final training with the best parameters\n",
    "final_mlp = MLP(input_size=X_train.shape[1], hidden_sizes=best_params['hidden_sizes'],\n",
    "                 output_size=3, learning_rate=best_params['learning_rate'], \n",
    "                 activation=best_params['activation'])\n",
    "final_mlp.train(X_train, y_train, best_params['epochs'])\n",
    "\n",
    "# Evaluate on the test set\n",
    "y_test_pred = final_mlp.predict(X_test)\n",
    "test_accuracy = np.mean(y_test == y_test_pred)\n",
    "print(f\"Test Accuracy: {test_accuracy * 100:.2f}%\")\n",
    "\n",
    "# Evaluate on the training set\n",
    "y_train_pred = final_mlp.predict(X_train)\n",
    "train_accuracy = np.mean(y_train == y_train_pred)\n",
    "print(f\"Training Accuracy: {train_accuracy * 100:.2f}%\")\n",
    "\n",
    "# Plot the loss curve\n",
    "plt.figure(figsize=(10, 5))\n",
    "plt.plot(best_losses, label='Loss')\n",
    "plt.title('Loss Curve for Best Hyperparameters')\n",
    "plt.xlabel('Epochs')\n",
    "plt.ylabel('Loss')\n",
    "plt.legend()\n",
    "plt.grid()\n",
    "plt.show()\n",
    "\n",
    "# Function to create and print confusion matrix\n",
    "def plot_confusion_matrix(y_true, y_pred, title):\n",
    "    num_classes = 3  # Adjust based on your dataset\n",
    "    confusion_matrix = np.zeros((num_classes, num_classes), dtype=int)\n",
    "\n",
    "    for true_label, predicted_label in zip(y_true, y_pred):\n",
    "        confusion_matrix[predicted_label - 1, true_label - 1] += 1\n",
    "\n",
    "    confusion_df = pd.DataFrame(confusion_matrix, \n",
    "                                 index=[f'Predicted {i}' for i in range(1, num_classes + 1)],\n",
    "                                 columns=[f'True {i}' for i in range(1, num_classes + 1)])\n",
    "\n",
    "    print(f\"\\nConfusion Matrix for {title}:\")\n",
    "    print(confusion_df)\n",
    "\n",
    "    plt.figure(figsize=(8, 6))\n",
    "    sns.heatmap(confusion_df, annot=True, fmt='d', cmap='Blues')\n",
    "    plt.title(f'Confusion Matrix for {title}')\n",
    "    plt.ylabel('Predicted Label')\n",
    "    plt.xlabel('True Label')\n",
    "    plt.show()\n",
    "\n",
    "# Plot confusion matrices for training and test sets\n",
    "plot_confusion_matrix(y_train, y_train_pred, \"Training Set\")\n",
    "plot_confusion_matrix(y_test, y_test_pred, \"Test Set\")\n"
   ]
  },
  {
   "cell_type": "code",
   "execution_count": null,
   "id": "96853ea0-87a9-4691-b9e4-8088988585a6",
   "metadata": {},
   "outputs": [],
   "source": []
  }
 ],
 "metadata": {
  "kernelspec": {
   "display_name": "UFRC Python-3.10",
   "language": "python",
   "name": "python3-3.10-ufrc"
  },
  "language_info": {
   "codemirror_mode": {
    "name": "ipython",
    "version": 3
   },
   "file_extension": ".py",
   "mimetype": "text/x-python",
   "name": "python",
   "nbconvert_exporter": "python",
   "pygments_lexer": "ipython3",
   "version": "3.10.8"
  }
 },
 "nbformat": 4,
 "nbformat_minor": 5
}
